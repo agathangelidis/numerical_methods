{
 "cells": [
  {
   "cell_type": "markdown",
   "metadata": {},
   "source": [
    "## Εισαγωγή στη βιβλιοθήκη NumPy\n",
    "________"
   ]
  },
  {
   "cell_type": "markdown",
   "metadata": {},
   "source": [
    "Η βιβλιοθήκη ΝumPy: \n",
    "- δίνει τη δυνατότητα για τη δημιουργία πινάκων ν-διαστάσεων (ndarray objects)\n",
    "\n",
    "- παρέχει βελτιστοποιημένους μαθηματικούς αλγόριθμους"
   ]
  },
  {
   "cell_type": "code",
   "execution_count": null,
   "metadata": {},
   "outputs": [],
   "source": [
    "import numpy as np\n"
   ]
  },
  {
   "cell_type": "markdown",
   "metadata": {},
   "source": [
    "Με απλές λίστες, χωρίς τη βιβλιοθήκη NumPy:"
   ]
  },
  {
   "cell_type": "code",
   "execution_count": null,
   "metadata": {},
   "outputs": [],
   "source": [
    "list_a = [3, 2, 1]\n",
    "list_b = [2, 5, 6]\n"
   ]
  },
  {
   "cell_type": "code",
   "execution_count": null,
   "metadata": {},
   "outputs": [],
   "source": [
    "list_a + list_b  # το + ενώνει δύο lists\n"
   ]
  },
  {
   "cell_type": "code",
   "execution_count": null,
   "metadata": {},
   "outputs": [],
   "source": [
    "list_c = []\n",
    "for i, j in zip(list_a, list_b):\n",
    "    list_c.append(i + j)\n",
    "list_c\n"
   ]
  },
  {
   "cell_type": "markdown",
   "metadata": {},
   "source": [
    "Χρησιμοποιώντας τη βιβλιοθήκη NumPy:"
   ]
  },
  {
   "cell_type": "code",
   "execution_count": null,
   "metadata": {},
   "outputs": [],
   "source": [
    "a = np.array(list_a)  # μέσω της συνάρτησης array φτιάχουμε ένα ndarray object\n",
    "a\n"
   ]
  },
  {
   "cell_type": "code",
   "execution_count": null,
   "metadata": {},
   "outputs": [],
   "source": [
    "type(a)\n"
   ]
  },
  {
   "cell_type": "code",
   "execution_count": null,
   "metadata": {},
   "outputs": [],
   "source": [
    "b = np.array(list_b)\n",
    "b\n"
   ]
  },
  {
   "cell_type": "code",
   "execution_count": null,
   "metadata": {},
   "outputs": [],
   "source": [
    "c = a + b  # η πράξη γίνεται ανά στοιχείο\n",
    "c\n"
   ]
  },
  {
   "cell_type": "code",
   "execution_count": null,
   "metadata": {},
   "outputs": [],
   "source": [
    "d = a * b  # η πράξη γίνεται ανά στοιχείο\n",
    "d\n"
   ]
  },
  {
   "cell_type": "markdown",
   "metadata": {},
   "source": [
    "Το for loop γίνεται εσωτερικά στο NumPy χρησιμοποιώντας κώδικα γραμμένο στην C.\n",
    "\n",
    "Εκτός και αν δεν γίνεται διαφορετικά, τα for loops πρέπει να αποφεύγονται!"
   ]
  },
  {
   "cell_type": "code",
   "execution_count": null,
   "metadata": {},
   "outputs": [],
   "source": [
    "a = np.array([3, 2, 5])  # εισάγουμε απ' ευθείας λίστα στη συνάρτηση array\n",
    "a\n"
   ]
  },
  {
   "cell_type": "code",
   "execution_count": null,
   "metadata": {},
   "outputs": [],
   "source": [
    "b = np.array([[1, 1, 2], [0, 0, 0]])  # πίνακας 2 χ 3\n",
    "b\n"
   ]
  },
  {
   "cell_type": "code",
   "execution_count": null,
   "metadata": {},
   "outputs": [],
   "source": [
    "c = np.array([\n",
    "    [3, 1, 2],\n",
    "    [0, 0, 10]\n",
    "])\n",
    "c\n"
   ]
  },
  {
   "cell_type": "markdown",
   "metadata": {},
   "source": [
    "### Άσκηση\n",
    "\n",
    "Φτιάξτε έναν πίνακα και υψώστε τον στο τετράγωνο"
   ]
  },
  {
   "cell_type": "code",
   "execution_count": null,
   "metadata": {},
   "outputs": [],
   "source": []
  },
  {
   "cell_type": "markdown",
   "metadata": {},
   "source": [
    "NoneType για arrays: `np.nan`"
   ]
  },
  {
   "cell_type": "code",
   "execution_count": null,
   "metadata": {},
   "outputs": [],
   "source": [
    "a = np.array([3, np.nan, 2])  \n",
    "b = np.array([1, 4, 3])\n",
    "a + b"
   ]
  },
  {
   "cell_type": "markdown",
   "metadata": {},
   "source": [
    "### Επιλογή στοιχείων από ένα array"
   ]
  },
  {
   "cell_type": "markdown",
   "metadata": {},
   "source": [
    "Αρίθμηση για array με 3 γραμμές (rows) και 3 στήλες (columns):\n",
    "\n",
    "|       | col-0 | col-1 | col-2 |\n",
    "| ----- | ----- | ----- | ----- |\n",
    "| row-0 | 0, 0  | 0, 1  | 0, 2  |\n",
    "| row-1 | 1, 0  | 1, 1  | 1, 2  |\n",
    "| row-2 | 2, 0  | 2, 1  | 2, 2  |"
   ]
  },
  {
   "cell_type": "code",
   "execution_count": null,
   "metadata": {},
   "outputs": [],
   "source": [
    "b = np.array([[3, 1, 5], [0, 0, 10]])\n",
    "b\n"
   ]
  },
  {
   "cell_type": "markdown",
   "metadata": {},
   "source": [
    "- Indexing σε ένα array"
   ]
  },
  {
   "cell_type": "code",
   "execution_count": null,
   "metadata": {},
   "outputs": [],
   "source": [
    "b[0, 2]  # πρώτη γραμμή, τρίτη στήλη\n"
   ]
  },
  {
   "cell_type": "code",
   "execution_count": null,
   "metadata": {},
   "outputs": [],
   "source": [
    "b[0]  # πρώτη γραμμή\n"
   ]
  },
  {
   "cell_type": "markdown",
   "metadata": {},
   "source": [
    "- Slicing σε ένα array"
   ]
  },
  {
   "cell_type": "code",
   "execution_count": null,
   "metadata": {},
   "outputs": [],
   "source": [
    "b[:, 1]  # όλες οι γραμμές, δεύτερη στήλη\n"
   ]
  },
  {
   "cell_type": "code",
   "execution_count": null,
   "metadata": {},
   "outputs": [],
   "source": [
    "b[:, 0:2]  # όλες οι γραμμές, πρώτη και δεύτερη στήλη (στήλες 0 και 1) \n"
   ]
  },
  {
   "cell_type": "markdown",
   "metadata": {},
   "source": [
    "### Άσκηση: \n",
    "\n",
    "Ξεκινώντας από τον παρακάτω πίνακα:\n",
    "\n",
    "|       | col-0 | col-1 | col-2 | col-3 |\n",
    "| ----- | ----- | ----- | ----- | ----- |\n",
    "| row-0 | 3     | 2     | 5     | 60    |\n",
    "| row-1 | 1     | 1     | 4     | 0     |\n",
    "| row-2 | 10    | 4     | 3     | 2     |\n",
    "\n",
    "Χρησιμοποιώντας slicing να καταλήξετε σε αυτόν:\n",
    "\n",
    "|       | col-0 | col-1 |\n",
    "| ----- | ----- | ----- |\n",
    "| row-0 | 1     | 4     |\n",
    "| row-1 | 4     | 3     |"
   ]
  },
  {
   "cell_type": "code",
   "execution_count": null,
   "metadata": {},
   "outputs": [],
   "source": []
  },
  {
   "cell_type": "markdown",
   "metadata": {},
   "source": [
    "- Αντικατάσταση τιμών ενός array"
   ]
  },
  {
   "cell_type": "code",
   "execution_count": null,
   "metadata": {},
   "outputs": [],
   "source": [
    "a = np.array([3, 5, 6])\n",
    "a[1] = 100  # δεύτερο στοιχείο\n",
    "a\n"
   ]
  },
  {
   "cell_type": "code",
   "execution_count": null,
   "metadata": {},
   "outputs": [],
   "source": [
    "a[0:2] = 200  #πρώτη και δεύτερη στήλη (στήλες 0 και 1)\n",
    "a\n"
   ]
  },
  {
   "cell_type": "markdown",
   "metadata": {},
   "source": [
    "### Άσκηση: \n",
    "\n",
    "Τροποποιήστε τον παρακάτω πίνακα ώστε η τελευταία του γραμμή να είναι μηδέν:\n",
    "\n",
    "|       | col-0 | col-1 | col-2 |\n",
    "| ----- | ----- | ----- | ----- | \n",
    "| row-0 | 5     | 1     | 4     | \n",
    "| row-1 | 0     | 3     | 2     | \n",
    "| row-2 | 2     | 19    | 2     | \n"
   ]
  },
  {
   "cell_type": "code",
   "execution_count": null,
   "metadata": {},
   "outputs": [],
   "source": []
  },
  {
   "cell_type": "markdown",
   "metadata": {},
   "source": [
    "### Boolean indexing\n",
    "\n",
    "Επιλογή των στοιχείων ενός πίνακα με βάση μια συνθήκη"
   ]
  },
  {
   "cell_type": "code",
   "execution_count": null,
   "metadata": {},
   "outputs": [],
   "source": [
    "a = np.array([2, 1, 3])"
   ]
  },
  {
   "cell_type": "code",
   "execution_count": null,
   "metadata": {},
   "outputs": [],
   "source": [
    "a[a > 1]  # επιλογή στοιχείων"
   ]
  },
  {
   "cell_type": "code",
   "execution_count": null,
   "metadata": {},
   "outputs": [],
   "source": [
    "a[a > 1] = 10  # αντικατάσταση στοιχείων\n",
    "a"
   ]
  },
  {
   "cell_type": "markdown",
   "metadata": {},
   "source": [
    "### Άσκηση: \n",
    "\n",
    "Στον παρακάτω πίνακα να αντικαταστήσετε τους αρνητικούς αριθμούς με μηδέν:\n",
    "\n",
    "|       | col-0 | col-1 | col-2 |\n",
    "| ----- | ----- | ----- | ----- |\n",
    "| row-0 | 2     | 4     | 3     |\n",
    "| row-1 | 5     | -5    | -3    |\n",
    "| row-2 | 0     | -10   | 3     |"
   ]
  },
  {
   "cell_type": "code",
   "execution_count": null,
   "metadata": {},
   "outputs": [],
   "source": []
  },
  {
   "cell_type": "markdown",
   "metadata": {},
   "source": [
    "### Attributes και methods"
   ]
  },
  {
   "cell_type": "markdown",
   "metadata": {},
   "source": [
    "Ένα object απαρτίζεται από:  \n",
    "- τις τιμές και τα χαρακτηριστικά του (attributes)\n",
    "\n",
    "- ενσωματωμένες συναρτήσεις (methods) που το τροποποιούν"
   ]
  },
  {
   "cell_type": "code",
   "execution_count": null,
   "metadata": {},
   "outputs": [],
   "source": [
    "b = np.array([\n",
    "    [3, 5, 0],\n",
    "    [6, 9, 11]\n",
    "])"
   ]
  },
  {
   "cell_type": "code",
   "execution_count": null,
   "metadata": {},
   "outputs": [],
   "source": [
    "b.dtype  # τύπος των δεδομένων (attribute)\n"
   ]
  },
  {
   "cell_type": "code",
   "execution_count": null,
   "metadata": {},
   "outputs": [],
   "source": [
    "b.shape  # αριθμός γραμμών και στηλών (attribute)\n"
   ]
  },
  {
   "cell_type": "code",
   "execution_count": null,
   "metadata": {},
   "outputs": [],
   "source": [
    "b.max()  # (method)\n"
   ]
  },
  {
   "cell_type": "code",
   "execution_count": null,
   "metadata": {},
   "outputs": [],
   "source": [
    "b.max(axis=0)  # μέγιστη τιμή ανά στήλη (method)\n"
   ]
  },
  {
   "cell_type": "code",
   "execution_count": null,
   "metadata": {},
   "outputs": [],
   "source": [
    "b.max(axis=1)  # μέγιστη τιμή ανά γραμμή (method)\n"
   ]
  },
  {
   "cell_type": "markdown",
   "metadata": {},
   "source": [
    "### Άσκηση: \n",
    "\n",
    "Στον παρακάτω πίνακα υπολογίστε:\n",
    "- την ελάχιστη (min) τιμή ανά στήλη\n",
    "- τη διάμεσο (median) τιμή ανά γραμμή\n",
    "\n",
    "|       | col-0 | col-1 |\n",
    "| ----- | ----- | ----- |\n",
    "| row-0 | 1     | 0     |\n",
    "| row-1 | 15    | -1    |"
   ]
  },
  {
   "cell_type": "code",
   "execution_count": null,
   "metadata": {},
   "outputs": [],
   "source": []
  },
  {
   "cell_type": "markdown",
   "metadata": {},
   "source": [
    "### Συναρτήσεις"
   ]
  },
  {
   "cell_type": "markdown",
   "metadata": {},
   "source": [
    "- Έλεγχος ισότητας"
   ]
  },
  {
   "cell_type": "code",
   "execution_count": null,
   "metadata": {},
   "outputs": [],
   "source": [
    "a = np.array([5, 3, 2])\n",
    "b = np.array([5, 3, 2])\n"
   ]
  },
  {
   "cell_type": "code",
   "execution_count": null,
   "metadata": {},
   "outputs": [],
   "source": [
    "np.equal(a, b)  # σύγκριση στοιχείο με στοιχείο "
   ]
  },
  {
   "cell_type": "code",
   "execution_count": null,
   "metadata": {},
   "outputs": [],
   "source": [
    "np.array_equal(a, b)  # συνολική σύγκριση"
   ]
  },
  {
   "cell_type": "code",
   "execution_count": null,
   "metadata": {},
   "outputs": [],
   "source": [
    "np.allclose(a, b)  # συνολική σύγκριση για αριθμούς με πολλά δεκαδικά"
   ]
  },
  {
   "cell_type": "markdown",
   "metadata": {},
   "source": [
    "- Δημιουργία πίνακα με μηδενικές τιμές"
   ]
  },
  {
   "cell_type": "code",
   "execution_count": null,
   "metadata": {},
   "outputs": [],
   "source": [
    "num_rows = 2\n",
    "num_columns = 3\n",
    "np.zeros((num_rows, num_columns))  # προσοχή, χρειάζεται tuple\n"
   ]
  },
  {
   "cell_type": "code",
   "execution_count": null,
   "metadata": {},
   "outputs": [],
   "source": [
    "np.zeros((3, 2), dtype=\"int\")\n"
   ]
  },
  {
   "cell_type": "markdown",
   "metadata": {},
   "source": [
    "- Μαθηματικές σταθερές και συναρτήσεις"
   ]
  },
  {
   "cell_type": "code",
   "execution_count": null,
   "metadata": {},
   "outputs": [],
   "source": [
    "np.pi\n"
   ]
  },
  {
   "cell_type": "code",
   "execution_count": null,
   "metadata": {},
   "outputs": [],
   "source": [
    "np.cos(0)\n"
   ]
  },
  {
   "cell_type": "code",
   "execution_count": null,
   "metadata": {},
   "outputs": [],
   "source": [
    "a = np.array([np.pi, np.pi / 2, np.pi / 4])\n",
    "np.sin(a)\n"
   ]
  },
  {
   "cell_type": "code",
   "execution_count": null,
   "metadata": {},
   "outputs": [],
   "source": [
    "a = np.array([[3, 2], [5, 6]])\n",
    "a"
   ]
  },
  {
   "cell_type": "code",
   "execution_count": null,
   "metadata": {},
   "outputs": [],
   "source": [
    "np.mean(a)"
   ]
  },
  {
   "cell_type": "code",
   "execution_count": null,
   "metadata": {},
   "outputs": [],
   "source": [
    "np.mean(a, axis=0)"
   ]
  },
  {
   "cell_type": "markdown",
   "metadata": {},
   "source": [
    "### Άσκηση: \n",
    "\n",
    "Στον παρακάτω πίνακα προσπαθήστε αρχικά να υπολογίσετε τη συνολική μέση τιμή (`np.mean`):\n",
    "\n",
    "|       | col-0  | col-1 |\n",
    "| ----- | ------ | ----- |\n",
    "| row-0 | 3      | 4     |\n",
    "| row-1 | np.nan | 5     |\n",
    "\n",
    "Η συνάρτηση `np.nanmean` τι αποτέλεσμα βγάζει;"
   ]
  },
  {
   "cell_type": "code",
   "execution_count": null,
   "metadata": {},
   "outputs": [],
   "source": []
  },
  {
   "cell_type": "markdown",
   "metadata": {},
   "source": [
    "- Δημιουργία πίνακα με επανάληψη τιμών"
   ]
  },
  {
   "cell_type": "code",
   "execution_count": null,
   "metadata": {},
   "outputs": [],
   "source": [
    "np.repeat(a=100, repeats=5)\n"
   ]
  },
  {
   "cell_type": "markdown",
   "metadata": {},
   "source": [
    "- Δημιουργία διαγωνίων πίνακα"
   ]
  },
  {
   "cell_type": "code",
   "execution_count": null,
   "metadata": {},
   "outputs": [],
   "source": [
    "a = np.zeros((3, 3))\n",
    "np.fill_diagonal(a, 2)  # προσοχή λειτουργεί in-place\n",
    "a\n"
   ]
  },
  {
   "cell_type": "code",
   "execution_count": null,
   "metadata": {},
   "outputs": [],
   "source": [
    "diagonal_values = np.array([3, 3, 3])\n",
    "b = np.diag(diagonal_values)\n",
    "b\n"
   ]
  },
  {
   "cell_type": "code",
   "execution_count": null,
   "metadata": {},
   "outputs": [],
   "source": [
    "offset_diagonal_values = np.array([10, 10])\n",
    "c = np.diag(offset_diagonal_values, k=1)  # το k δηλώνει τη μετατόπιση της διαγωνίου\n",
    "c\n"
   ]
  },
  {
   "cell_type": "markdown",
   "metadata": {},
   "source": [
    "### Άσκηση\n",
    "Δημιουργήστε τον παρακάτω πίνακα μέσω της παραπάνω συνάρτησης:\n",
    "\n",
    "|       | col-0 | col-1 | col-2 |\n",
    "| ----- | ----- | ----- | ----- |\n",
    "| row-0 | 0     | 0     | 0     |\n",
    "| row-1 | 5     | 0     | 0     |\n",
    "| row-2 | 0     | 5     | 0     |\n"
   ]
  },
  {
   "cell_type": "code",
   "execution_count": null,
   "metadata": {},
   "outputs": [],
   "source": []
  },
  {
   "cell_type": "markdown",
   "metadata": {},
   "source": [
    "Όταν κάνουμε slicing δεν δημιουργείται ένα καινούργιο object στην μνήμη του υπολογιστή.\n",
    "\n",
    "Αυτό είναι ιδιαίτερα χρήσιμο όταν επεξεργαζόμαστε μεγάλο όγκο δεδομένων.\n",
    "\n",
    "Όμως μπορεί να οδηγήσει σε φαινομενικά περίεργα αποτελέσματα:"
   ]
  },
  {
   "cell_type": "code",
   "execution_count": null,
   "metadata": {},
   "outputs": [],
   "source": [
    "a = np.array([3, 0, 2])\n",
    "b = a[1:]\n",
    "b[1] = 100\n",
    "a"
   ]
  },
  {
   "cell_type": "markdown",
   "metadata": {},
   "source": [
    "Προσπαθήστε να το αποφύγετε δημιουργώντας ένα αντίγραφο του αρχικού array πριν το slicing:\n",
    "    \n",
    "    a = np.array([3, 0, 2])\n",
    "    b = a.copy()\n",
    "    ...\n"
   ]
  },
  {
   "cell_type": "code",
   "execution_count": null,
   "metadata": {},
   "outputs": [],
   "source": []
  },
  {
   "cell_type": "markdown",
   "metadata": {},
   "source": [
    "### Γραμμική άλγεβρα"
   ]
  },
  {
   "cell_type": "code",
   "execution_count": null,
   "metadata": {},
   "outputs": [],
   "source": [
    "A = np.array([\n",
    "    [1, 2, 3],\n",
    "    [3, 2, 1]\n",
    "])\n",
    "\n",
    "B = np.array([\n",
    "    [0, 2],\n",
    "    [1, -1],\n",
    "    [0, 1]\n",
    "])"
   ]
  },
  {
   "cell_type": "markdown",
   "metadata": {},
   "source": [
    "- Πολλαπλασιασμός πινάκων"
   ]
  },
  {
   "cell_type": "code",
   "execution_count": null,
   "metadata": {},
   "outputs": [],
   "source": [
    "#πρώτος τρόπος\n",
    "A.dot(B)"
   ]
  },
  {
   "cell_type": "code",
   "execution_count": null,
   "metadata": {},
   "outputs": [],
   "source": [
    "#δεύτερος τρόπος\n",
    "np.dot(A, B)"
   ]
  },
  {
   "cell_type": "code",
   "execution_count": null,
   "metadata": {},
   "outputs": [],
   "source": [
    "#τρίτος τρόπος\n",
    "A @ B  # μόνο για πίνακες δύο διαστάσεων"
   ]
  },
  {
   "cell_type": "markdown",
   "metadata": {},
   "source": [
    "- Αντίστροφος πίνακας"
   ]
  },
  {
   "cell_type": "code",
   "execution_count": null,
   "metadata": {},
   "outputs": [],
   "source": [
    "A = np.array([\n",
    "    [1, 2, 1],\n",
    "    [4, 4, 5],\n",
    "    [6, 7, 7]\n",
    "])\n",
    "np.linalg.inv(A)  # προσοχή, ιδιαίτερα αργό όταν έχουμε πολύ μεγάλους πίνακες"
   ]
  },
  {
   "cell_type": "markdown",
   "metadata": {},
   "source": [
    "### Άσκηση\n",
    "\n",
    "Δοκιμάστε να κάνετε την πράξη:\n",
    "\n",
    "$Α^{-1} \\cdot A$"
   ]
  },
  {
   "cell_type": "code",
   "execution_count": null,
   "metadata": {},
   "outputs": [],
   "source": []
  },
  {
   "cell_type": "markdown",
   "metadata": {},
   "source": [
    "- Ανάστροφος πίνακας"
   ]
  },
  {
   "cell_type": "code",
   "execution_count": null,
   "metadata": {},
   "outputs": [],
   "source": [
    "A.T"
   ]
  },
  {
   "cell_type": "markdown",
   "metadata": {},
   "source": [
    "### Άσκηση\n",
    "Έλεγξε ότι:\n",
    "$(A^T)^{-1} = (A^{-1})^T$\n"
   ]
  },
  {
   "cell_type": "code",
   "execution_count": null,
   "metadata": {},
   "outputs": [],
   "source": []
  },
  {
   "cell_type": "markdown",
   "metadata": {},
   "source": [
    "- Μοναδιαίος πίνακας"
   ]
  },
  {
   "cell_type": "code",
   "execution_count": null,
   "metadata": {},
   "outputs": [],
   "source": [
    "np.identity(3)"
   ]
  },
  {
   "cell_type": "markdown",
   "metadata": {},
   "source": [
    "- Ορίζουσα πίνακα"
   ]
  },
  {
   "cell_type": "code",
   "execution_count": null,
   "metadata": {},
   "outputs": [],
   "source": [
    "A = np.array([\n",
    "    [1, 2],\n",
    "    [3, 4]\n",
    "])\n",
    "np.linalg.det(A)"
   ]
  },
  {
   "cell_type": "markdown",
   "metadata": {},
   "source": [
    "- Επίλυση γραμμικών εξισώσεων"
   ]
  },
  {
   "cell_type": "markdown",
   "metadata": {},
   "source": [
    "$3χ_1 + 2χ_2 - 1χ_3 = 1$\n",
    "\n",
    "$2χ_1 - 2χ_2 + 4χ_3 = -2$\n",
    "\n",
    "$-1χ_1 + 0.5χ_2 - 1χ_3 = 0$"
   ]
  },
  {
   "cell_type": "code",
   "execution_count": null,
   "metadata": {},
   "outputs": [],
   "source": [
    "A = np.array(\n",
    "    [\n",
    "        [3, 2, -1],\n",
    "        [2, -2, 4],\n",
    "        [-1, 0.5, -1],\n",
    "    ]\n",
    ")\n",
    "\n",
    "B = np.array([1, -2, 0])"
   ]
  },
  {
   "cell_type": "code",
   "execution_count": null,
   "metadata": {},
   "outputs": [],
   "source": [
    "np.linalg.solve(A, B)"
   ]
  },
  {
   "cell_type": "markdown",
   "metadata": {},
   "source": [
    "### Άσκηση\n",
    "\n",
    "Οι παραπάνω εξισώσεις μπορούν να γραφτούν ως εξής:\n",
    "\n",
    "$ A \\cdot X = B$\n",
    "\n",
    "$ \\Rightarrow X = Α^{-1} \\cdot B  $\n",
    "\n",
    "Κάντε την πράξη στο δεξί μέλος της εξίσωσης και ελέγξτε αν προκύπτει το ίδιο αποτέλεσμα με πριν"
   ]
  },
  {
   "cell_type": "code",
   "execution_count": null,
   "metadata": {},
   "outputs": [],
   "source": []
  }
 ],
 "metadata": {
  "kernelspec": {
   "display_name": "Python 3.10.4 ('research')",
   "language": "python",
   "name": "python3"
  },
  "language_info": {
   "codemirror_mode": {
    "name": "ipython",
    "version": 3
   },
   "file_extension": ".py",
   "mimetype": "text/x-python",
   "name": "python",
   "nbconvert_exporter": "python",
   "pygments_lexer": "ipython3",
   "version": "3.10.4"
  },
  "orig_nbformat": 4,
  "vscode": {
   "interpreter": {
    "hash": "a64397481a03d3e29229b26c41fe9bf23c6d382d2286036b124a8a7924579d21"
   }
  }
 },
 "nbformat": 4,
 "nbformat_minor": 2
}

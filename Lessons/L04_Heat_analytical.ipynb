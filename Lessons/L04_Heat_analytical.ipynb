{
 "cells": [
  {
   "cell_type": "markdown",
   "metadata": {},
   "source": [
    "## Εξίσωση διάδοσης θερμότητας\n",
    "\n",
    "## Αναλυτική λύση\n",
    "________"
   ]
  },
  {
   "cell_type": "code",
   "execution_count": null,
   "metadata": {},
   "outputs": [],
   "source": [
    "import numpy as np\n",
    "import matplotlib.pyplot as plt\n",
    "from matplotlib.animation import FuncAnimation\n",
    "\n",
    "plt.style.use(\"default\")\n",
    "plt.rcParams[\"animation.html\"] = \"jshtml\"\n"
   ]
  },
  {
   "cell_type": "markdown",
   "metadata": {},
   "source": [
    "### Εξίσωση διάχυσης (παραβολική μερική διαφορική εξίσωση):\n",
    " \n",
    "$$\n",
    "\\begin{equation*}\n",
    "\\frac{\\partial u}{\\partial t} = \\alpha \\frac{\\partial^2 u}{\\partial x^2}\n",
    "\\end{equation*}\n",
    "$$\n",
    "\n",
    "- ο τρόπος με τον οποίο η θερμότητα ρέει από τις θερμές στις ψυχρές περιοχές\n",
    "\n",
    "- μεταφορά μάζας από περιοχές υψηλής σε περιοχές χαμηλής πυκνότητας"
   ]
  },
  {
   "cell_type": "markdown",
   "metadata": {},
   "source": [
    "### Εξίσωση θερμότητας\n",
    "\n",
    "Ψάχνουμε τη θερμοκρασία στα σημεία μιας ράβδου γνωρίζοντας πώς αυτή μεταβάλεται.\n",
    "\n",
    "Χρειάζεται να ξέρουμε την αρχική θερμοκρασιακή κατανομή και το τι συμβαίνει στα άκρα της ράβδου.\n",
    "\n",
    "Ο στόχος είναι να βρούμε ποια θα είναι η θερμοκρασία στο μέλλον."
   ]
  },
  {
   "cell_type": "markdown",
   "metadata": {},
   "source": [
    "### Επίλυση προβλήματος διάδοσης θερμότητας"
   ]
  },
  {
   "attachments": {},
   "cell_type": "markdown",
   "metadata": {},
   "source": [
    "$\n",
    "\\frac{\\partial u(x, t)}{\\partial t} - \\frac{\\partial^2 u(x, t)}{\\partial x^2} = 0,\n",
    "\\quad 0 < x < 1, \\quad t \\geq 0,\n",
    "$\n",
    "\n",
    "&nbsp;\n",
    "\n",
    "Οριακές συνθήκες:\n",
    "\n",
    "$u(0, t) = u(1, t) = 0, \\quad t > 0$\n",
    "\n",
    "&nbsp;\n",
    "\n",
    "Αρχική συνθήκη:\n",
    "\n",
    "$u(x, 0) = \\sin(\\pi x), \\quad 0 \\leq x \\leq 1$\n",
    "\n",
    "&nbsp;\n",
    "\n",
    "\n",
    "Αναλυτική λύση: \n",
    "\n",
    "$\\; U(x, t) = e^{-\\pi^{2}t} {\\sin(\\pi x)}$\n",
    "\n",
    "&nbsp;\n",
    "\n",
    "\n",
    "- Χωρικό βήμα: $\\; \\delta x = h = 0.1$\n",
    "\n",
    "- Χρονικό βήμα: $\\; \\delta t = k = 0.001$"
   ]
  },
  {
   "cell_type": "markdown",
   "metadata": {},
   "source": [
    "### Διακριτοποίηση x-άξονα"
   ]
  },
  {
   "cell_type": "markdown",
   "metadata": {},
   "source": [
    "$x_i = i \\cdot h, \\quad i = 0, 1, 2, \\ldots, N_x$"
   ]
  },
  {
   "cell_type": "markdown",
   "metadata": {},
   "source": [
    "Αρχικά διερευνήστε τη συνάρτηση:\n",
    "\n",
    "    np.linspace(start=1, stop=9, num=3, endpoint=True, retstep=False)"
   ]
  },
  {
   "cell_type": "code",
   "execution_count": null,
   "metadata": {},
   "outputs": [],
   "source": [
    "np.linspace(start=0, stop=9, num=4, endpoint=True, retstep=False)\n"
   ]
  },
  {
   "cell_type": "markdown",
   "metadata": {},
   "source": [
    "Στη συνέχεια χρησιμοποιώντας το `np.linspace` δημιουργήστε τον χ-άξονα του προβλήματος:\n",
    "\n",
    "$\\quad 0 \\leq x \\leq 1, \\quad h = 0.1$\n",
    "\n",
    "Για τον συνολικό αριθμό των σημείων μπορείτε να χρησιμοποιήσετε τη γενική σχέση:\n",
    "\n",
    "$ N_x = \\frac{(x_N - x_0)}{h} + 1$\n",
    "\n",
    "Προσοχή: η παράμετρος `num` της συνάρτησης `np.linspace` χρειάζεται integer\n",
    "\n"
   ]
  },
  {
   "cell_type": "code",
   "execution_count": null,
   "metadata": {},
   "outputs": [],
   "source": [
    "x0 = 0\n",
    "xN = 1\n",
    "h = 0.1"
   ]
  },
  {
   "cell_type": "code",
   "execution_count": null,
   "metadata": {},
   "outputs": [],
   "source": [
    "Nx = (xN - x0) / h + 1\n",
    "Nx"
   ]
  },
  {
   "cell_type": "code",
   "execution_count": null,
   "metadata": {},
   "outputs": [],
   "source": [
    "x = np.linspace(start=x0, stop=xN, num=int(Nx), endpoint=True, retstep=False)\n",
    "x"
   ]
  },
  {
   "cell_type": "markdown",
   "metadata": {},
   "source": [
    "### Διακριτοποίηση t-άξονα"
   ]
  },
  {
   "cell_type": "markdown",
   "metadata": {},
   "source": [
    "$t_n = n \\cdot k, \\quad n = 0, 1, 2, \\ldots, N_t$"
   ]
  },
  {
   "cell_type": "markdown",
   "metadata": {},
   "source": [
    "Χρησιμοποιώντας το `np.arange` δημιουργήστε τις χρονικές στιγμές του προβλήματος:\n",
    "\n",
    "    np.arange(start, stop, step)\n",
    "\n",
    " $t \\geq 0, \\quad k=0.001$\n",
    "\n",
    " Για να θέσετε την τιμή της τελικής χρονικής στιγμής (`stop`) χρησιμοποιείστε τη σχέση:\n",
    "\n",
    "$ t_N = N_t \\cdot k$\n",
    "\n",
    "όπου $N_t$ το πλήθος των χρονικών στιγμών (επιλέξτε τουλάχιστον 150)\n"
   ]
  },
  {
   "cell_type": "code",
   "execution_count": null,
   "metadata": {},
   "outputs": [],
   "source": [
    "t0 = 0\n",
    "k = 0.001\n",
    "Nt = 250"
   ]
  },
  {
   "cell_type": "code",
   "execution_count": null,
   "metadata": {},
   "outputs": [],
   "source": [
    "tN_plus_k = Nt * k\n",
    "tN_plus_k"
   ]
  },
  {
   "cell_type": "code",
   "execution_count": null,
   "metadata": {},
   "outputs": [],
   "source": [
    "t = np.arange(t0, tN_plus_k, k)\n",
    "t"
   ]
  },
  {
   "cell_type": "markdown",
   "metadata": {},
   "source": [
    "### Δημιουργία πλέγματος\n",
    "\n",
    "Έστω ο οριζόντιος άξονας: `a = np.array([1, 2, 3, 4])`\n",
    "\n",
    "Και ο κατακόρυφος άξονας: `b = np.array([5, 6, 7])`\n",
    "\n",
    "Διερευνήστε το αποτέλεσμα της εντολής: `aa, bb = np.meshgrid(a, b)`"
   ]
  },
  {
   "cell_type": "code",
   "execution_count": null,
   "metadata": {},
   "outputs": [],
   "source": [
    "a = np.array([1, 2, 3, 4])\n",
    "b = np.array([5, 6, 7])\n",
    "\n",
    "aa, bb = np.meshgrid(a, b)\n"
   ]
  },
  {
   "cell_type": "code",
   "execution_count": null,
   "metadata": {},
   "outputs": [],
   "source": [
    "aa"
   ]
  },
  {
   "cell_type": "code",
   "execution_count": null,
   "metadata": {},
   "outputs": [],
   "source": [
    "bb"
   ]
  },
  {
   "cell_type": "markdown",
   "metadata": {},
   "source": [
    "Στη συνέχεια μέσω της συνάρτησης `np.meshgrid` δημιουργείστε το πλέγμα του προβλήματος.\n",
    "\n",
    "Χρησιμοποιήστε τους x και t άξονες από τα προηγούμενα βήματα."
   ]
  },
  {
   "cell_type": "code",
   "execution_count": null,
   "metadata": {},
   "outputs": [],
   "source": [
    "xx, tt = np.meshgrid(x, t)\n"
   ]
  },
  {
   "attachments": {},
   "cell_type": "markdown",
   "metadata": {},
   "source": [
    "### Αναλυτική λύση\n",
    "\n",
    "Χρησιμοποιώντας το πλέγμα που δημιουργήσατε υπολογίστε την αναλυτική λύση του προβλήματος: \n",
    "\n",
    "$\\; U(x, t) = e^{-\\pi^{2}t} {\\sin(\\pi x)}$"
   ]
  },
  {
   "cell_type": "code",
   "execution_count": null,
   "metadata": {},
   "outputs": [],
   "source": [
    "U = np.exp(-(np.pi**2) * tt) * np.sin(np.pi * xx)\n"
   ]
  },
  {
   "cell_type": "markdown",
   "metadata": {},
   "source": [
    "### Γραφικές παραστάσεις\n",
    "\n",
    "Δημιουργήστε μία εικόνα με δύο subplots (το ένα δίπλα στο άλλο) και σχεδιάστε:\n",
    "\n",
    "- στο αριστερά subplot την αρχική θερμοκρασιακή κατανομή\n",
    "\n",
    "- στο δεξιά subplot την τελική θερμοκρασιακή κατανομή\n",
    "\n",
    "Χρησιμοποιώντας τη μέθοδο `set_ylim` να ορίσετε τα ίδια όρια στον y-άξονα και για τα 2 subplot.\n"
   ]
  },
  {
   "cell_type": "code",
   "execution_count": null,
   "metadata": {},
   "outputs": [],
   "source": [
    "fig, axes = plt.subplots(nrows=1, ncols=2, figsize=(5, 2), squeeze=False)\n",
    "plt.tight_layout()\n",
    "plt.close()\n",
    "\n",
    "ax1 = axes[0, 0]\n",
    "ax1.plot(x, U[0])\n",
    "ax1.set_ylim([0, 1])\n",
    "\n",
    "\n",
    "ax2 = axes[0, 1]\n",
    "ax2.plot(x, U[-1])\n",
    "ax2.set_ylim([0, 1])\n",
    "\n",
    "\n",
    "fig"
   ]
  },
  {
   "cell_type": "markdown",
   "metadata": {},
   "source": [
    "### Τρισδιάστατη απεικόνιση της χρονική εξέλιξης"
   ]
  },
  {
   "cell_type": "code",
   "execution_count": null,
   "metadata": {},
   "outputs": [],
   "source": [
    "fig = plt.figure(figsize=(6, 3.5))  # προσοχή, ξεχωριστά το fig και το ax για 3D δίαγραμμα\n",
    "ax = plt.axes(projection=\"3d\")\n",
    "plt.close()\n",
    "\n",
    "colormap = plt.get_cmap(\"plasma\")\n",
    "surf = ax.plot_surface(xx, tt, U, cmap=colormap, antialiased=False)  # xx, tt, U από πριν\n",
    "\n",
    "ax.set_xlabel(\"x\", fontsize=12)\n",
    "ax.set_ylabel(\"Time\", fontsize=12)\n",
    "ax.set_zlabel(\"T\", rotation=0, fontsize=16)\n",
    "\n",
    "ax.tick_params(axis=\"both\", which=\"major\", pad=-3.0)\n",
    "colorbar = fig.colorbar(surf, fraction=0.02)\n",
    "ax.view_init(azim=45)\n",
    "\n",
    "fig\n"
   ]
  },
  {
   "cell_type": "markdown",
   "metadata": {},
   "source": [
    "### Animation\n",
    "\n",
    "Δημιουργήστε ένα animation που θα διατρέχει όλες τις χρονικές στιγμές του προβλήματος:\n",
    "\n",
    "- Επιλέξτε μια μικρή τιμή για το interval (60 ή και μικρότερο)\n",
    "\n",
    "- Επιλέξτε ένα σταθερό όριο στον y άξονα\n",
    "\n",
    "- Δώστε κατάλληλα ονόματα στον χ και τον y άξονα\n",
    "\n",
    "- Κάθε frame να έχει ως τίτλο τη χρονική στιγμή στην οποία αναφέρεται\n",
    "\n",
    "- Για το παραπάνω χρησιμοποιήστε σταθερό αριθμό τριών δεκαδικών με string formatting"
   ]
  },
  {
   "cell_type": "code",
   "execution_count": null,
   "metadata": {},
   "outputs": [],
   "source": [
    "fig, ax = plt.subplots()\n",
    "plt.close()\n",
    "\n",
    "\n",
    "def animate(i):\n",
    "    ax.clear()\n",
    "    ax.plot(x, U[i])\n",
    "    ax.set_ylim([-0.05, 1 + 0.05])\n",
    "    ax.set_xlabel(\"x\", fontsize=12)\n",
    "    ax.set_ylabel(\"Temperature\", fontsize=12)\n",
    "    ax.set_title(f\"Time: {t[i]:.3f} s\", fontweight=\"bold\", loc=\"center\")\n",
    "\n",
    "ani = FuncAnimation(\n",
    "    fig=fig,\n",
    "    func=animate,\n",
    "    frames=Nt,\n",
    "    interval=60,\n",
    "    repeat=False,\n",
    ")\n",
    "plt.close()"
   ]
  },
  {
   "cell_type": "code",
   "execution_count": null,
   "metadata": {},
   "outputs": [],
   "source": [
    "ani"
   ]
  }
 ],
 "metadata": {
  "kernelspec": {
   "display_name": "Python 3.10.4 ('research')",
   "language": "python",
   "name": "python3"
  },
  "language_info": {
   "codemirror_mode": {
    "name": "ipython",
    "version": 3
   },
   "file_extension": ".py",
   "mimetype": "text/x-python",
   "name": "python",
   "nbconvert_exporter": "python",
   "pygments_lexer": "ipython3",
   "version": "3.10.4"
  },
  "orig_nbformat": 4,
  "vscode": {
   "interpreter": {
    "hash": "a64397481a03d3e29229b26c41fe9bf23c6d382d2286036b124a8a7924579d21"
   }
  }
 },
 "nbformat": 4,
 "nbformat_minor": 2
}

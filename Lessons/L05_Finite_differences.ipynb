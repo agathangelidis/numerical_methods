{
 "cells": [
  {
   "cell_type": "markdown",
   "metadata": {},
   "source": [
    "## Πεπερασμένες διαφορές\n",
    "________"
   ]
  },
  {
   "cell_type": "code",
   "execution_count": null,
   "metadata": {},
   "outputs": [],
   "source": [
    "import numpy as np\n",
    "import matplotlib.pyplot as plt\n",
    "from matplotlib.animation import FuncAnimation\n",
    "\n",
    "\n",
    "plt.style.use(\"default\")\n",
    "plt.rcParams[\"figure.figsize\"] = [5, 2.5]  # [width_inches, height_inches]\n",
    "plt.rcParams[\"animation.html\"] = \"jshtml\"\n"
   ]
  },
  {
   "cell_type": "markdown",
   "metadata": {},
   "source": [
    "## Σειρές Taylor"
   ]
  },
  {
   "cell_type": "markdown",
   "metadata": {},
   "source": [
    "Στόχος:\n",
    "\n",
    "Ξεκινώντας από μία μη πολυωνυμική συνάρτηση $f(x)$ να βρεθεί ένα πολυώνυμο $P(x)$ \\\n",
    "(άπειρων όρων) το οποίο να είναι προσεγγιστικά ίσο με αυτή κοντά σε ένα σημείο.\n",
    "\n",
    "Κοντά στο σημείο 0:\n",
    "$$\n",
    "\\begin{equation*}\n",
    "f(x) = c_0 + c_1x + c_2x^2 + c_3x^3 + \\dots\n",
    "\\end{equation*}\n",
    "$$\n",
    "\n",
    "Πρέπει: $\\quad f(0) = P(0), \\; f'(0) = P'(0), \\; \\dots$\n",
    "$$\n",
    "\\begin{equation*}\n",
    "\\Rightarrow f(x) = f(0) + \\frac{f'(0)}{1!}x + \\frac{f''(0)}{2!}x^2 + \\frac{f'''(0)}{3!}x^3 + \\dots\n",
    "\\end{equation*}\n",
    "$$\n"
   ]
  },
  {
   "cell_type": "markdown",
   "metadata": {},
   "source": [
    "### Άσκηση\n",
    "\n",
    "Η εκθετική συνάρτηση προσεγγίζεται γύρω από το μηδέν από τη σειρά:\n",
    "\n",
    "$$\n",
    "\\begin{equation*}\n",
    "e^x = 1 + x + \\frac{x^2}{2!} + \\frac{x^3}{3!} + \\frac{x^4}{4!} + \\dots\n",
    "\\end{equation*}\n",
    "$$\n",
    "\n",
    "Σχεδιάστε το $e^x$ και τη σειρά Taylor στο ίδιο διάγραμμα προσθέτοντας διαδοχικά \\\n",
    "περισσότερους όρους στη δεύτερη (αρχίζoντας από το $1 + x$).\n",
    "\n",
    "$-3 \\leq x \\leq 3, \\quad \\Delta x = 0.01 \\quad$ (χρησιμοποιήστε τη συνάρτηση `np.arange`)\n",
    "\n",
    "Για το παραγοντικό να κάνετε χρήση της συνάρτησης `np.math.factorial`"
   ]
  },
  {
   "cell_type": "code",
   "execution_count": null,
   "metadata": {},
   "outputs": [],
   "source": []
  },
  {
   "cell_type": "markdown",
   "metadata": {},
   "source": [
    "### Animation σειράς Taylor\n",
    "\n",
    "Το συνημίτονο γύρω από το μηδέν προσεγγίζεται από τη σειρά:\n",
    "$$\n",
    "\\begin{align*}\n",
    "&cos(x) = 1 - \\frac{x^2}{2!} + \\frac{x^4}{4!} + \\dots\\\\[12pt]\n",
    "&cos(x) = \\sum_{n=0}^{\\infty} (-1)^n \\frac{x^{2n}}{(2n)!}\n",
    "\\end{align*}\n",
    "$$"
   ]
  },
  {
   "cell_type": "code",
   "execution_count": null,
   "metadata": {},
   "outputs": [],
   "source": [
    "x = np.arange(-3*np.pi, 3*np.pi + 0.01, 0.01)\n",
    "y = np.cos(x)\n",
    "\n",
    "y_taylor_terms = [np.repeat(1, len(x))]  # ο πρώτος όρος της σειράς (το 1) ως array μεσα σε λίστα\n",
    "for n in range(1, 10):\n",
    "    y_taylor_terms.append(((-1)**n) * (x**(2*n)) / np.math.factorial(2*n))\n",
    "\n",
    "fig, ax = plt.subplots()\n",
    "plt.close()\n",
    "\n",
    "def animate(i):\n",
    "    ax.clear()\n",
    "    ax.plot(x, y, linewidth=3)\n",
    "    ax.plot(x, np.sum(y_taylor_terms[0:i+1], axis=0), linewidth=1.5)\n",
    "    ax.set_ylim([-1.05, 1.05])\n",
    "    ax.set_xticks([-2*np.pi, -np.pi, 0, np.pi, 2*np.pi])\n",
    "    ax.set_xticklabels([\"-2π\", \"-π\", \"0\", \"π\", \"2π\"])\n",
    "    ax.set_title(f\"Πλήθος όρων: N={i+1}\", fontweight=\"bold\", loc=\"left\")\n",
    "\n",
    "ani = FuncAnimation(\n",
    "    fig=fig,\n",
    "    func=animate,\n",
    "    frames=len(y_taylor_terms),\n",
    "    interval=1000,\n",
    "    repeat=False,\n",
    ")\n",
    "plt.close()\n",
    "\n",
    "ani\n"
   ]
  },
  {
   "cell_type": "markdown",
   "metadata": {},
   "source": [
    "Σειρά Taylor γύρω από το σημείο $x_0$:\n",
    "\n",
    "$$\n",
    "\\begin{equation*}\n",
    "f(x) = f(x_0) + \\frac{f'(x_0)}{1!}(x-x_0) + \\frac{f''(x_0)}{2!}(x-x_0)^2 + \\frac{f'''(x_0)}{3!}(x-x_0)^3 + \\dots\n",
    "\\end{equation*}\n",
    "$$\n",
    "\n",
    "Θέτοντας $x - x_0 = h$:\n",
    "\n",
    "$$\n",
    "\\begin{equation*}\n",
    "f(x_0 + h) = f(x_0) + f'(x_0)h + \\frac{f''(x_0)}{2!}h^2 + \\frac{f'''(x_0)}{3!}h^3 + \\dots\n",
    "\\end{equation*}\n",
    "$$\n",
    "\n",
    "$x \\rightarrow x_0$:\n",
    "\n",
    "$$\n",
    "\\begin{equation*}\n",
    "f(x + h) = f(x) + f'(x)h + \\frac{f''(x)}{2!}h^2 + \\frac{f'''(x)}{3!}h^3 + \\dots\n",
    "\\end{equation*}\n",
    "$$"
   ]
  },
  {
   "cell_type": "markdown",
   "metadata": {},
   "source": [
    "### Προσεγγιστικός υπολογισμός των παραγώγων\n",
    "\n",
    "$$\n",
    "\\begin{equation*}\n",
    "u(x + h) = u(x) + u'(x)h + \\frac{u''(x)}{2!}h^2 + \\frac{u'''(x)}{3!}h^3 + \\frac{u''''(x)}{4!}h^4 + \\dots\n",
    "\\end{equation*}\n",
    "$$\n",
    "\n",
    "$$\n",
    "\\begin{equation*}\n",
    "u(x - h) = u(x) - u'(x)h + \\frac{u''(x)}{2!}h^2 - \\frac{u'''(x)}{3!}h^3 + \\frac{u''''(x)}{4!}h^4 + \\dots\n",
    "\\end{equation*}\n",
    "$$"
   ]
  },
  {
   "cell_type": "markdown",
   "metadata": {},
   "source": [
    "- Πρώτη παράγωγος forward-difference:\n",
    "$$\n",
    "\\begin{equation*}\n",
    "u'(x) = \\frac{u(x+h) - u(x)}{h} + \\mathcal{O}(h)\n",
    "\\end{equation*}\n",
    "$$\n",
    "\n",
    "- Πρώτη παράγωγος backward-difference:\n",
    "$$\n",
    "\\begin{equation*}\n",
    "u'(x) = \\frac{u(x) - u(x-h)}{h} + \\mathcal{O}(h)\n",
    "\\end{equation*}\n",
    "$$\n",
    "\n",
    "- Πρώτη παράγωγος centered-difference:\n",
    "$$\n",
    "\\begin{equation*}\n",
    "u'(x) = \\frac{u(x+h) - u(x-h)}{2h} + \\mathcal{O}(h^2)\n",
    "\\end{equation*}\n",
    "$$\n",
    "\n",
    "- Δεύτερη παράγωγος centered-difference:\n",
    "$$\n",
    "\\begin{equation*}\n",
    "u''(x) = \\frac{u(x-h) -2u(x) + u(x+h)}{h^2} + \\mathcal{O}(h^2)\n",
    "\\end{equation*}\n",
    "$$"
   ]
  },
  {
   "cell_type": "markdown",
   "metadata": {},
   "source": [
    "### Πεπερασμένες διαφορές\n"
   ]
  },
  {
   "cell_type": "markdown",
   "metadata": {},
   "source": [
    "- Πρώτη παράγωγος forward-difference:\n",
    "$$\n",
    "\\begin{equation*}\n",
    "\\frac{\\partial u_i}{\\partial x} \\simeq \\frac{u_{i+1} - u_i}{h}\n",
    "\\end{equation*}\n",
    "$$\n",
    "\n",
    "- Πρώτη παράγωγος backward-difference:\n",
    "$$\n",
    "\\begin{equation*}\n",
    "\\frac{\\partial u_i}{\\partial x} \\simeq \\frac{u_i - u_{i-1}}{h}\n",
    "\\end{equation*}\n",
    "$$\n",
    "\n",
    "- Πρώτη παράγωγος centered-difference:\n",
    "$$\n",
    "\\begin{equation*}\n",
    "\\frac{\\partial u_i}{\\partial x} \\simeq \\frac{u_{i+1} - u_{i-1}}{2h}\n",
    "\\end{equation*}\n",
    "$$\n",
    "\n",
    "- Δεύτερη παράγωγος centered-difference:\n",
    "$$\n",
    "\\begin{equation*}\n",
    "\\frac{\\partial^2 u_i}{\\partial x^2} \\simeq \\frac{u_{i-1} -2u_i + u_{i+1}}{h^2}\n",
    "\\end{equation*}\n",
    "$$"
   ]
  },
  {
   "cell_type": "markdown",
   "metadata": {},
   "source": [
    "### Επιλογή πολλαπλών στοιχείων (slicing) ενός πίνακα"
   ]
  },
  {
   "cell_type": "code",
   "execution_count": null,
   "metadata": {},
   "outputs": [],
   "source": [
    "a = np.array([3, 5, 1, 0, 5, 7, 9])\n"
   ]
  },
  {
   "cell_type": "markdown",
   "metadata": {},
   "source": [
    "|    Τιμές του array    |  3  |  5  |  1  |  0  |  5  |  7  |  9  |\n",
    "| --------------------- | --- | --- | --- | --- | --- | --- | --- |\n",
    "|                       |     |     |     |     |     |     |     |\n",
    "| Αρίθμηση              | 0   | 1   | 2   | 3   | 4   | 5   | 6   |\n",
    "| Αρίθμηση από το τέλος | -7  | -6  | -5  | -4  | -3  | -2  | -1  |\n"
   ]
  },
  {
   "cell_type": "code",
   "execution_count": null,
   "metadata": {},
   "outputs": [],
   "source": [
    "# πρώτο έως και προτελευταίο στοιχείο\n",
    "a[0:-1]  # ή a[:-1]\n"
   ]
  },
  {
   "cell_type": "markdown",
   "metadata": {},
   "source": [
    "### Άσκηση \n",
    "\n",
    "Εφαρμόστε τα κατάλληλα slices στον πίνακα `a` για τις περιπτώσεις που ακολουθούν:"
   ]
  },
  {
   "cell_type": "code",
   "execution_count": null,
   "metadata": {},
   "outputs": [],
   "source": [
    "# δεύτερο έως και τελευταίο στοιχείο\n"
   ]
  },
  {
   "cell_type": "code",
   "execution_count": null,
   "metadata": {},
   "outputs": [],
   "source": [
    "# δεύτερο έως και προτελευταίο στοιχείο\n"
   ]
  },
  {
   "cell_type": "code",
   "execution_count": null,
   "metadata": {},
   "outputs": [],
   "source": [
    "# τρίτο έως και τελευταίο στοιχείο\n"
   ]
  },
  {
   "cell_type": "code",
   "execution_count": null,
   "metadata": {},
   "outputs": [],
   "source": [
    "# πρώτο έως και προ-προτελευταίο στοιχείο\n"
   ]
  },
  {
   "cell_type": "markdown",
   "metadata": {},
   "source": [
    "### Δημιουργία μηδενικού πίνακα\n",
    "\n",
    "    np.zeros((rows, cols))\n",
    "\n",
    "### Δημιουργία μηδενικού πίνακα με βάση έναν άλλο πίνακα\n",
    "    np.zeros_like(a)"
   ]
  },
  {
   "cell_type": "markdown",
   "metadata": {},
   "source": [
    "### Άσκηση\n",
    "\n",
    "Δημιουργήστε έναν μηδενικό πίνακα με βάση τον πίνακα `a`:"
   ]
  },
  {
   "cell_type": "code",
   "execution_count": null,
   "metadata": {},
   "outputs": [],
   "source": [
    "a = np.array([\n",
    "    [3, 5, 0],\n",
    "    [1, 1, 2]\n",
    "])\n"
   ]
  },
  {
   "cell_type": "markdown",
   "metadata": {},
   "source": [
    "### Δημιουργία κενού πίνακα\n",
    "\n",
    "    np.full((rows, cols), np.nan)\n",
    "\n",
    "### Δημιουργία κενού πίνακα με βάση έναν άλλο πίνακα\n",
    "    np.full(a.shape, np.nan)"
   ]
  },
  {
   "cell_type": "markdown",
   "metadata": {},
   "source": [
    "### Άσκηση\n",
    "\n",
    "Δημιουργήστε έναν κενό πίνακα με βάση τον πίνακα a:"
   ]
  },
  {
   "cell_type": "code",
   "execution_count": null,
   "metadata": {},
   "outputs": [],
   "source": [
    "a = np.array([\n",
    "    [3, 5, 0],\n",
    "    [1, 1, 2]\n",
    "])\n"
   ]
  },
  {
   "cell_type": "markdown",
   "metadata": {},
   "source": [
    "### Πεπερασμένες διαφορές"
   ]
  },
  {
   "cell_type": "markdown",
   "metadata": {},
   "source": [
    "### Backward-difference"
   ]
  },
  {
   "cell_type": "code",
   "execution_count": null,
   "metadata": {},
   "outputs": [],
   "source": [
    "a = np.array([1, 5, 9, 13, 17])\n"
   ]
  },
  {
   "cell_type": "markdown",
   "metadata": {},
   "source": [
    "Φτιάξτε έναν νέο πίνακα όπου κάθε στοιχείο του να είναι ίσο με το αντίστοιχο \\\n",
    "στοιχείο του `a` μείον το προηγούμενο του `a`.\n",
    "\n",
    "$b_i = a_i - a_{i-1}$"
   ]
  },
  {
   "cell_type": "code",
   "execution_count": null,
   "metadata": {},
   "outputs": [],
   "source": [
    "b = np.full(a.shape, np.nan)\n",
    "b\n"
   ]
  },
  {
   "cell_type": "code",
   "execution_count": null,
   "metadata": {},
   "outputs": [],
   "source": [
    "b[1:] = a[1:] - a[0:-1]\n",
    "b\n"
   ]
  },
  {
   "cell_type": "markdown",
   "metadata": {},
   "source": [
    "Φτιάξτε έναν νέο πίνακα όπου κάθε στοιχείο του είναι ίσο με το αντίστοιχο στοιχείο \\\n",
    "του `a` μείον το διπλάσιο του προηγούμενου του `a`.\n",
    "\n",
    "$c_i = a_i - 2a_{i-1}$"
   ]
  },
  {
   "cell_type": "code",
   "execution_count": null,
   "metadata": {},
   "outputs": [],
   "source": [
    "c = np.full(b.shape, np.nan)\n",
    "c[1:] = a[1:] - 2*a[0:-1]\n",
    "c"
   ]
  },
  {
   "cell_type": "markdown",
   "metadata": {},
   "source": [
    "### Άσκηση\n",
    "\n",
    "Υπολογίστε τις πεπερασμένες διαφορές για τις παρακάτω περιπτώσεις:"
   ]
  },
  {
   "cell_type": "markdown",
   "metadata": {},
   "source": [
    "### Forward-difference"
   ]
  },
  {
   "cell_type": "code",
   "execution_count": null,
   "metadata": {},
   "outputs": [],
   "source": [
    "d = np.array([1, 2, 4, 7, 11, 16])"
   ]
  },
  {
   "cell_type": "markdown",
   "metadata": {},
   "source": [
    "Υπολογίστε τον παρακάτω πίνακα:\n",
    "\n",
    "$e_i = d_{i+1} - d_i$"
   ]
  },
  {
   "cell_type": "code",
   "execution_count": null,
   "metadata": {},
   "outputs": [],
   "source": []
  },
  {
   "cell_type": "markdown",
   "metadata": {},
   "source": [
    "### Centered-difference"
   ]
  },
  {
   "cell_type": "code",
   "execution_count": null,
   "metadata": {},
   "outputs": [],
   "source": [
    "f = np.array([0, 2, 10, 12, 2, 0])"
   ]
  },
  {
   "cell_type": "markdown",
   "metadata": {},
   "source": [
    "Υπολογίστε τον παρακάτω πίνακα:\n",
    "\n",
    "$g_i = (f_{i+1} + f_{i-1})/2$"
   ]
  },
  {
   "cell_type": "code",
   "execution_count": null,
   "metadata": {},
   "outputs": [],
   "source": []
  },
  {
   "cell_type": "markdown",
   "metadata": {},
   "source": [
    "### Πεπερασμένες διαφορές, εφαρμογή στις παραγώγους"
   ]
  },
  {
   "cell_type": "markdown",
   "metadata": {},
   "source": [
    "$-3 \\leq x \\leq 3, \\quad h = 0.01 \\quad$\n",
    "\n",
    "$u(x) = x^2$\n",
    "\n",
    "$u'(x) = 2x$\n",
    "\n",
    "$u''(x) = 2$"
   ]
  },
  {
   "cell_type": "code",
   "execution_count": null,
   "metadata": {},
   "outputs": [],
   "source": [
    "h = 0.01\n",
    "x = np.arange(-3, 3 + h, h)\n",
    "\n",
    "u = x**2\n",
    "dudx = 2 * x\n",
    "d2udx2 = np.repeat(2, repeats=len(x))\n"
   ]
  },
  {
   "cell_type": "markdown",
   "metadata": {},
   "source": [
    "- Πρώτη παράγωγος forward-difference:\n",
    "\n",
    "$$\n",
    "\\begin{equation*}\n",
    "\\frac{\\partial u_i}{\\partial x} \\simeq \\frac{u_{i+1} - u_i}{h}\n",
    "\\end{equation*}\n",
    "$$\n"
   ]
  },
  {
   "cell_type": "code",
   "execution_count": null,
   "metadata": {},
   "outputs": [],
   "source": [
    "dudx_forward = np.full(u.shape, np.nan)\n",
    "\n",
    "dudx_forward[0:-1] = (u[1:] - u[0:-1]) / h\n"
   ]
  },
  {
   "cell_type": "markdown",
   "metadata": {},
   "source": [
    "### Άσκηση\n",
    "\n",
    "Υπολογίστε τις παραγώγους με πεπερασμένες διαφορές στις περιπτώσεις που ακολουθούν:"
   ]
  },
  {
   "cell_type": "markdown",
   "metadata": {},
   "source": [
    "- Πρώτη παράγωγος backward-difference:\n",
    "$$\n",
    "\\begin{equation*}\n",
    "\\frac{\\partial u_i}{\\partial x} \\simeq \\frac{u_i - u_{i-1}}{h}\n",
    "\\end{equation*}\n",
    "$$\n"
   ]
  },
  {
   "cell_type": "code",
   "execution_count": null,
   "metadata": {},
   "outputs": [],
   "source": [
    "dudx_backward = np.full(u.shape, np.nan)\n",
    "\n"
   ]
  },
  {
   "cell_type": "markdown",
   "metadata": {},
   "source": [
    "- Πρώτη παράγωγος centered-difference:\n",
    "$$\n",
    "\\begin{equation*}\n",
    "\\frac{\\partial u_i}{\\partial x} \\simeq \\frac{u_{i+1} - u_{i-1}}{2h}\n",
    "\\end{equation*}\n",
    "$$\n"
   ]
  },
  {
   "cell_type": "code",
   "execution_count": null,
   "metadata": {},
   "outputs": [],
   "source": [
    "dudx_centered = np.full(u.shape, np.nan)\n",
    "\n"
   ]
  },
  {
   "cell_type": "markdown",
   "metadata": {},
   "source": [
    "- Δεύτερη παράγωγος centered-difference:\n",
    "$$\n",
    "\\begin{equation*}\n",
    "\\frac{\\partial^2 u_i}{\\partial x^2} \\simeq \\frac{u_{i-1} -2u_i + u_{i+1}}{h^2}\n",
    "\\end{equation*}\n",
    "$$\n"
   ]
  },
  {
   "cell_type": "code",
   "execution_count": null,
   "metadata": {},
   "outputs": [],
   "source": [
    "d2udx2_centered = np.full(u.shape, np.nan)\n",
    "\n"
   ]
  },
  {
   "cell_type": "markdown",
   "metadata": {},
   "source": [
    "### Υπολογισμός της ακρίβειας των αριθμητικών σχημάτων"
   ]
  },
  {
   "cell_type": "markdown",
   "metadata": {},
   "source": [
    "Mean absolute error (MAE):\n",
    "\n",
    "$$\n",
    "\\begin{equation*}\n",
    "MAE = \\frac{1}{n} \\sum_{n=1}^n |y_{true} - y_{pred}|\n",
    "\\end{equation*}\n",
    "$$"
   ]
  },
  {
   "cell_type": "markdown",
   "metadata": {},
   "source": [
    "### Άσκηση\n",
    "\n",
    "Ορίστε μια καινούργια συνάρτηση η οποία θα υπολογίζει το MAE.\n",
    "\n",
    "(χρησιμοποιήστε το `np.abs` για την απόλυτη τιμή)\n",
    "\n",
    "Στη συνέχεια εφαρμόστε τη συνάρτηση για να βρείτε την ακρίβεια των παραπάνω \\\n",
    "πεπαρασμένων διαφορών για την περίπτωση της 1ης και 2ης παραγώγου του $x^2$."
   ]
  },
  {
   "cell_type": "code",
   "execution_count": null,
   "metadata": {},
   "outputs": [],
   "source": [
    "# def mae(ytrue, ypred):\n"
   ]
  },
  {
   "cell_type": "code",
   "execution_count": null,
   "metadata": {},
   "outputs": [],
   "source": []
  },
  {
   "cell_type": "markdown",
   "metadata": {},
   "source": [
    "### Άσκηση\n",
    "\n",
    "Θα μπορούσαμε να χρησιμοποιήσουμε τη συνάρτηση [mean_absolute_error](https://scikit-learn.org/stable/modules/generated/sklearn.metrics.mean_absolute_error.html#sklearn-metrics-mean-absolute-error), από το \\\n",
    "module `sklearn.metrics` αλλά θα πρέπει προηγουμένως να [διώξουμε τις `np.nan` τιμές](https://stackoverflow.com/a/11620982/16664119).\n",
    "\n",
    "Προσπαθήστε να τη χρησιμοποιήσετε για την περίπτωση της πρώτης παραγώγου centered-difference.\n"
   ]
  },
  {
   "cell_type": "code",
   "execution_count": null,
   "metadata": {},
   "outputs": [],
   "source": []
  }
 ],
 "metadata": {
  "kernelspec": {
   "display_name": "Python 3.10.4 ('research')",
   "language": "python",
   "name": "python3"
  },
  "language_info": {
   "codemirror_mode": {
    "name": "ipython",
    "version": 3
   },
   "file_extension": ".py",
   "mimetype": "text/x-python",
   "name": "python",
   "nbconvert_exporter": "python",
   "pygments_lexer": "ipython3",
   "version": "3.10.4"
  },
  "orig_nbformat": 4,
  "vscode": {
   "interpreter": {
    "hash": "a64397481a03d3e29229b26c41fe9bf23c6d382d2286036b124a8a7924579d21"
   }
  }
 },
 "nbformat": 4,
 "nbformat_minor": 2
}

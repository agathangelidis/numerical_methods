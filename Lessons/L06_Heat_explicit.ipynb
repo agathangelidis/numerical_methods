{
 "cells": [
  {
   "cell_type": "markdown",
   "metadata": {},
   "source": [
    "## Εξίσωση διάδοσης θερμότητας\n",
    "\n",
    "## Explicit μέθοδος\n",
    "________"
   ]
  },
  {
   "cell_type": "code",
   "execution_count": null,
   "metadata": {},
   "outputs": [],
   "source": [
    "import numpy as np\n",
    "import matplotlib.pyplot as plt\n",
    "from matplotlib.animation import FuncAnimation\n",
    "import pandas as pd\n",
    "\n",
    "\n",
    "plt.style.use(\"default\")\n",
    "plt.rcParams[\"figure.figsize\"] = [5, 2.5]  # [width_inches, height_inches]\n",
    "plt.rcParams[\"animation.html\"] = \"jshtml\"\n"
   ]
  },
  {
   "cell_type": "markdown",
   "metadata": {},
   "source": [
    "### Εφαρμογή: Παράδειγμα 2.1 του βιβλίου G.D. Smith"
   ]
  },
  {
   "cell_type": "markdown",
   "metadata": {},
   "source": [
    "- G.D. Smith, _Numerical Solution Of Partial Differential Equations_ \\\n",
    "Example 2.1 σελ. 13 (σελ. 15 του pdf)\n",
    "\n",
    "- Σημειώσεις Τόμπρου1 (σελ. 10 του pdf)"
   ]
  },
  {
   "cell_type": "markdown",
   "metadata": {},
   "source": [
    "Αναζητούμε τη χρονική εξέλιξη της θερμοκρασίας σε ράβδο σιδήρου, όπου η \\\n",
    "θερμοκρασία στα άκρα της παραμένει σταθερή (επαφή με κολώνες πάγου)."
   ]
  },
  {
   "cell_type": "markdown",
   "metadata": {},
   "source": [
    "Θέλουμε μία αριθμητική λύση της εξίσωσης θερμότητας:\n",
    "\n",
    "$$\n",
    "\\begin{equation*}\n",
    "\\frac{\\partial u}{\\partial t} = \\frac{\\partial^2 u}{\\partial x^2}\n",
    "\\end{equation*}\n",
    "$$\n",
    "\n",
    "Με αρχική θερμοκρασιακή κατανομή (αρχική συνθήκη):\n",
    "\n",
    "- $u = 2x, \\;$ για $\\; 0 \\leq x < 1/2$\n",
    "\n",
    "- $u = 2(1-x), \\;$ για $\\; 1/2 \\leq x \\leq 1$\n",
    "\n",
    "Με σταθερή θερμοκρασία στα δύο άκρα της (οριακές συνθήκες):\n",
    "\n",
    "- $u = 0,  \\;$ για $\\; x=0$\n",
    "\n",
    "- $u = 0,  \\;$ για $\\; x=1$\n"
   ]
  },
  {
   "cell_type": "markdown",
   "metadata": {},
   "source": [
    "### Διακριτοποίηση αξόνων\n",
    "\n",
    "- Χωρικό βήμα: $\\;  δx = h = 1/10$\n",
    "\n",
    "- Χρονικό βήμα: $\\; δt = k = 1/1000$\n",
    "\n",
    "- $r = \\frac{k}{h^2} = 1/10$"
   ]
  },
  {
   "cell_type": "markdown",
   "metadata": {},
   "source": [
    "### Explicit μέθοδος επίλυσης\n",
    "\n",
    "- Forward-difference ως προς το $t$\n",
    "\n",
    "- Centered-difference ως προς το $x$\n",
    "\n",
    "$$\n",
    "\\begin{align*}\n",
    "& \\quad \\; \\frac{\\partial u}{\\partial t} = \\frac{\\partial^2 u}{\\partial x^2} \\\\[15pt]\n",
    "& \\Rightarrow \\frac {u^{n+1}_i - u^n_i}{k} = \\frac{u^n_{i-1} - 2u^n_i + u^n_{i+1}}{h^2}\\\\[15pt]\n",
    "& \\Rightarrow u^{n+1}_i - u^n_i = ru^n_{i-1} - 2ru^n_i + ru^n_{i+1} \\qquad r = \\frac {k}{h^2}\\\\[15pt]\n",
    "& \\Rightarrow u^{n+1}_i = ru^n_{i-1} + (1 - 2r)u^n_i + ru^n_{i+1} \\\\\n",
    "\\end{align*}\n",
    "$$"
   ]
  },
  {
   "cell_type": "markdown",
   "metadata": {},
   "source": [
    "### Αναλυτική λύση\n",
    "\n",
    "$$\n",
    "\\begin{equation*}\n",
    "U = \\frac{8}{\\pi^2} \\sum_{n=1}^{\\infty}\\frac{1}{n^2}sin(\\frac{1}{2}n\\pi)sin(n\\pi x)e^{-n^2\\pi^2t}\n",
    "\\end{equation*}\n",
    "$$"
   ]
  },
  {
   "cell_type": "markdown",
   "metadata": {},
   "source": [
    "### Διακριτοποίηση x-άξονα"
   ]
  },
  {
   "cell_type": "code",
   "execution_count": null,
   "metadata": {},
   "outputs": [],
   "source": [
    "x0 = 0\n",
    "xN = 1\n",
    "h = 1 / 10\n"
   ]
  },
  {
   "cell_type": "code",
   "execution_count": null,
   "metadata": {},
   "outputs": [],
   "source": [
    "Nx = int((xN - x0) / h + 1)\n",
    "Nx"
   ]
  },
  {
   "cell_type": "markdown",
   "metadata": {},
   "source": [
    "Δημιουργήστε τον χ-άξονα χρησιμοποιώντας τη συνάρτηση `np.linspace` και τις \\\n",
    "παραπάνω μεταβλητές"
   ]
  },
  {
   "cell_type": "code",
   "execution_count": null,
   "metadata": {},
   "outputs": [],
   "source": []
  },
  {
   "cell_type": "markdown",
   "metadata": {},
   "source": [
    "### Διακριτοποίηση t-άξονα"
   ]
  },
  {
   "cell_type": "code",
   "execution_count": null,
   "metadata": {},
   "outputs": [],
   "source": [
    "t0 = 0\n",
    "k = 1 / 1000\n",
    "Nt = 120"
   ]
  },
  {
   "cell_type": "code",
   "execution_count": null,
   "metadata": {},
   "outputs": [],
   "source": [
    "tn = Nt * k\n",
    "tn"
   ]
  },
  {
   "cell_type": "markdown",
   "metadata": {},
   "source": [
    "Δημιουργήστε τον t-άξονα χρησιμοποιώντας τη συνάρτηση `np.arange` και τις \\\n",
    "παραπάνω μεταβλητές"
   ]
  },
  {
   "cell_type": "code",
   "execution_count": null,
   "metadata": {},
   "outputs": [],
   "source": []
  },
  {
   "cell_type": "markdown",
   "metadata": {},
   "source": [
    "Χρησιμοποιώντας τους δύο άξονες, δημιουργήστε το πλέγμα μέσω της \\\n",
    "συνάρτησης `np.meshgrid`"
   ]
  },
  {
   "cell_type": "code",
   "execution_count": null,
   "metadata": {},
   "outputs": [],
   "source": []
  },
  {
   "cell_type": "markdown",
   "metadata": {},
   "source": [
    "Δημιουργία κενού πίνακα για την αριθμητική λύση"
   ]
  },
  {
   "cell_type": "code",
   "execution_count": null,
   "metadata": {},
   "outputs": [],
   "source": [
    "u = np.full((Nt, Nx), np.nan)"
   ]
  },
  {
   "cell_type": "markdown",
   "metadata": {},
   "source": [
    "Ελέγξτε τις διαστάσεις του πίνακα u, τι αντιπροσωπεύουν οι γραμμές και τι οι στήλες;"
   ]
  },
  {
   "cell_type": "code",
   "execution_count": null,
   "metadata": {},
   "outputs": [],
   "source": []
  },
  {
   "cell_type": "markdown",
   "metadata": {},
   "source": [
    "### Αρχική συνθήκη\n",
    "\n",
    "- $u = 2x, \\;$ για $\\; 0 \\leq x < 1/2$\n",
    "\n",
    "- $u = 2(1-x), \\;$ για $\\; 1/2 \\leq x \\leq 1$"
   ]
  },
  {
   "cell_type": "code",
   "execution_count": null,
   "metadata": {},
   "outputs": [],
   "source": [
    "u[0, x < 0.5] = 2 * x[x < 0.5]\n"
   ]
  },
  {
   "cell_type": "markdown",
   "metadata": {},
   "source": [
    "Γράψτε την αρχική συνθήκη για το δεύτερο μισό της ράβδου"
   ]
  },
  {
   "cell_type": "code",
   "execution_count": null,
   "metadata": {},
   "outputs": [],
   "source": []
  },
  {
   "cell_type": "markdown",
   "metadata": {},
   "source": [
    "Σχεδιάστε την αρχική θερμοκρασιακή κατανομή στη ράβδο ($\\;t = 0\\;$)"
   ]
  },
  {
   "cell_type": "code",
   "execution_count": null,
   "metadata": {},
   "outputs": [],
   "source": []
  },
  {
   "cell_type": "markdown",
   "metadata": {},
   "source": [
    "### Οριακή συνθήκη\n",
    "\n",
    "- $u = 0,  \\;$ για $\\; x=0$\n",
    "\n",
    "- $u = 0,  \\;$ για $\\; x=1$"
   ]
  },
  {
   "cell_type": "markdown",
   "metadata": {},
   "source": [
    "Εισάγετε τις οριακές συνθήκες στον πίνακα `u`"
   ]
  },
  {
   "cell_type": "code",
   "execution_count": null,
   "metadata": {},
   "outputs": [],
   "source": []
  },
  {
   "cell_type": "markdown",
   "metadata": {},
   "source": [
    "Υπολογίστε τον συντελεστή $r$:\n",
    "$$\n",
    "\\begin{equation*}\n",
    "r=\\frac{k}{h^2}\n",
    "\\end{equation*}\n",
    "$$"
   ]
  },
  {
   "cell_type": "code",
   "execution_count": null,
   "metadata": {},
   "outputs": [],
   "source": []
  },
  {
   "cell_type": "markdown",
   "metadata": {},
   "source": [
    "### Αριθμητική λύση της μερικής διαφορικής εξίσωσης\n",
    "\n",
    "$$\n",
    "\\begin{equation*}\n",
    "u^{n+1}_i = ru^n_{i-1} + (1 - 2r)u^n_i + ru^n_{i+1}\n",
    "\\end{equation*}\n",
    "$$"
   ]
  },
  {
   "cell_type": "markdown",
   "metadata": {},
   "source": [
    "Συμπληρώστε τους δείκτες στη μεταβλητή `u` ως προς τη χωρική διάσταση.\n",
    "\n",
    "Θυμηθείτε ότι πρόκειται για δεύτερη παράγωγο centered-difference."
   ]
  },
  {
   "cell_type": "code",
   "execution_count": null,
   "metadata": {},
   "outputs": [],
   "source": [
    "for n in range(Nt - 1):\n",
    "    u[n + 1, ] = r*u[n, ] + (1 - 2*r)*u[n, ] + r*u[n, ]"
   ]
  },
  {
   "cell_type": "markdown",
   "metadata": {},
   "source": [
    "### Αναλυτική λύση της μερικής διαφορικής εξίσωσης\n",
    "\n",
    "$$\n",
    "\\begin{equation*}\n",
    "U = \\frac{8}{\\pi^2} \\sum_{n=1}^{\\infty}\\frac{1}{n^2}sin(\\frac{1}{2}n\\pi)sin(n\\pi x)e^{-n^2\\pi^2t}\n",
    "\\end{equation*}\n",
    "$$"
   ]
  },
  {
   "cell_type": "code",
   "execution_count": null,
   "metadata": {},
   "outputs": [],
   "source": [
    "nterms = 100\n",
    "\n",
    "terms = []\n",
    "for n in range(1, nterms + 1):\n",
    "    terms.append(\n",
    "        (1/n**2) *\n",
    "        np.sin(1/2 * n * np.pi) *\n",
    "        np.sin(n * np.pi * xx) *\n",
    "        np.exp(-n**2 * np.pi**2 * tt)\n",
    "    )\n",
    "\n",
    "U = (8/np.pi**2) * np.sum(terms, axis=0)"
   ]
  },
  {
   "cell_type": "markdown",
   "metadata": {},
   "source": [
    "### Δημιουργία πινάκων με τα αποτελέσματα"
   ]
  },
  {
   "cell_type": "code",
   "execution_count": null,
   "metadata": {},
   "outputs": [],
   "source": [
    "# δημιουργία Pandas DataFrame από NumPy array\n",
    "df_u = pd.DataFrame.from_records(\n",
    "    np.round(u, 4),\n",
    "    columns=np.round(x, 1),  # οι τιμές της επικεφαλίδας (header)\n",
    "    index=t,  # οι τιμές της στήλης index\n",
    ")\n",
    "df_u.head(6)  # οι πρώτες έξι σειρές του DataFrame"
   ]
  },
  {
   "cell_type": "code",
   "execution_count": null,
   "metadata": {},
   "outputs": [],
   "source": [
    "df_U = pd.DataFrame.from_records(\n",
    "    np.round(U, 4),\n",
    "    columns=np.round(x, 1),\n",
    "    index=t,\n",
    ")\n"
   ]
  },
  {
   "cell_type": "markdown",
   "metadata": {},
   "source": [
    "Επιθυμούμε να δούμε τα αποτελέσματα για συγκεκριμένες χρονικές στιγμές \\\n",
    "και για ένα συγκεκριμένο σημείο στον χώρο (Table 2.3 του βιβλίου)."
   ]
  },
  {
   "cell_type": "code",
   "execution_count": null,
   "metadata": {},
   "outputs": [],
   "source": [
    "times = [0.005, 0.01, 0.02, 0.10]\n",
    "position = 0.3\n"
   ]
  },
  {
   "cell_type": "code",
   "execution_count": null,
   "metadata": {},
   "outputs": [],
   "source": [
    "df_u = df_u.loc[df_u.index.isin(times)]  # μόνο τις συγκεκριμένες γραμμές\n",
    "df_u[[position]]  # μόνο τη συγκεκριμένη στήλη\n"
   ]
  },
  {
   "cell_type": "code",
   "execution_count": null,
   "metadata": {},
   "outputs": [],
   "source": [
    "df_U = df_U.loc[df_U.index.isin(times)]\n",
    "df_U[[position]]"
   ]
  },
  {
   "cell_type": "markdown",
   "metadata": {},
   "source": [
    "### 3-D animation της χρονικής εξέλιξης της θερμοκρασίας\n",
    "\n",
    "(credit Φωτεινή Φ. και Φώτης)"
   ]
  },
  {
   "cell_type": "code",
   "execution_count": null,
   "metadata": {},
   "outputs": [],
   "source": [
    "fig = plt.figure(figsize=(6, 5)) \n",
    "ax = plt.axes(projection=\"3d\")\n",
    "plt.close()\n",
    "\n",
    "def animate(i):\n",
    "    ax.plot(x, tt[i], u[i],  color=\"dimgray\")\n",
    "    ax.set_ylim([0, np.max(t)])\n",
    "    ax.set_zlim([0, 1])\n",
    "    ax.set_xlabel(\"x\", fontsize=16, fontweight=\"bold\")\n",
    "    ax.set_ylabel(\"t\", fontsize=16, fontweight=\"bold\")\n",
    "    ax.set_zlabel(\"u\", fontsize=16, fontweight=\"bold\")\n",
    "    ax.set_title(f\"Time: {t[i]:.3f} seconds\")\n",
    "    ax.tick_params(axis=\"both\", which=\"major\", pad=-2.0)\n",
    "    ax.view_init(azim=45)\n",
    "    \n",
    "ani = FuncAnimation(\n",
    "    fig=fig,\n",
    "    func=animate,\n",
    "    frames=len(t),\n",
    "    interval=50,\n",
    "    repeat=False,\n",
    ")\n",
    "plt.close()\n",
    "ani\n",
    "\n"
   ]
  },
  {
   "cell_type": "markdown",
   "metadata": {},
   "source": [
    "### 2-D animation με σύγκριση αριθμητικής και αναλυτικής λύσης\n",
    "\n",
    "Δημιουργήστε ένα animation στο οποίο θα αποτυπώνονται ταυτόχρονα:\n",
    "\n",
    "- Η αριθμητική λύση ως μεμονωμένα σημεία (`ax.scatter`)\n",
    "\n",
    "- Η αναλυτική λύση ως συνεχής καμπύλη (`ax.plot`)"
   ]
  },
  {
   "cell_type": "code",
   "execution_count": null,
   "metadata": {},
   "outputs": [],
   "source": []
  },
  {
   "cell_type": "markdown",
   "metadata": {},
   "source": [
    "Δοκιμάστε να επαναλάβετε το σύνολο της διαδικασίας με μεγαλύτερο χρονικό βήμα.\n",
    "\n",
    "Για παράδειγμα, εξετάστε αρχικά την περίπτωση όπου: $\\;k = 1/200$\n",
    "\n",
    "Διαπιστώστε στην πράξη ότι στην explicit μέθοδο για να έχουμε σωστή λύση \\\n",
    "η $r$ θα πρέπει να έχει τιμή $0 < r \\leq 1/2 $.\n",
    "\n",
    "(Παρατήρηση: Όταν αλλάζει το χρονικό βήμα πρέπει να αναπροσαρμόζεται και η \\\n",
    "παράμετρος `interval` του class `FuncAnimation` για σωστή προβολή των animation.)"
   ]
  }
 ],
 "metadata": {
  "kernelspec": {
   "display_name": "Python 3.10.4 ('research')",
   "language": "python",
   "name": "python3"
  },
  "language_info": {
   "codemirror_mode": {
    "name": "ipython",
    "version": 3
   },
   "file_extension": ".py",
   "mimetype": "text/x-python",
   "name": "python",
   "nbconvert_exporter": "python",
   "pygments_lexer": "ipython3",
   "version": "3.10.4"
  },
  "orig_nbformat": 4,
  "vscode": {
   "interpreter": {
    "hash": "a64397481a03d3e29229b26c41fe9bf23c6d382d2286036b124a8a7924579d21"
   }
  }
 },
 "nbformat": 4,
 "nbformat_minor": 2
}

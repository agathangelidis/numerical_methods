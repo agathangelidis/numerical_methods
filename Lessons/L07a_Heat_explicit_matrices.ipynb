{
 "cells": [
  {
   "cell_type": "markdown",
   "metadata": {},
   "source": [
    "## Εξίσωση διάδοσης θερμότητας\n",
    "\n",
    "## Explicit μέθοδος με χρήση πινάκων\n",
    "________"
   ]
  },
  {
   "cell_type": "code",
   "execution_count": null,
   "metadata": {},
   "outputs": [],
   "source": [
    "import numpy as np\n",
    "import matplotlib.pyplot as plt\n",
    "from matplotlib.animation import FuncAnimation\n",
    "import pandas as pd\n",
    "\n",
    "\n",
    "plt.style.use(\"default\")\n",
    "plt.rcParams[\"figure.figsize\"] = [5, 2.5]  # [width_inches, height_inches]\n",
    "plt.rcParams[\"animation.html\"] = \"jshtml\""
   ]
  },
  {
   "cell_type": "markdown",
   "metadata": {},
   "source": [
    "Εναλλακτική επίλυση του παραδείγματος 2.1 του βιβλίου G.D. Smith \\\n",
    "με Explicit μέθοδο και χρήση πίνακων."
   ]
  },
  {
   "cell_type": "markdown",
   "metadata": {},
   "source": [
    "Eξίσωση θερμότητας:\n",
    "\n",
    "$$\n",
    "\\begin{equation*}\n",
    "\\frac{\\partial u}{\\partial t} = \\frac{\\partial^2 u}{\\partial x^2}\n",
    "\\end{equation*}\n",
    "$$\n",
    "\n",
    "Αρχική συνθήκη:\n",
    "\n",
    "- $u = 2x, \\;$ για $\\; 0 \\leq x < 1/2, \\quad t=0$\n",
    "\n",
    "- $u = 2(1-x), \\;$ για $\\; 1/2 \\leq x \\leq 1, \\quad t=0$\n",
    "\n",
    "Οριακές συνθήκες:\n",
    "\n",
    "- $u = 0,  \\;$ για $\\; x=0$\n",
    "\n",
    "- $u = 0,  \\;$ για $\\; x=1$\n",
    "\n",
    "Διακριτοποίηση αξόνων:\n",
    "\n",
    "- Χωρικό βήμα: $\\;  δx = h = 1/10$\n",
    "\n",
    "- Χρονικό βήμα: $\\; δt = k = 1/1000$\n",
    "\n",
    "- $r = \\frac{k}{h^2} = 1/10$\n"
   ]
  },
  {
   "cell_type": "markdown",
   "metadata": {},
   "source": [
    "### Explicit μέθοδος επίλυσης\n",
    "\n",
    "- Forward-difference ως προς το $t$\n",
    "\n",
    "- Centered-difference ως προς το $x$\n",
    "\n",
    "\n",
    "$u^{n+1}_i = ru^n_{i-1} + (1 - 2r)u^n_i + ru^n_{i+1}$"
   ]
  },
  {
   "cell_type": "markdown",
   "metadata": {},
   "source": [
    "- Διακριτοποίηση χ-άξονα"
   ]
  },
  {
   "cell_type": "code",
   "execution_count": null,
   "metadata": {},
   "outputs": [],
   "source": [
    "x0 = 0\n",
    "xN = 1\n",
    "h = 1 / 10\n",
    "Nx = int((xN - x0) / h + 1)\n",
    "x = np.linspace(start=x0, stop=xN, num=Nx, endpoint=True, retstep=False)\n",
    "x"
   ]
  },
  {
   "cell_type": "markdown",
   "metadata": {},
   "source": [
    "- Διακριτοποίηση t-άξονα"
   ]
  },
  {
   "cell_type": "code",
   "execution_count": null,
   "metadata": {},
   "outputs": [],
   "source": [
    "t0 = 0\n",
    "k = 1 / 1000\n",
    "Nt = 120  # πλήθος χρονικών στιγμών\n",
    "tn_plus_k = Nt * k\n",
    "t = np.arange(t0, tn_plus_k, k)"
   ]
  },
  {
   "cell_type": "markdown",
   "metadata": {},
   "source": [
    "- Δημιουργία πλέγματος"
   ]
  },
  {
   "cell_type": "code",
   "execution_count": null,
   "metadata": {},
   "outputs": [],
   "source": [
    "xx, tt = np.meshgrid(x, t)"
   ]
  },
  {
   "cell_type": "markdown",
   "metadata": {},
   "source": [
    "- Δημιουργία κενού πίνακα για την αριθμητική λύση"
   ]
  },
  {
   "cell_type": "code",
   "execution_count": null,
   "metadata": {},
   "outputs": [],
   "source": [
    "u = np.full((Nt, Nx), np.nan)"
   ]
  },
  {
   "cell_type": "markdown",
   "metadata": {},
   "source": [
    "- Αρχική συνθήκη\n",
    "\n",
    "$\\quad u = 2x, \\;$ για $\\; 0 \\leq x < 1/2$\n",
    "\n",
    "$\\quad u = 2(1-x), \\;$ για $\\; 1/2 \\leq x \\leq 1$"
   ]
  },
  {
   "cell_type": "code",
   "execution_count": null,
   "metadata": {},
   "outputs": [],
   "source": [
    "u[0, x < 0.5] = 2 * x[x < 0.5]\n",
    "u[0, x >= 0.5] = 2 * (1 - x[x >= 0.5])"
   ]
  },
  {
   "cell_type": "markdown",
   "metadata": {},
   "source": [
    "- Οριακές συνθήκες"
   ]
  },
  {
   "cell_type": "code",
   "execution_count": null,
   "metadata": {},
   "outputs": [],
   "source": [
    "u[:, 0] = 0\n",
    "u[:, -1] = 0"
   ]
  },
  {
   "cell_type": "markdown",
   "metadata": {},
   "source": [
    "- Συντελεστής $r$"
   ]
  },
  {
   "cell_type": "code",
   "execution_count": null,
   "metadata": {},
   "outputs": [],
   "source": [
    "r = k / (h**2)\n",
    "r"
   ]
  },
  {
   "cell_type": "markdown",
   "metadata": {},
   "source": [
    "### Επανάληψη στους πίνακες"
   ]
  },
  {
   "cell_type": "markdown",
   "metadata": {},
   "source": [
    "\n",
    "\n",
    "1 . Δημιουργήστε τον παρακάτω πίνακα χρησιμοποιώντας τις συναρτήσεις:\n",
    "\n",
    "- `np.zeros`\n",
    "- `np.fill_diagonal`\n",
    "- `np.diag`\n",
    "\n",
    "|       | col-0 | col-1 | col-2 | col-3 |\n",
    "| ----- | ----- | ----- | ----- | ----- |\n",
    "| row-0 | 1     | 9     | 0     | 0     |\n",
    "| row-1 | 9     | 1     | 9     | 0     |\n",
    "| row-2 | 0     | 9     | 1     | 9     |\n",
    "| row-3 | 0     | 0     | 9     | 1     |"
   ]
  },
  {
   "cell_type": "code",
   "execution_count": null,
   "metadata": {},
   "outputs": [],
   "source": []
  },
  {
   "cell_type": "markdown",
   "metadata": {},
   "source": [
    "2. Γραμμική άλγεβρα"
   ]
  },
  {
   "cell_type": "code",
   "execution_count": null,
   "metadata": {},
   "outputs": [],
   "source": [
    "A = np.array([\n",
    "    [1, 2, 3],\n",
    "    [3, 2, 1]\n",
    "])\n",
    "\n",
    "B = np.array([\n",
    "    [0, 2],\n",
    "    [1, -1],\n",
    "    [0, 1]\n",
    "])"
   ]
  },
  {
   "cell_type": "markdown",
   "metadata": {},
   "source": [
    "Πραγματοποιήστε πολλαπλασιασμό πινάκων χρησιμοποιώντας τρεις διαφορετικούς τρόπους"
   ]
  },
  {
   "cell_type": "code",
   "execution_count": null,
   "metadata": {},
   "outputs": [],
   "source": [
    "#πρώτος τρόπος\n"
   ]
  },
  {
   "cell_type": "code",
   "execution_count": null,
   "metadata": {},
   "outputs": [],
   "source": [
    "#δεύτερος τρόπος\n"
   ]
  },
  {
   "cell_type": "code",
   "execution_count": null,
   "metadata": {},
   "outputs": [],
   "source": [
    "#τρίτος τρόπος\n"
   ]
  },
  {
   "cell_type": "markdown",
   "metadata": {},
   "source": [
    "### Επίλυση συστήματος εξισώσεων\n",
    "\n",
    "$ A \\cdot X = B$"
   ]
  },
  {
   "cell_type": "markdown",
   "metadata": {},
   "source": [
    "$3x_1 + 2x_2 - 1x_3 = 1$\n",
    "\n",
    "$2x_1 - 2x_2 + 4x_3 = -2$\n",
    "\n",
    "$-1x_1 + 0.5x_2 - 1x_3 = 0$"
   ]
  },
  {
   "cell_type": "code",
   "execution_count": null,
   "metadata": {},
   "outputs": [],
   "source": [
    "A = np.array(\n",
    "    [\n",
    "        [3, 2, -1],\n",
    "        [2, -2, 4],\n",
    "        [-1, 0.5, -1],\n",
    "    ]\n",
    ")\n",
    "\n",
    "B = np.array([1, -2, 0])"
   ]
  },
  {
   "cell_type": "markdown",
   "metadata": {},
   "source": [
    "Χρησιμοποιήστε τη συνάρτηση `np.linalg.solve` για να λύσετε το παραπάνω \\\n",
    "σύστημα εξισώσεων."
   ]
  },
  {
   "cell_type": "code",
   "execution_count": null,
   "metadata": {},
   "outputs": [],
   "source": []
  },
  {
   "cell_type": "markdown",
   "metadata": {},
   "source": [
    "### Αριθμητική λύση Explicit με χρήση πινάκων"
   ]
  },
  {
   "cell_type": "markdown",
   "metadata": {},
   "source": [
    "$ u^{n+1}_i = ru^n_{i-1} + (1 - 2r)u^n_i + ru^n_{i+1} $\n",
    "\n",
    "\n",
    "Οι εξισώσεις ανά σημείο είναι οι εξής:\n",
    "\n",
    "$u^{n+1}_1 = ru^n_0 + (1 - 2r)u^n_1 + ru^n_2$\n",
    "\n",
    "$u^{n+1}_2 = ru^n_1 + (1 - 2r)u^n_2 + ru^n_3$\n",
    "\n",
    "$\\dots$\n",
    "\n",
    "$u^{n+1}_9 = ru^n_8 + (1 - 2r)u^n_9 + ru^n_{10}$\n",
    "\n",
    "&nbsp;\n",
    "\n",
    "Σε μορφή πινάκων:\n",
    "\n",
    "$\\vec{u}^{n+1}_i = A\\vec{u}^{n}_i + \\vec{a}^n$\n",
    "\n",
    "&nbsp;\n",
    "\n",
    "Διαστάσεις πινάκων:\n",
    "\n",
    "$\\vec{u}^{n+1}_i: \\;(N_x - 2)$\n",
    "\n",
    "$A: \\;(N_x - 2) \\times (N_x - 2)$\n",
    "\n",
    "$\\vec{u}^{n}_i: \\;(N_x - 2) $\n",
    "\n",
    "$\\vec{a}^n: \\;(N_x - 2)$\n",
    "\n",
    "Το $\\vec{a}^n$ μπορεί να αγνοηθεί στο παρόν πρόβλημα  γιατί είναι ίσο με μηδέν \\\n",
    "για όλες τις χρονικές στιγμές.\n",
    "\n",
    "$\\Rightarrow \\vec{u}^{n+1}_i = A\\vec{u}^{n}_i$"
   ]
  },
  {
   "cell_type": "markdown",
   "metadata": {},
   "source": [
    "Δημιουργήστε έναν μηδενικο πίνακα για το $Α$:"
   ]
  },
  {
   "cell_type": "code",
   "execution_count": null,
   "metadata": {},
   "outputs": [],
   "source": []
  },
  {
   "cell_type": "markdown",
   "metadata": {},
   "source": [
    "Δώστε τις κατάλληλες τιμές στο $Α$:\n",
    "\n",
    "- Διαγώνιος: $1-2r$\n",
    "\n",
    "- Μετατοπισμένες διαγώνιοι: $r$"
   ]
  },
  {
   "cell_type": "code",
   "execution_count": null,
   "metadata": {},
   "outputs": [],
   "source": []
  },
  {
   "cell_type": "markdown",
   "metadata": {},
   "source": [
    "Βρείτε τη λύση της μερικής διαφορικής εξίσωσης σε κάθε χρονική στιγμή.\n",
    "\n",
    "$\\vec{u}^{n+1}_i = A\\vec{u}^{n}_i$\n",
    "\n"
   ]
  },
  {
   "cell_type": "code",
   "execution_count": null,
   "metadata": {},
   "outputs": [],
   "source": [
    "# for n in range(Nt - 1):\n"
   ]
  },
  {
   "cell_type": "markdown",
   "metadata": {},
   "source": [
    "### Έλεγχος αποτελεσμάτων"
   ]
  },
  {
   "cell_type": "code",
   "execution_count": null,
   "metadata": {},
   "outputs": [],
   "source": [
    "df_u = pd.DataFrame.from_records(\n",
    "    np.round(u, 4),\n",
    "    columns=np.round(x, 1),\n",
    "    index=t,\n",
    ")\n",
    "df_u.head(6)"
   ]
  },
  {
   "cell_type": "markdown",
   "metadata": {},
   "source": [
    "Table 2.3 του βιβλίου"
   ]
  },
  {
   "cell_type": "code",
   "execution_count": null,
   "metadata": {},
   "outputs": [],
   "source": [
    "times = [0.005, 0.01, 0.02, 0.10]\n",
    "position = 0.3\n",
    "df_u = df_u.loc[df_u.index.isin(times)]\n",
    "df_u[[position]]"
   ]
  }
 ],
 "metadata": {
  "kernelspec": {
   "display_name": "Python 3.10.4 ('research')",
   "language": "python",
   "name": "python3"
  },
  "language_info": {
   "codemirror_mode": {
    "name": "ipython",
    "version": 3
   },
   "file_extension": ".py",
   "mimetype": "text/x-python",
   "name": "python",
   "nbconvert_exporter": "python",
   "pygments_lexer": "ipython3",
   "version": "3.10.4"
  },
  "orig_nbformat": 4,
  "vscode": {
   "interpreter": {
    "hash": "a64397481a03d3e29229b26c41fe9bf23c6d382d2286036b124a8a7924579d21"
   }
  }
 },
 "nbformat": 4,
 "nbformat_minor": 2
}

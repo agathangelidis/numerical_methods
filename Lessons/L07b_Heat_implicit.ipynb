{
 "cells": [
  {
   "cell_type": "markdown",
   "metadata": {},
   "source": [
    "## Εξίσωση διάδοσης θερμότητας\n",
    "\n",
    "## Implicit μέθοδος (Crank - Nicolson)\n",
    "________\n",
    "\n",
    "[John Crank](https://en.wikipedia.org/wiki/John_Crank) & [Phyllis Nicolson](https://en.wikipedia.org/wiki/Phyllis_Nicolson)"
   ]
  },
  {
   "cell_type": "code",
   "execution_count": null,
   "metadata": {},
   "outputs": [],
   "source": [
    "import numpy as np\n",
    "import matplotlib.pyplot as plt\n",
    "from matplotlib.animation import FuncAnimation\n",
    "import pandas as pd\n",
    "\n",
    "\n",
    "plt.style.use(\"default\")\n",
    "plt.rcParams[\"figure.figsize\"] = [5, 2.5]  # [width_inches, height_inches]\n",
    "plt.rcParams[\"animation.html\"] = \"jshtml\""
   ]
  },
  {
   "cell_type": "markdown",
   "metadata": {},
   "source": [
    "### Εφαρμογή: Παράδειγμα 2.2 του βιβλίου G.D. Smith\n",
    "\n",
    "(σελ. 21 του βιβλίου, σελ. 19 του pdf)"
   ]
  },
  {
   "cell_type": "markdown",
   "metadata": {},
   "source": [
    "Eξίσωση θερμότητας:\n",
    "\n",
    "$$\n",
    "\\begin{equation*}\n",
    "\\frac{\\partial u}{\\partial t} = \\frac{\\partial^2 u}{\\partial x^2}\n",
    "\\end{equation*}\n",
    "$$\n",
    "\n",
    "Αρχική συνθήκη:\n",
    "\n",
    "- $u = 2x, \\;$ για $\\; 0 \\leq x < 1/2, \\quad t=0$\n",
    "\n",
    "- $u = 2(1-x), \\;$ για $\\; 1/2 \\leq x \\leq 1, \\quad t=0$\n",
    "\n",
    "Οριακές συνθήκες:\n",
    "\n",
    "- $u = 0,  \\;$ για $\\; x=0$\n",
    "\n",
    "- $u = 0,  \\;$ για $\\; x=1$\n",
    "\n",
    "Διακριτοποίηση αξόνων:\n",
    "\n",
    "- Χωρικό βήμα: $\\;  δx = h = 1/10$\n",
    "\n",
    "- Χρονικό βήμα: $\\; δt = k = 1/100$\n",
    "\n",
    "- $r = \\frac{k}{h^2} = 1$\n"
   ]
  },
  {
   "cell_type": "markdown",
   "metadata": {},
   "source": [
    "### Implicit μέθοδος επίλυσης (Crank-Nicolson)\n",
    "\n",
    "- Forward-difference ως προς το $t$\n",
    "\n",
    "- Μέση τιμή της centered-difference ως προς το $x$ για τις \\\n",
    "χρονικές στιγμές: (α) $n$ και (β) $n+1$\n",
    "\n",
    "$$\n",
    "\\begin{align*}\n",
    "& \\quad \\; \\frac{\\partial u}{\\partial t} = \\frac{\\partial^2 u}{\\partial x^2} \\\\[15pt]\n",
    "& \\Rightarrow \\frac {u^{n+1}_i - u^n_i}{k} = \\frac{1}{2}(\\frac{u^{n+1}_{i-1} - 2u^{n+1}_i + u^{n+1}_{i+1}}{h^2} + \\frac{u^n_{i-1} - 2u^n_i + u^n_{i+1}}{h^2})\\\\[15pt]\n",
    "& \\Rightarrow 2u^{n+1}_i - 2u^n_i = r(u^{n+1}_{i-1} - 2u^{n+1}_i + u^{n+1}_{i+1} + u^n_{i-1} - 2u^n_i + u^n_{i+1})\\\\[15pt]\n",
    "& \\Rightarrow -ru^{n+1}_{i-1} + (2 + 2r)u^{n+1}_{i} - ru^{n+1}_{i+1} = ru^n_{i-1} + (2-2r)u^n_i + ru^n_{i+1} \\\\\n",
    "\\end{align*}\n",
    "$$"
   ]
  },
  {
   "cell_type": "markdown",
   "metadata": {},
   "source": [
    "- Διακριτοποίηση χ-άξονα"
   ]
  },
  {
   "cell_type": "code",
   "execution_count": null,
   "metadata": {},
   "outputs": [],
   "source": [
    "x0 = 0\n",
    "xN = 1\n",
    "h = 1 / 10\n",
    "Nx = int((xN - x0) / h + 1)\n",
    "x = np.linspace(start=x0, stop=xN, num=Nx, endpoint=True, retstep=False)\n",
    "x\n"
   ]
  },
  {
   "cell_type": "markdown",
   "metadata": {},
   "source": [
    "- Διακριτοποίηση t-άξονα"
   ]
  },
  {
   "cell_type": "code",
   "execution_count": null,
   "metadata": {},
   "outputs": [],
   "source": [
    "t0 = 0\n",
    "k = 1 / 100\n",
    "Nt = 120  # πλήθος χρονικών στιγμών\n",
    "tN_plus_k = Nt * k\n",
    "t = np.arange(t0, tN_plus_k, k)"
   ]
  },
  {
   "cell_type": "markdown",
   "metadata": {},
   "source": [
    "- Δημιουργία πλέγματος"
   ]
  },
  {
   "cell_type": "code",
   "execution_count": null,
   "metadata": {},
   "outputs": [],
   "source": [
    "xx, tt = np.meshgrid(x, t)"
   ]
  },
  {
   "cell_type": "markdown",
   "metadata": {},
   "source": [
    "- Δημιουργία κενού πίνακα για την αριθμητική λύση"
   ]
  },
  {
   "cell_type": "code",
   "execution_count": null,
   "metadata": {},
   "outputs": [],
   "source": [
    "u = np.full((Nt, Nx), np.nan)"
   ]
  },
  {
   "cell_type": "markdown",
   "metadata": {},
   "source": [
    "- Αρχική συνθήκη\n",
    "\n",
    "$\\quad u = 2x, \\;$ για $\\; 0 \\leq x < 1/2$\n",
    "\n",
    "$\\quad u = 2(1-x), \\;$ για $\\; 1/2 \\leq x \\leq 1$"
   ]
  },
  {
   "cell_type": "code",
   "execution_count": null,
   "metadata": {},
   "outputs": [],
   "source": [
    "u[0, x < 0.5] = 2 * x[x < 0.5]\n",
    "u[0, x >= 0.5] = 2 * (1 - x[x >= 0.5])"
   ]
  },
  {
   "cell_type": "markdown",
   "metadata": {},
   "source": [
    "- Οριακές συνθήκες"
   ]
  },
  {
   "cell_type": "code",
   "execution_count": null,
   "metadata": {},
   "outputs": [],
   "source": [
    "u[:, 0] = 0\n",
    "u[:, -1] = 0"
   ]
  },
  {
   "cell_type": "markdown",
   "metadata": {},
   "source": [
    "- Συντελεστής $r$"
   ]
  },
  {
   "cell_type": "code",
   "execution_count": null,
   "metadata": {},
   "outputs": [],
   "source": [
    "r = k / (h**2)\n",
    "r"
   ]
  },
  {
   "cell_type": "markdown",
   "metadata": {},
   "source": [
    "### Αριθμητική λύση Implicit"
   ]
  },
  {
   "cell_type": "markdown",
   "metadata": {},
   "source": [
    "$-ru^{n+1}_{i-1} + (2 + 2r)u^{n+1}_{i} - ru^{n+1}_{i+1} = ru^n_{i-1} + (2-2r)u^n_i + ru^n_{i+1}$\n",
    "\n",
    "\n",
    "Οι εξισώσεις ανά σημείο είναι οι εξής:\n",
    "\n",
    "$  -ru^{n+1}_{0} + (2 + 2r)u^{n+1}_{1} - ru^{n+1}_{2} = ru^n_{0} + (2-2r)u^n_1 + ru^n_{2}$\n",
    "\n",
    "$  -ru^{n+1}_{1} + (2 + 2r)u^{n+1}_{2} - ru^{n+1}_{3} = ru^n_{1} + (2-2r)u^n_2 + ru^n_{3}$\n",
    "\n",
    "$ \\dots $\n",
    "\n",
    "$  -ru^{n+1}_{8} + (2 + 2r)u^{n+1}_{9} - ru^{n+1}_{10} = ru^n_{8} + (2-2r)u^n_9 + ru^n_{10}$\n",
    "\n",
    "&nbsp;\n",
    "\n",
    "Σε μορφή πινάκων:\n",
    "\n",
    "$A\\vec{u}^{n+1}_i = B\\vec{u}^{n}_i + \\vec{a}^n + \\vec{b}^n$\n",
    "\n",
    "&nbsp;\n",
    "\n",
    "Διαστάσεις πινάκων:\n",
    "\n",
    "$\\vec{u}^{n+1}_i: \\;(N_x - 2)$\n",
    "\n",
    "$A: \\;(N_x - 2) \\times (N_x - 2)$\n",
    "\n",
    "$B: \\;(N_x - 2) \\times (N_x - 2)$\n",
    "\n",
    "$\\vec{u}^{n}_i: \\;(N_x - 2) $\n",
    "\n",
    "$\\vec{a}^n: \\;(N_x - 2)$\n",
    "\n",
    "$\\vec{b}^n: \\;(N_x - 2)$\n",
    "\n",
    "Τα $\\; \\vec{a}^n, \\; \\vec{b}^n$ μπορούν να αγνοηθούν στο παρόν πρόβλημα γιατί είναι \\\n",
    "ίσα με μηδέν για όλες τις χρονικές στιγμές.\n",
    "\n",
    "$A\\vec{u}^{n+1}_i = B\\vec{u}^{n}_i$\n",
    "\n",
    "Παρατήρηση:\n",
    "\n",
    "Είναι προτιμητέο να μην μετασχηματίσουμε την εξίσωση στην παρακάτω μορφή, \\\n",
    "[αποφεύγοντας επομένως να βρούμε τον αντίστροφο του πίνακα](https://gregorygundersen.com/blog/2020/12/09/matrix-inversion/) καθώς είναι \\\n",
    "πιο αργή και λιγότερο ακριβής μέθοδος.\n",
    "\n",
    "$\\vec{u}^{n+1}_i = A^{-1}B\\vec{u}^{n}_i$"
   ]
  },
  {
   "cell_type": "markdown",
   "metadata": {},
   "source": [
    "### Εφαρμογή Implicit μεθόδου"
   ]
  },
  {
   "cell_type": "markdown",
   "metadata": {},
   "source": [
    "Δημιουργήστε μηδενικούς πίνακες για τα $Α$ και $B$:"
   ]
  },
  {
   "cell_type": "code",
   "execution_count": null,
   "metadata": {},
   "outputs": [],
   "source": [
    "A = np.zeros((Nx-2, Nx-2))\n",
    "B = np.zeros((Nx-2, Nx-2))\n"
   ]
  },
  {
   "cell_type": "markdown",
   "metadata": {},
   "source": [
    "Δώστε τις κατάλληλες τιμές στο $Α$:\n",
    "\n",
    "- Διαγώνιος: $2+2r$\n",
    "\n",
    "- Μετατοπισμένες διαγώνιοι: $-r$"
   ]
  },
  {
   "cell_type": "code",
   "execution_count": null,
   "metadata": {},
   "outputs": [],
   "source": [
    "np.fill_diagonal(A, (2 + (2 * r)))  # in-place συνάρτηση\n",
    "\n",
    "offset_diagonal_values = np.repeat(-r, A.shape[0] - 1)\n",
    "\n",
    "A = A + np.diag(offset_diagonal_values, 1) + np.diag(offset_diagonal_values, -1)"
   ]
  },
  {
   "cell_type": "markdown",
   "metadata": {},
   "source": [
    "Δώστε τις κατάλληλες τιμές στο $B$:\n",
    "\n",
    "- Διαγώνιος: $2-2r$\n",
    "\n",
    "- Μετατοπισμένες διαγώνιοι: $r$"
   ]
  },
  {
   "cell_type": "code",
   "execution_count": null,
   "metadata": {},
   "outputs": [],
   "source": [
    "np.fill_diagonal(B, (2 - (2 * r)))  # in-place συνάρτηση\n",
    "\n",
    "offset_diagonal_values = np.repeat(r, B.shape[0] - 1)\n",
    "\n",
    "B = B + np.diag(offset_diagonal_values, 1) + np.diag(offset_diagonal_values, -1)"
   ]
  },
  {
   "cell_type": "markdown",
   "metadata": {},
   "source": [
    "$A\\vec{u}^{n+1}_i = B\\vec{u}^{n}_i$\n",
    "\n",
    "Βρείτε τη λύση της μερικής διαφορικής εξίσωσης επιλύοντας σε κάθε χρονική \\\n",
    "στιγμή το παραπάνω σύστημα εξισώσεων. \n",
    "\n",
    "Χρησιμοποιήστε τη συνάρτηση `np.linalg.solve`"
   ]
  },
  {
   "cell_type": "code",
   "execution_count": null,
   "metadata": {},
   "outputs": [],
   "source": [
    "for n in range(Nt - 1):\n",
    "    u[n + 1, 1:-1] = np.linalg.solve(A, B.dot(u[n, 1:-1]))\n"
   ]
  },
  {
   "attachments": {},
   "cell_type": "markdown",
   "metadata": {},
   "source": [
    "### Αναλυτική λύση της μερικής διαφορικής εξίσωσης\n",
    "\n",
    "$$\n",
    "\\begin{equation*}\n",
    "U = \\frac{8}{\\pi^2} \\sum_{n=1}^{\\infty}\\frac{1}{n^2}\\sin(\\frac{1}{2}n\\pi)\\sin(n\\pi x)e^{-n^2\\pi^2t}\n",
    "\\end{equation*}\n",
    "$$"
   ]
  },
  {
   "cell_type": "code",
   "execution_count": null,
   "metadata": {},
   "outputs": [],
   "source": [
    "nterms = 100\n",
    "terms = []\n",
    "for n in range(1, nterms + 1):\n",
    "    terms.append(\n",
    "        (1/n**2) *\n",
    "        np.sin(1/2 * n * np.pi) *\n",
    "        np.sin(n * np.pi * xx) *\n",
    "        np.exp(-n**2 * np.pi**2 * tt)\n",
    "    )\n",
    "U = (8/np.pi**2) * np.sum(terms, axis=0)"
   ]
  },
  {
   "cell_type": "markdown",
   "metadata": {},
   "source": [
    "### Έλεγχος αποτελεσμάτων"
   ]
  },
  {
   "cell_type": "code",
   "execution_count": null,
   "metadata": {},
   "outputs": [],
   "source": [
    "df_u = pd.DataFrame.from_records(\n",
    "    np.round(u, 4),\n",
    "    columns=np.round(x, 1),\n",
    "    index=t,\n",
    ")\n",
    "df_u.head(6)"
   ]
  },
  {
   "cell_type": "code",
   "execution_count": null,
   "metadata": {},
   "outputs": [],
   "source": [
    "df_U = pd.DataFrame.from_records(\n",
    "    np.round(U, 4),\n",
    "    columns=np.round(x, 1),\n",
    "    index=t,\n",
    ")"
   ]
  },
  {
   "cell_type": "markdown",
   "metadata": {},
   "source": [
    "Table 2.9 του βιβλίου\n",
    "\n",
    "Κρατήστε τις κατάλληλες χρονικές στιγμές και το κατάλληλο σημείο της ράβδου \\\n",
    "από τα `df_u` και τα `df_U` έτσι ώστε να συγκρίνετε τα αποτελέσματά σας με αυτά \\\n",
    "του πίνακα 2.9 του βιβλίου."
   ]
  },
  {
   "cell_type": "code",
   "execution_count": null,
   "metadata": {},
   "outputs": [],
   "source": [
    "times = [0.01, 0.02, 0.10]\n",
    "position = 0.5\n",
    "df_u = df_u.loc[df_u.index.isin(times)]\n",
    "df_u[[position]]"
   ]
  },
  {
   "cell_type": "code",
   "execution_count": null,
   "metadata": {},
   "outputs": [],
   "source": [
    "df_U = df_U.loc[df_U.index.isin(times)]\n",
    "df_U[[position]]\n"
   ]
  },
  {
   "cell_type": "markdown",
   "metadata": {},
   "source": [
    "### Animation με την αριθμητική και την αναλυτική λύση"
   ]
  },
  {
   "cell_type": "code",
   "execution_count": null,
   "metadata": {},
   "outputs": [],
   "source": [
    "fig, ax = plt.subplots()\n",
    "plt.close()\n",
    "\n",
    "\n",
    "def animate(i):\n",
    "    ax.clear()\n",
    "    ax.plot(x, U[i], color=\"orange\")\n",
    "    ax.scatter(x, u[i], color=\"dimgrey\")\n",
    "    ax.set_ylim([-0.05, 1 + 0.05])\n",
    "    ax.set_xlabel(\"x\", fontsize=12)\n",
    "    ax.set_ylabel(\"Temperature\", fontsize=12)\n",
    "    ax.set_title(f\"Time: {t[i]:.2f} seconds\", fontweight=\"bold\", loc=\"center\")\n",
    "\n",
    "ani = FuncAnimation(\n",
    "    fig=fig,\n",
    "    func=animate,\n",
    "    frames=Nt,\n",
    "    interval=50,\n",
    "    repeat=False,\n",
    ")\n",
    "plt.close()"
   ]
  },
  {
   "cell_type": "code",
   "execution_count": null,
   "metadata": {},
   "outputs": [],
   "source": [
    "ani"
   ]
  },
  {
   "cell_type": "markdown",
   "metadata": {},
   "source": [
    "Διπλασιάστε ή τριπλασιάστε το χρονικό βήμα και παρατηρήστε ότι η implicit \\\n",
    "μέθοδος παραμένει ευσταθής ακολουθώντας την αριθμητική λύση."
   ]
  },
  {
   "cell_type": "markdown",
   "metadata": {},
   "source": [
    "\"_Although the Crank-Nicolson method is stable for all positive values of r \\\n",
    "in the sense that the solution and all errors eventually tend to zero as n \\\n",
    "tends to infinity, it will be shown that large values for r, such as 40, \\\n",
    "can introduce unwanted finite oscillations into the numerical solution_.\""
   ]
  },
  {
   "cell_type": "markdown",
   "metadata": {},
   "source": [
    "Εξετάστε αν δημιουργούνται στο παρόν πρόβλημα ταλαντώσεις δίνοντας μεγάλο \\\n",
    "χρονικό βήμα ($k = 0.4$)\n",
    "\n",
    "(αναπροσαρμόστε την παράμετρο `interval` του `FuncAnimation` σε τιμή 200)"
   ]
  }
 ],
 "metadata": {
  "kernelspec": {
   "display_name": "Python 3.10.4 ('research')",
   "language": "python",
   "name": "python3"
  },
  "language_info": {
   "codemirror_mode": {
    "name": "ipython",
    "version": 3
   },
   "file_extension": ".py",
   "mimetype": "text/x-python",
   "name": "python",
   "nbconvert_exporter": "python",
   "pygments_lexer": "ipython3",
   "version": "3.10.4 | packaged by conda-forge | (main, Mar 24 2022, 17:38:57) [GCC 10.3.0]"
  },
  "orig_nbformat": 4,
  "vscode": {
   "interpreter": {
    "hash": "a64397481a03d3e29229b26c41fe9bf23c6d382d2286036b124a8a7924579d21"
   }
  }
 },
 "nbformat": 4,
 "nbformat_minor": 2
}

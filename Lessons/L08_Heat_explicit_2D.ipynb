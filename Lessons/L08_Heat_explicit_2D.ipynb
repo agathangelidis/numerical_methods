{
 "cells": [
  {
   "cell_type": "markdown",
   "metadata": {},
   "source": [
    "## Εξίσωση διάδοσης θερμότητας\n",
    "\n",
    "## Explicit μέθοδος (2D)\n",
    "________"
   ]
  },
  {
   "cell_type": "code",
   "execution_count": null,
   "metadata": {},
   "outputs": [],
   "source": [
    "import numpy as np\n",
    "import matplotlib.pyplot as plt\n",
    "from matplotlib.animation import FuncAnimation\n",
    "\n",
    "\n",
    "plt.style.use(\"default\")\n",
    "plt.rcParams[\"figure.figsize\"] = [5, 3]  # [width_inches, height_inches]\n",
    "plt.rcParams[\"animation.html\"] = \"jshtml\"\n"
   ]
  },
  {
   "cell_type": "markdown",
   "metadata": {},
   "source": [
    "Αναζητούμε την αριθμητική λύση της εξίσωσης θερμότητας σε μια επιφάνεια:\n",
    "\n",
    "$$\n",
    "\\begin{equation*}\n",
    "\\frac{\\partial u}{\\partial t} = \\frac{\\partial^2 u}{\\partial x^2} + \\frac{\\partial^2 u}{\\partial y^2}\n",
    "\\end{equation*}\n",
    "$$\n",
    "\n",
    "$0 \\leq x \\leq 2, \\quad 0 \\leq y \\leq 1$\n",
    "\n",
    "\n",
    "Η επιφάνεια έχει σταθερή (μηδενική) θερμοκρασία στα άκρα της (οριακές συνθήκες):\n",
    "\n",
    "- $u = 0  \\;$ για $\\; x=0$\n",
    "- $u = 0  \\;$ για $\\; x=2$\n",
    "- $u = 0  \\;$ για $\\; y=0$\n",
    "- $u = 0  \\;$ για $\\; y=1$\n",
    "\n",
    "Με αρχική θερμοκρασιακή κατανομή στο εσωτερικό της (αρχική συνθήκη):\n",
    "\n",
    "- $u(0, x, y) = 1\\;$ για $\\;0 < x < 2\\;$ και $\\;0 < y < 1$ \n"
   ]
  },
  {
   "cell_type": "markdown",
   "metadata": {},
   "source": [
    "### Διακριτοποίηση αξόνων\n",
    "\n",
    "- Χωρικό βήμα: $\\;  δx \\;(h_x) = δy \\;(h_y) =  1/10$\n",
    "\n",
    "- Χρονικό βήμα: $\\; δt = k = 1/1000$\n",
    "\n",
    "- $r = \\frac{k}{h^2} = 1/10$"
   ]
  },
  {
   "cell_type": "markdown",
   "metadata": {},
   "source": [
    "### Explicit μέθοδος επίλυσης\n",
    "\n",
    "- Forward-difference ως προς το $t$\n",
    "\n",
    "- Centered-difference ως προς το $x$ και ως προς το $y$\n",
    "\n",
    "$$\n",
    "\\begin{align*}\n",
    "& \\quad \\; \\frac{\\partial u}{\\partial t} = \\frac{\\partial^2 u}{\\partial x^2} + \\frac{\\partial^2 u}{\\partial y^2} \\\\[15pt]\n",
    "& \\Rightarrow \\frac {u^{n+1}_{i,j} - u^n_{i,j}}{k} = \\frac{u^n_{i-1,j} - 2u^n_{i,j} + u^n_{i+1,j}}{h^2} + \\frac{u^n_{i,j-1} - 2u^n_{i,j} + u^n_{i,j+1}}{h^2}\\\\[15pt]\n",
    "& \\Rightarrow u^{n+1}_{i,j} - u^n_{i,j} = ru^n_{i-1,j} - 2ru^n_{i,j} + ru^n_{i+1,j} + ru^n_{i,j-1} - 2ru^n_{i,j} + ru^n_{i,j+1} \\qquad r = \\frac {k}{h^2}\\\\[15pt]\n",
    "& \\Rightarrow u^{n+1}_{i,j} = ru^n_{i-1,j} + ru^n_{i,j-1} + (1 - 4r)u^n_{i,j} + ru^n_{i+1,j} + ru^n_{i,j+1} \\\\\n",
    "\\end{align*}\n",
    "$$"
   ]
  },
  {
   "cell_type": "markdown",
   "metadata": {},
   "source": [
    "### Τρισδιάστατοι NumPy πίνακες\n",
    "\n",
    "Ένας τρισδιάστος πίνακας μπορεί να θεωρηθεί ως συνδυασμός δισδιάστατων πινάκων."
   ]
  },
  {
   "cell_type": "code",
   "execution_count": null,
   "metadata": {},
   "outputs": [],
   "source": [
    "a = np.array([\n",
    "    [\n",
    "        [1, 2, 3, 4],\n",
    "        [5, 6, 7, 8],\n",
    "    ],\n",
    "    [\n",
    "        [1, 1, 1, 1],\n",
    "        [1, 1, 1, 1],\n",
    "    ],\n",
    "    [\n",
    "        [0, 0, 0, 0],\n",
    "        [1, 1, 1, 1],\n",
    "    ],\n",
    "])"
   ]
  },
  {
   "cell_type": "markdown",
   "metadata": {},
   "source": [
    "Μέσω του attribute `shape` διερευνήστε τις διαστάσεις του `a`.\n",
    "\n",
    "Σε τι αντιστοιχεί ο κάθε αριθμός;"
   ]
  },
  {
   "cell_type": "code",
   "execution_count": null,
   "metadata": {},
   "outputs": [],
   "source": []
  },
  {
   "cell_type": "markdown",
   "metadata": {},
   "source": [
    "Επιλογή στοιχείων από έναν τρισδιάστατο πίνακα:"
   ]
  },
  {
   "cell_type": "code",
   "execution_count": null,
   "metadata": {},
   "outputs": [],
   "source": [
    "a[1:, :, :]"
   ]
  },
  {
   "cell_type": "code",
   "execution_count": null,
   "metadata": {},
   "outputs": [],
   "source": [
    "a[0, 1, 0:-1]"
   ]
  },
  {
   "cell_type": "markdown",
   "metadata": {},
   "source": [
    "Να επιλέξετε την πρώτη γραμμή από τον τελευταίο επιμέρους πίνακα του `a`, \\\n",
    "δηλαδή τα στοιχεία `[0, 0, 0, 0]`."
   ]
  },
  {
   "cell_type": "code",
   "execution_count": null,
   "metadata": {},
   "outputs": [],
   "source": []
  },
  {
   "cell_type": "markdown",
   "metadata": {},
   "source": [
    "Στον πίνακα `b` που ακολουθεί να αντικαταστήσετε τις τιμές στην πρώτη στήλη \\\n",
    "των επιμέρους πινάκων του με την τιμή 100."
   ]
  },
  {
   "cell_type": "code",
   "execution_count": null,
   "metadata": {},
   "outputs": [],
   "source": [
    "b = np.array([\n",
    "    [\n",
    "        [1, 2],\n",
    "        [3, 4],\n",
    "    ],\n",
    "    [\n",
    "        [1, 1],\n",
    "        [1, 1],\n",
    "    ],\n",
    "])"
   ]
  },
  {
   "cell_type": "markdown",
   "metadata": {},
   "source": [
    "### Δημιουργία διαγράμματος εικόνας (image plot)"
   ]
  },
  {
   "cell_type": "code",
   "execution_count": null,
   "metadata": {},
   "outputs": [],
   "source": [
    "a = np.array([\n",
    "    [1, 2, 3],\n",
    "    [4, 5, 6]\n",
    "])\n",
    "fig, ax = plt.subplots()\n",
    "plt.close()\n",
    "\n",
    "img = ax.imshow(a)\n",
    "fig.colorbar(img, ax=ax, fraction=0.03)\n",
    "\n",
    "fig"
   ]
  },
  {
   "cell_type": "markdown",
   "metadata": {},
   "source": [
    "#### Ξανασχεδιάστε το παραπάνω διάγραμμα:\n",
    "\n",
    "- Χρησιμοποιώντας τον ανάστροφο του πίνακα `a` (`a.T`).\n",
    "\n",
    "- Επιλέγοντας ποιά θα είναι η ελάχιστη και ποιά η μέγιστη τιμή της χρωματικής \\\n",
    "κλίμακας (παράμετροι `vmin`, `vmax` στο `ax.imshow`)."
   ]
  },
  {
   "cell_type": "code",
   "execution_count": null,
   "metadata": {},
   "outputs": [],
   "source": []
  },
  {
   "cell_type": "markdown",
   "metadata": {},
   "source": [
    "### Επίλυση της 2-D εξίσωσης θερμότητας\n",
    "\n",
    "$$\n",
    "\\begin{equation*}\n",
    "\\frac{\\partial u}{\\partial t} = \\frac{\\partial^2 u}{\\partial x^2} + \\frac{\\partial^2 u}{\\partial y^2}\n",
    "\\end{equation*}\n",
    "$$\n"
   ]
  },
  {
   "cell_type": "markdown",
   "metadata": {},
   "source": [
    "### Δημιουργήστε τον x-άξονα\n",
    "\n",
    "$0 \\leq x \\leq 2$\n",
    "\n",
    "$δx = h_x = 1/10$\n",
    "\n",
    "Χρησιμοποιήστε τη συνάρτηση `np.linspace`."
   ]
  },
  {
   "cell_type": "code",
   "execution_count": null,
   "metadata": {},
   "outputs": [],
   "source": []
  },
  {
   "cell_type": "markdown",
   "metadata": {},
   "source": [
    "### Δημιουργήστε τον y-άξονα\n",
    "\n",
    "$0 \\leq y \\leq 1$\n",
    "\n",
    "$δy = h_y = 1/10$\n",
    "\n",
    "Χρησιμοποιήστε τη συνάρτηση `np.linspace`."
   ]
  },
  {
   "cell_type": "code",
   "execution_count": null,
   "metadata": {},
   "outputs": [],
   "source": []
  },
  {
   "cell_type": "markdown",
   "metadata": {},
   "source": [
    "### Δημιουργήστε τον t-άξονα\n",
    "\n",
    "$\\; δt = k = 1/1000$\n",
    "\n",
    "Χρησιμοποιήστε τη συνάρτηση `np.arange` και 100 χρονικές στιγμές (`Nt=100`)."
   ]
  },
  {
   "cell_type": "code",
   "execution_count": null,
   "metadata": {},
   "outputs": [],
   "source": []
  },
  {
   "cell_type": "markdown",
   "metadata": {},
   "source": [
    "### Δημιουργήστε έναν κενό 3-D πίνακα `u` για την αριθμητική λύση\n",
    "\n",
    "Χρησιμοποιήστε τη συνάρτηση `np.full` και τη σταθερή τιμή `np.nan`.\n",
    "\n",
    "Διερευνήστε τις διαστάσεις του πίνακα."
   ]
  },
  {
   "cell_type": "code",
   "execution_count": null,
   "metadata": {},
   "outputs": [],
   "source": []
  },
  {
   "cell_type": "markdown",
   "metadata": {},
   "source": [
    "### Οριακές συνθήκες\n",
    "\n",
    "- $u = 0  \\;$ για $\\; x=0$\n",
    "- $u = 0  \\;$ για $\\; x=2$\n",
    "- $u = 0  \\;$ για $\\; y=0$\n",
    "- $u = 0  \\;$ για $\\; y=1$\n"
   ]
  },
  {
   "cell_type": "markdown",
   "metadata": {},
   "source": [
    "#### Εισάγετε τις οριακές συνθήκες στον πίνακα `u`.\n",
    "\n",
    "Χρησιμοποίηστε τέσσερις διαδοχικές εντολές, επιλέγοντας τις κατάλληλες \\\n",
    "γραμμές/στήλες κάθε φορά."
   ]
  },
  {
   "cell_type": "code",
   "execution_count": null,
   "metadata": {},
   "outputs": [],
   "source": []
  },
  {
   "cell_type": "markdown",
   "metadata": {},
   "source": [
    "### Αρχική συνθήκη\n",
    "\n",
    "- $u(0, x, y) = 1\\;$ για $\\;0 < x < 2\\;$ και $\\;0 < y < 1$ \n"
   ]
  },
  {
   "cell_type": "markdown",
   "metadata": {},
   "source": [
    "#### Εισάγετε την αρχική συνθήκη στον πίνακα `u`.\n",
    "\n",
    "Χρησιμοποίηστε μία εντολή, επιλέγοντας τις κατάλληλες γραμμές/στήλες.\n",
    "\n",
    "Προσοχή να μην αναιρέσετε τις οριακές συνθήκες που εισάγατε προηγουμένως."
   ]
  },
  {
   "cell_type": "code",
   "execution_count": null,
   "metadata": {},
   "outputs": [],
   "source": []
  },
  {
   "cell_type": "markdown",
   "metadata": {},
   "source": [
    "Σχεδιάστε την αρχική θερμοκρασιακή κατανομή στη ράβδο ($\\;t = 0\\;$)\n",
    "\n",
    "Χρησιμοποιήστε τον ανάστροφο του πίνακα για να είναι ο x-άξονας οριζόντιος."
   ]
  },
  {
   "cell_type": "code",
   "execution_count": null,
   "metadata": {},
   "outputs": [],
   "source": []
  },
  {
   "cell_type": "markdown",
   "metadata": {},
   "source": [
    "#### Υπολογίστε τον συντελεστή $r$:\n",
    "$$\n",
    "\\begin{equation*}\n",
    "r=\\frac{k}{h^2}\n",
    "\\end{equation*}\n",
    "$$"
   ]
  },
  {
   "cell_type": "code",
   "execution_count": null,
   "metadata": {},
   "outputs": [],
   "source": []
  },
  {
   "cell_type": "markdown",
   "metadata": {},
   "source": [
    "### Αριθμητική λύση της μερικής διαφορικής εξίσωσης\n",
    "\n",
    "$$\n",
    "\\begin{equation*}\n",
    "u^{n+1}_{i,j} = ru^n_{i-1,j} + ru^n_{i,j-1} + (1 - 4r)u^n_{i,j} + ru^n_{i+1,j} + ru^n_{i,j+1}\n",
    "\\end{equation*}\n",
    "$$"
   ]
  },
  {
   "cell_type": "markdown",
   "metadata": {},
   "source": [
    "Συμπληρώστε τους δείκτες στη μεταβλητή `u` ως προς τις χωρικές διαστάσεις.\n",
    "\n",
    "Θυμηθείτε ότι πρόκειται για δεύτερη παράγωγο centered-difference."
   ]
  },
  {
   "cell_type": "code",
   "execution_count": null,
   "metadata": {},
   "outputs": [],
   "source": [
    "for n in range(Nt - 1):\n",
    "    u[n + 1, , ] = (\n",
    "        r*u[n, , ] + \n",
    "        r*u[n, , ] + \n",
    "        (1 - 4*r)*u[n, , ] + \n",
    "        r*u[n, , ] +\n",
    "        r*u[n, , ]\n",
    "    )"
   ]
  },
  {
   "cell_type": "markdown",
   "metadata": {},
   "source": [
    "### Animation της λύσης\n",
    "\n",
    "Συμπληρώστε την εντολή που λείπει χρησιμοποιώντας:\n",
    "\n",
    "- Τον ανάστροφο του πίνακα για να είναι ο x-άξονας οριζόντιος.\n",
    "\n",
    "- Ελάχιστο όριο 0 και μέγιστο 1 (παράμετροι `vmin`, `vmax` στο `ax.imshow`)."
   ]
  },
  {
   "cell_type": "code",
   "execution_count": null,
   "metadata": {},
   "outputs": [],
   "source": [
    "fig, ax = plt.subplots()\n",
    "plt.close()\n",
    "\n",
    "colorbar_axes = None\n",
    "\n",
    "# δημιουργία σταθερού colorbar\n",
    "img = ax.imshow(np.zeros((1,1)), vmin=0, vmax=1)\n",
    "fig.colorbar(img, ax=ax, fraction=0.025)\n",
    "\n",
    "def animate(i):\n",
    "    ax.clear()\n",
    "\n",
    "    #----------------\n",
    "    # συμπλήρωστε εδώ\n",
    "\n",
    "    \n",
    "    ax.set_xlabel(\"x\", fontsize=12)\n",
    "    ax.set_ylabel(\"y\", fontsize=12)\n",
    "    ax.set_title(f\"Time: {t[i]:.3f} seconds\", fontweight=\"bold\", loc=\"center\")\n",
    "\n",
    "ani = FuncAnimation(\n",
    "    fig=fig,\n",
    "    func=animate,\n",
    "    frames=Nt,\n",
    "    interval=70,\n",
    "    repeat=False,\n",
    ")\n",
    "plt.close()\n",
    "ani"
   ]
  }
 ],
 "metadata": {
  "kernelspec": {
   "display_name": "Python 3.10.4 ('research')",
   "language": "python",
   "name": "python3"
  },
  "language_info": {
   "codemirror_mode": {
    "name": "ipython",
    "version": 3
   },
   "file_extension": ".py",
   "mimetype": "text/x-python",
   "name": "python",
   "nbconvert_exporter": "python",
   "pygments_lexer": "ipython3",
   "version": "3.10.4"
  },
  "orig_nbformat": 4,
  "vscode": {
   "interpreter": {
    "hash": "a64397481a03d3e29229b26c41fe9bf23c6d382d2286036b124a8a7924579d21"
   }
  }
 },
 "nbformat": 4,
 "nbformat_minor": 2
}

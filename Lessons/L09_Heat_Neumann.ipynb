{
 "cells": [
  {
   "cell_type": "markdown",
   "metadata": {},
   "source": [
    "## Εξίσωση διάδοσης θερμότητας\n",
    "\n",
    "### Explicit μέθοδος\n",
    "\n",
    "### Εφαρμογή οριακών συνθηκών με χρήση παραγώγων\n",
    "\n",
    "Οριακές συνθήκες τύπου [Neumann](https://en.wikipedia.org/wiki/Neumann_boundary_condition)\n",
    "________"
   ]
  },
  {
   "cell_type": "code",
   "execution_count": null,
   "metadata": {},
   "outputs": [],
   "source": [
    "import numpy as np\n",
    "import matplotlib.pyplot as plt\n",
    "import pandas as pd\n",
    "\n",
    "\n",
    "plt.style.use(\"default\")"
   ]
  },
  {
   "cell_type": "markdown",
   "metadata": {},
   "source": [
    "### Βασικές εντολές για DataFrames\n",
    "\n",
    "### Βιβλιοθήκη [pandas](https://pandas.pydata.org/docs/user_guide/index.html#user-guide)"
   ]
  },
  {
   "cell_type": "code",
   "execution_count": null,
   "metadata": {},
   "outputs": [],
   "source": [
    "df1 = pd.DataFrame(\n",
    "    data={\n",
    "        \"Tmax\": [28.2, 14.9, 29.4, 17.6],\n",
    "        \"Country\": [\"Spain\", \"UK\", \"Spain\", \"Germany\"]\n",
    "    },\n",
    "    index=[\"Barcelona\", \"London\", \"Madrid\", \"Berlin\"]\n",
    ")\n",
    "df1"
   ]
  },
  {
   "cell_type": "markdown",
   "metadata": {},
   "source": [
    "- Επιλογή στήλης"
   ]
  },
  {
   "cell_type": "code",
   "execution_count": null,
   "metadata": {},
   "outputs": [],
   "source": [
    "df1[[\"Tmax\"]]  # DataFrame"
   ]
  },
  {
   "cell_type": "code",
   "execution_count": null,
   "metadata": {},
   "outputs": [],
   "source": [
    "type(df1[[\"Tmax\"]])"
   ]
  },
  {
   "cell_type": "code",
   "execution_count": null,
   "metadata": {},
   "outputs": [],
   "source": [
    "df1[\"Tmax\"]  # Series"
   ]
  },
  {
   "cell_type": "code",
   "execution_count": null,
   "metadata": {},
   "outputs": [],
   "source": [
    "type(df1[\"Tmax\"])"
   ]
  },
  {
   "cell_type": "markdown",
   "metadata": {},
   "source": [
    "- Επιλογή index"
   ]
  },
  {
   "cell_type": "code",
   "execution_count": null,
   "metadata": {},
   "outputs": [],
   "source": [
    "df1.index"
   ]
  },
  {
   "cell_type": "code",
   "execution_count": null,
   "metadata": {},
   "outputs": [],
   "source": [
    "df1.index.to_list()"
   ]
  },
  {
   "cell_type": "markdown",
   "metadata": {},
   "source": [
    "- Επιλογή γραμμής"
   ]
  },
  {
   "cell_type": "code",
   "execution_count": null,
   "metadata": {},
   "outputs": [],
   "source": [
    "df1.loc[[\"London\"]]"
   ]
  },
  {
   "cell_type": "markdown",
   "metadata": {},
   "source": [
    "- Επιλογή γραμμών με βάση συνθήκη"
   ]
  },
  {
   "cell_type": "code",
   "execution_count": null,
   "metadata": {},
   "outputs": [],
   "source": [
    "df1.loc[df1[\"Tmax\"] > 20]"
   ]
  },
  {
   "cell_type": "markdown",
   "metadata": {},
   "source": [
    "- Επιλογή πολλαπλών γραμμών"
   ]
  },
  {
   "cell_type": "code",
   "execution_count": null,
   "metadata": {},
   "outputs": [],
   "source": [
    "df1.loc[df1.index.isin([\"London\", \"Berlin\"])]"
   ]
  },
  {
   "cell_type": "markdown",
   "metadata": {},
   "source": [
    "### Άσκηση\n",
    "Από το παρακάτω DataFrame (`df2`) επιλέξτε:\n",
    "\n",
    "- Τη γραμμή που αντιστοιχεί στην πόλη του Oslo.\n",
    "\n",
    "- Όσες πόλεις έχουν ελάχιστη θερμοκρασία μικρότερη από 10 βαθμούς Κελσίου."
   ]
  },
  {
   "cell_type": "code",
   "execution_count": null,
   "metadata": {},
   "outputs": [],
   "source": [
    "df2 = pd.DataFrame(\n",
    "    data={\n",
    "        \"Tmin\": [18.9, 7.7, 21.3, 10.2, 3.2],\n",
    "    },\n",
    "    index=[\"Barcelona\", \"London\", \"Madrid\", \"Berlin\", \"Oslo\"]\n",
    ")\n",
    "df2"
   ]
  },
  {
   "cell_type": "code",
   "execution_count": null,
   "metadata": {},
   "outputs": [],
   "source": [
    "df2.loc[[\"Oslo\"]]"
   ]
  },
  {
   "cell_type": "code",
   "execution_count": null,
   "metadata": {},
   "outputs": [],
   "source": [
    "df2.loc[df2[\"Tmin\"] < 10]"
   ]
  },
  {
   "cell_type": "markdown",
   "metadata": {},
   "source": [
    "- Ένωση δύο DataFrames με βάση τον index τους"
   ]
  },
  {
   "cell_type": "code",
   "execution_count": null,
   "metadata": {},
   "outputs": [],
   "source": [
    "df = df1.join(df2, how=\"outer\")\n",
    "df"
   ]
  },
  {
   "cell_type": "markdown",
   "metadata": {},
   "source": [
    "Επιπλέον διαθέσιμες επιλογές για την πάραμετρο `how`:\n",
    "\n",
    "- left\n",
    "\n",
    "- right\n",
    "\n",
    "- inner"
   ]
  },
  {
   "cell_type": "markdown",
   "metadata": {},
   "source": [
    "![k](https://www.datasciencemadesimple.com/wp-content/uploads/2017/09/join-or-merge-in-python-pandas-1.png?ezimgfmt=ng:webp/ngcb1)"
   ]
  },
  {
   "cell_type": "markdown",
   "metadata": {},
   "source": [
    "- Αριθμητικές πράξεις με columns"
   ]
  },
  {
   "cell_type": "code",
   "execution_count": null,
   "metadata": {},
   "outputs": [],
   "source": [
    "(df[\"Tmax\"] + df[\"Tmin\"])/2"
   ]
  },
  {
   "cell_type": "markdown",
   "metadata": {},
   "source": [
    "- Το αποτέλεσμα μπορεί να αποθηκευτεί σε μια νέα στήλη"
   ]
  },
  {
   "cell_type": "code",
   "execution_count": null,
   "metadata": {},
   "outputs": [],
   "source": [
    "df[\"Tavg\"] = (df[\"Tmax\"] + df[\"Tmin\"])/2\n",
    "df"
   ]
  },
  {
   "cell_type": "markdown",
   "metadata": {},
   "source": [
    "- Εφαρμογή συναρτήσεων/μεθόδων\n",
    "\n"
   ]
  },
  {
   "cell_type": "code",
   "execution_count": null,
   "metadata": {},
   "outputs": [],
   "source": [
    "np.round(df[\"Tavg\"], 1)  # σύναρτηση"
   ]
  },
  {
   "cell_type": "code",
   "execution_count": null,
   "metadata": {},
   "outputs": [],
   "source": [
    "df[\"Tmax\"].mean()  # μέθοδος"
   ]
  },
  {
   "cell_type": "markdown",
   "metadata": {},
   "source": [
    "### Άσκηση\n",
    "\n",
    "Υπολογίστε τη μικρότερη τιμή των ελαχίστων θερμοκρασιών των \\\n",
    "πόλεων του DataFrame `df` χρησιμοποιώντας:\n",
    "\n",
    "1. Τη συνάρτηση `np.min`\n",
    "\n",
    "2. Τη μέθοδο `min` του DataFrame object"
   ]
  },
  {
   "cell_type": "code",
   "execution_count": null,
   "metadata": {},
   "outputs": [],
   "source": [
    "np.min(df[\"Tmin\"])"
   ]
  },
  {
   "cell_type": "code",
   "execution_count": null,
   "metadata": {},
   "outputs": [],
   "source": [
    "df[\"Tmin\"].min()"
   ]
  },
  {
   "cell_type": "markdown",
   "metadata": {},
   "source": [
    "- Οι τιμές σε ένα DataFrame είναι αποθηκευμένες ως `Numpy array`"
   ]
  },
  {
   "cell_type": "code",
   "execution_count": null,
   "metadata": {},
   "outputs": [],
   "source": [
    "df[\"Tavg\"].values"
   ]
  },
  {
   "cell_type": "markdown",
   "metadata": {},
   "source": [
    "### Άσκηση\n",
    "\n",
    "Χρησιμοποιώντας το παραπάνω DataFrame, μετονομάστε την στήλη `Tavg` σε \\\n",
    "`Average Temperature` χρησιμοποιώντας τη μέθοδο `rename`:\n",
    "\n",
    "`df.rename(columns={\"old_name\": \"new_name\"})`"
   ]
  },
  {
   "cell_type": "code",
   "execution_count": null,
   "metadata": {},
   "outputs": [],
   "source": [
    "df = df.rename(columns={\"Tavg\": \"Average Temperature\"})\n",
    "df"
   ]
  },
  {
   "cell_type": "markdown",
   "metadata": {},
   "source": [
    "## Παράδειγμα 2.3 του βιβλίου G.D. Smith"
   ]
  },
  {
   "cell_type": "markdown",
   "metadata": {},
   "source": [
    "    G.D. Smith, Numerical Solution Of Partial Differential Equations\n",
    "    Example 2.3 σελ. 31 (σελ. 24 του pdf)"
   ]
  },
  {
   "cell_type": "markdown",
   "metadata": {},
   "source": [
    "Θέλουμε την αριθμητική λύση της εξίσωσης θερμότητας:\n",
    "\n",
    "$$\n",
    "\\begin{equation*}\n",
    "\\frac{\\partial u}{\\partial t} = \\frac{\\partial^2 u}{\\partial x^2}\n",
    "\\end{equation*}\n",
    "$$\n",
    "\n",
    "Με αρχική θερμοκρασιακή κατανομή (αρχική συνθήκη):\n",
    "\n",
    "- $u = 1, \\;$ για $\\; 0 \\leq x \\leq 1$\n",
    "\n",
    "Και με την παρακάτω συνθήκη για την παράγωγο της θερμοκρασίας \\\n",
    "στα δύο άκρα της (οριακές συνθήκες):\n",
    "\n",
    "$$\n",
    "\\begin{equation*}\n",
    "\\left. \\frac{\\partial u}{\\partial x} \\right|_{x=0} = u, \\qquad \\left. \\frac{\\partial u}{\\partial x} \\right|_{x=1} = -u\n",
    "\\end{equation*}\n",
    "$$"
   ]
  },
  {
   "cell_type": "markdown",
   "metadata": {},
   "source": [
    "### Διακριτοποίηση αξόνων\n",
    "\n",
    "- Χωρικό βήμα: $\\;  δx = h = 0.1$\n",
    "\n",
    "- Χρονικό βήμα: $\\; δt = k = 0.0025$\n",
    "\n",
    "- $r = \\frac{k}{h^2} = 0.25$"
   ]
  },
  {
   "cell_type": "markdown",
   "metadata": {},
   "source": [
    "### Explicit μέθοδος επίλυσης\n",
    "\n",
    "- Forward-difference ως προς το $t$\n",
    "\n",
    "- Centered-difference ως προς το $x$\n",
    "\n",
    "$$\n",
    "\\begin{align*}\n",
    "& \\quad \\; \\frac{\\partial u}{\\partial t} = \\frac{\\partial^2 u}{\\partial x^2} \\\\[15pt]\n",
    "& \\Rightarrow \\frac {u^{n+1}_i - u^n_i}{k} = \\frac{u^n_{i-1} - 2u^n_i + u^n_{i+1}}{h^2}\\\\[15pt]\n",
    "& \\Rightarrow u^{n+1}_i - u^n_i = ru^n_{i-1} - 2ru^n_i + ru^n_{i+1} \\qquad r = \\frac {k}{h^2}\\\\[15pt]\n",
    "& \\Rightarrow u^{n+1}_i = ru^n_{i-1} + (1 - 2r)u^n_i + ru^n_{i+1} \\qquad(1)\\\\\n",
    "\\end{align*}\n",
    "$$"
   ]
  },
  {
   "cell_type": "markdown",
   "metadata": {},
   "source": [
    "### Ενσωμάτωση οριακών συνθηκών"
   ]
  },
  {
   "cell_type": "markdown",
   "metadata": {},
   "source": [
    "Για το αριστερό άκρο της ράβδου $\\;(i = 0)\\;$ η $\\;(1)\\;$ γράφεται ως εξής:\n",
    "$$\n",
    "\\begin{align*}\n",
    "& u^{n+1}_0 = ru^n_{-1} + (1 - 2r)u^n_0 + ru^n_{1} \\qquad(2)\\\\[25pt]\n",
    "\\end{align*}\n",
    "$$\n",
    "\n",
    "Θα χρησιμοποιήσουμε centered-difference για την οριακή συνθήκη:\n",
    "\n",
    "$$\n",
    "\\begin{align*}\n",
    "& \\left. \\frac{\\partial u}{\\partial x} \\right|_{x=0} = \\left. u \\right|_{x=0} \\\\[20pt]\n",
    "& \\Rightarrow \\frac{u^n_{1} - u^n_{-1}}{2h} = u^n_0 \\\\[15pt]\n",
    "& \\Rightarrow u^n_{-1} = u^n_{1} - 2h \\cdot u^n_0 \\qquad(3)\\\\[25pt]\n",
    "\\end{align*}\n",
    "$$\n",
    "\n",
    "Συνδυάζοντας τις $\\;(2)\\;$ και $\\;(3)\\;$ έχουμε:\n",
    "\n",
    "$$\n",
    "\\begin{align*}\n",
    "& u^{n+1}_0 = ru^n_1 -2rhu^n_0 + (1-2r)u^n_0 + ru^n_1 \\\\[15pt]\n",
    "& \\Rightarrow u^{n+1}_0 = (1-2r-2rh)u^n_0 + 2ru^n_1 \\\\[15pt]\n",
    "\\end{align*}\n",
    "$$\n",
    "\n",
    "Εφαρμόζοντας την ίδια διαδικασία και για το άλλο άκρο της ράβδου καταλήγουμε:\n",
    "\n",
    "$$\n",
    "\\begin{align*}\n",
    "&  u^{n+1}_{10} = (1-2r-2rh)u^n_{10} + 2ru^n_9 \\\\[15pt]\n",
    "\\end{align*}\n",
    "$$"
   ]
  },
  {
   "cell_type": "markdown",
   "metadata": {},
   "source": [
    "### Αναλυτική λύση"
   ]
  },
  {
   "cell_type": "markdown",
   "metadata": {},
   "source": [
    "$$\n",
    "\\begin{equation*}\n",
    "U = 4 \\sum_{n=1}^{\\infty}\\frac{\\sec a_n}{3 + 4a^2_n}e^{-4a^2_nt}\\cos2a_n(x - (1/2))\n",
    "\\end{equation*}\n",
    "$$\n",
    "\n",
    "όπου $a_n$ οι θετικές ρίζες της εξίσωσης: $\\; a\\tan a = \\frac{1}{2}$"
   ]
  },
  {
   "cell_type": "markdown",
   "metadata": {},
   "source": [
    "### Δημιουργία x-άξονα"
   ]
  },
  {
   "cell_type": "code",
   "execution_count": null,
   "metadata": {},
   "outputs": [],
   "source": [
    "x0 = 0\n",
    "xN = 1\n",
    "h = 1 / 10"
   ]
  },
  {
   "cell_type": "code",
   "execution_count": null,
   "metadata": {},
   "outputs": [],
   "source": [
    "Nx = int((xN - x0) / h + 1)\n",
    "Nx"
   ]
  },
  {
   "cell_type": "code",
   "execution_count": null,
   "metadata": {},
   "outputs": [],
   "source": [
    "x = np.linspace(start=x0, stop=xN, num=Nx, endpoint=True, retstep=False)\n",
    "x"
   ]
  },
  {
   "cell_type": "markdown",
   "metadata": {},
   "source": [
    "### Δημιουργία t-άξονα"
   ]
  },
  {
   "cell_type": "code",
   "execution_count": null,
   "metadata": {},
   "outputs": [],
   "source": [
    "t0 = 0\n",
    "k = 0.0025\n",
    "Nt = 500"
   ]
  },
  {
   "cell_type": "code",
   "execution_count": null,
   "metadata": {},
   "outputs": [],
   "source": [
    "tN_plus_k = Nt * k"
   ]
  },
  {
   "cell_type": "code",
   "execution_count": null,
   "metadata": {},
   "outputs": [],
   "source": [
    "t = np.arange(t0, tN_plus_k, k)"
   ]
  },
  {
   "cell_type": "markdown",
   "metadata": {},
   "source": [
    "### Δημιουργήστε το πλέγμα του προβλήματος\n",
    "\n",
    "Χρησιμοποιήστε τη συνάρτηση `np.meshgrid`"
   ]
  },
  {
   "cell_type": "code",
   "execution_count": null,
   "metadata": {},
   "outputs": [],
   "source": [
    "xx, tt = np.meshgrid(x, t)"
   ]
  },
  {
   "cell_type": "markdown",
   "metadata": {},
   "source": [
    "### Δημιουργήστε έναν κενό πίνακα για την αριθμητική λύση\n",
    "\n",
    "Χρησιμοποιήστε τη συνάρτηση `np.full` και τη σταθερή τιμή `np.nan`"
   ]
  },
  {
   "cell_type": "code",
   "execution_count": null,
   "metadata": {},
   "outputs": [],
   "source": [
    "u = np.full((Nt, Nx), np.nan)"
   ]
  },
  {
   "cell_type": "markdown",
   "metadata": {},
   "source": [
    "### Εφαρμόστε την αρχική συνθήκη\n",
    "\n",
    "- $u = 1, \\;$ για $\\; 0 \\leq x \\leq 1$"
   ]
  },
  {
   "cell_type": "code",
   "execution_count": null,
   "metadata": {},
   "outputs": [],
   "source": [
    "u[0, :] = 1"
   ]
  },
  {
   "cell_type": "markdown",
   "metadata": {},
   "source": [
    "### Υπολογίστε τον συντελεστή $r$"
   ]
  },
  {
   "cell_type": "code",
   "execution_count": null,
   "metadata": {},
   "outputs": [],
   "source": [
    "r = k / (h**2)\n",
    "r"
   ]
  },
  {
   "cell_type": "markdown",
   "metadata": {},
   "source": [
    "### Αριθμητική λύση"
   ]
  },
  {
   "cell_type": "markdown",
   "metadata": {},
   "source": [
    "$$\n",
    "\\begin{align*}\n",
    "& u^{n+1}_0 = (1-2r-2rh)u^n_0 + 2ru^n_1 \\\\[15pt]\n",
    "& u^{n+1}_i = ru^n_{i-1} + (1 - 2r)u^n_i + ru^n_{i+1} \\\\[15pt]\n",
    "&  u^{n+1}_{10} = (1-2r-2rh)u^n_{10} + 2ru^n_9 \\\\[15pt]\n",
    "\\end{align*}\n",
    "$$"
   ]
  },
  {
   "cell_type": "markdown",
   "metadata": {},
   "source": [
    "Γράψτε την αριθμητική λύση του προβλήματος, χρησιμοποιώντας τις \\\n",
    "παραπάνω τρεις εξισώσεις:"
   ]
  },
  {
   "cell_type": "code",
   "execution_count": null,
   "metadata": {},
   "outputs": [],
   "source": [
    "for n in range(Nt - 1):\n",
    "    u[n + 1, 0] = (1 -2*r -2*r*h)*u[n, 0] + 2*r*u[n, 1]\n",
    "    u[n + 1, 1:-1] = r*u[n, 0:-2] + (1 - 2*r)*u[n, 1:-1] + r*u[n, 2:]\n",
    "    u[n + 1, -1] = (1 -2*r -2*r*h)*u[n, -1] + 2*r*u[n, -2]"
   ]
  },
  {
   "cell_type": "markdown",
   "metadata": {},
   "source": [
    "### Υπολογισμός της αναλυτικής λύσης"
   ]
  },
  {
   "cell_type": "markdown",
   "metadata": {},
   "source": [
    "$$\n",
    "\\begin{equation*}\n",
    "U = 4 \\sum_{n=1}^{\\infty}\\frac{\\sec a_n}{3 + 4a^2_n}e^{-4a^2_nt}\\cos2a_n(x - (1/2))\n",
    "\\end{equation*}\n",
    "$$\n",
    "\n",
    "όπου $a_n$ οι θετικές ρίζες της εξίσωσης: $\\; a\\tan a = \\frac{1}{2}$"
   ]
  },
  {
   "cell_type": "code",
   "execution_count": null,
   "metadata": {},
   "outputs": [],
   "source": [
    "terms = []\n",
    "an = [\n",
    "    0.6532711,\n",
    "    3.2923100,\n",
    "    6.3616203,\n",
    "    9.4774857,\n",
    "    12.606013,\n",
    "    15.739719,\n",
    "]\n",
    "for a in an:\n",
    "    terms.append(\n",
    "        (1/np.cos(a))/(3+4*(a**2))*np.exp(-4*(a**2)*tt)*np.cos((2*a)*(xx-1/2))\n",
    "    )\n",
    "\n",
    "U = 4 * np.sum(terms, axis=0)"
   ]
  },
  {
   "cell_type": "markdown",
   "metadata": {},
   "source": [
    "### Δημιουργία DataFrames"
   ]
  },
  {
   "cell_type": "code",
   "execution_count": null,
   "metadata": {},
   "outputs": [],
   "source": [
    "df_u = pd.DataFrame.from_records(\n",
    "    np.round(u, 4),\n",
    "    columns=np.round(x, 1),\n",
    "    index=t,\n",
    ")\n",
    "\n",
    "df_U = pd.DataFrame.from_records(\n",
    "    np.round(U, 4),\n",
    "    columns=np.round(x, 1),\n",
    "    index=t,\n",
    ")"
   ]
  },
  {
   "cell_type": "markdown",
   "metadata": {},
   "source": [
    "Επιλέξτε την στήλη `0.2` για κάθε ένα από τα δύο παραπάνω DataFrame.\n",
    "\n",
    "Προσέξτε ότι το `0.2` είναι αριθμός (`float`) και όχι κείμενο (`string`).\n",
    "\n",
    "Το αποτέλεσμα θέλουμε να είναι τύπου `DataFrame` και όχι `Series`.\n",
    "\n",
    "Σώστε το αποτέλεσματα σε μεταβλητές (μπορείτε να διατηρήσετε το ίδιο όνομα)."
   ]
  },
  {
   "cell_type": "code",
   "execution_count": null,
   "metadata": {},
   "outputs": [],
   "source": [
    "df_u = df_u[[0.2]]\n",
    "df_U = df_U[[0.2]]"
   ]
  },
  {
   "cell_type": "markdown",
   "metadata": {},
   "source": [
    "Μετονομάστε τις στήλες σε `Numerical` και `Analytical` αντίστοιχα."
   ]
  },
  {
   "cell_type": "code",
   "execution_count": null,
   "metadata": {},
   "outputs": [],
   "source": [
    "df_u = df_u.rename(columns={0.2: \"Numerical\"})\n",
    "df_U = df_U.rename(columns={0.2: \"Analytical\"})"
   ]
  },
  {
   "cell_type": "markdown",
   "metadata": {},
   "source": [
    "Ενώστε τα δύο DataFrame με βάση τoν index τους"
   ]
  },
  {
   "cell_type": "code",
   "execution_count": null,
   "metadata": {},
   "outputs": [],
   "source": [
    "df = df_u.join(df_U, how=\"outer\")\n",
    "df"
   ]
  },
  {
   "cell_type": "markdown",
   "metadata": {},
   "source": [
    "Υπολογίστε σε μία νέα στήλη του DataFrame το ποσοστιαίο σφάλμα\n",
    "\n",
    "\n",
    "$$\n",
    "\\begin{align*}\n",
    "\\frac{numerical - analytical}{analytical} \\cdot 100\n",
    "\\end{align*}\n",
    "$$"
   ]
  },
  {
   "cell_type": "code",
   "execution_count": null,
   "metadata": {},
   "outputs": [],
   "source": [
    "df[\"Error\"] = (df[\"Numerical\"] - df[\"Analytical\"])/df[\"Analytical\"] * 100"
   ]
  },
  {
   "cell_type": "markdown",
   "metadata": {},
   "source": [
    "Στρογγυλοποιήστε τη νέα στήλη, διατηρώντας δύο δεκαδικά ψηφία."
   ]
  },
  {
   "cell_type": "code",
   "execution_count": null,
   "metadata": {},
   "outputs": [],
   "source": [
    "df[\"Error\"] = np.round(df[\"Error\"], 2)"
   ]
  },
  {
   "cell_type": "markdown",
   "metadata": {},
   "source": [
    "Κρατήστε μόνο τις κατάλληλες χρονικές στιγμές χρησιμοποιώντας τη μεταβλητή `times`.\n",
    "\n",
    "Ελέγξτε αν τα αποτελέσματά σας συμφωνούν με αυτά του `Table 2.12` του βιβλίου."
   ]
  },
  {
   "cell_type": "code",
   "execution_count": null,
   "metadata": {},
   "outputs": [],
   "source": [
    "times = [0.005, 0.050, 0.100, 0.250, 0.500, 1.000]\n"
   ]
  },
  {
   "cell_type": "code",
   "execution_count": null,
   "metadata": {},
   "outputs": [],
   "source": [
    "df.loc[df.index.isin(times)]"
   ]
  },
  {
   "cell_type": "markdown",
   "metadata": {},
   "source": [
    "Δημιουργήστε μία νέα στήλη με την απόλυτη τιμή του σφάλματος.\n",
    "\n",
    "Υπολογίστε στη συνέχεια τη μέση τιμής αυτής της στήλης."
   ]
  },
  {
   "cell_type": "code",
   "execution_count": null,
   "metadata": {},
   "outputs": [],
   "source": [
    "df[\"Abs_error\"] = np.abs(df[\"Error\"])\n",
    "\n",
    "df[\"Abs_error\"].mean()"
   ]
  },
  {
   "cell_type": "markdown",
   "metadata": {},
   "source": [
    "Διερευνήστε ποιοτικά την ευστάθεια της αριθμητικής λύσης.\n",
    "\n",
    "Δηλαδή ελέγξτε εάν το σφάλμα δεν αυξάνεται με την πάροδο του χρόνου.\n",
    "\n",
    "Για να το επιτύχετε σχεδιάστε ένα διάγραμμα (καμπύλη) το οποίο θα αποτυπώνει \\\n",
    "για κάθε χρονική στιγμή (x-άξονας) το απόλυτο σφάλμα (y-άξονας)."
   ]
  },
  {
   "cell_type": "code",
   "execution_count": null,
   "metadata": {},
   "outputs": [],
   "source": [
    "fig, ax = plt.subplots()\n",
    "plt.close()\n",
    "\n",
    "ax.plot(df.index, df[\"Abs_error\"])\n",
    "fig"
   ]
  }
 ],
 "metadata": {
  "kernelspec": {
   "display_name": "Python 3.10.4 ('research')",
   "language": "python",
   "name": "python3"
  },
  "language_info": {
   "codemirror_mode": {
    "name": "ipython",
    "version": 3
   },
   "file_extension": ".py",
   "mimetype": "text/x-python",
   "name": "python",
   "nbconvert_exporter": "python",
   "pygments_lexer": "ipython3",
   "version": "3.10.4 | packaged by conda-forge | (main, Mar 24 2022, 17:38:57) [GCC 10.3.0]"
  },
  "orig_nbformat": 4,
  "vscode": {
   "interpreter": {
    "hash": "a64397481a03d3e29229b26c41fe9bf23c6d382d2286036b124a8a7924579d21"
   }
  }
 },
 "nbformat": 4,
 "nbformat_minor": 2
}

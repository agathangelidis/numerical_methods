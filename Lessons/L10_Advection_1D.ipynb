{
 "cells": [
  {
   "cell_type": "markdown",
   "metadata": {},
   "source": [
    "## Οριζόντια μεταφορά (Advection)\n",
    "\n",
    "## Διάδοση κύματος (1D)\n",
    "________\n"
   ]
  },
  {
   "cell_type": "code",
   "execution_count": null,
   "metadata": {},
   "outputs": [],
   "source": [
    "import numpy as np\n",
    "import matplotlib.pyplot as plt\n",
    "from matplotlib.animation import FuncAnimation\n",
    "\n",
    "\n",
    "plt.style.use(\"default\")\n",
    "plt.rcParams[\"figure.figsize\"] = [5, 2.5]  # [width_inches, height_inches]\n",
    "plt.rcParams[\"animation.html\"] = \"jshtml\"\n"
   ]
  },
  {
   "cell_type": "markdown",
   "metadata": {},
   "source": [
    "Η εξίσωση μεταφοράς αποτελεί μια _ελλειπτική_ μερική διαφορική εξίσωση της μορφής:\n",
    "\n",
    "$$\n",
    "\\begin{equation*}\n",
    "\\frac{\\partial u}{\\partial t} + c\\frac{\\partial u}{\\partial x} = 0\n",
    "\\end{equation*}\n",
    "$$\n",
    "\n",
    "- Η εξίσωση περιγράφει τη διάδοση ενός βαθμωτού πεδίου $u$ στη x διεύθυνση \\\n",
    " με σταθερή ταχύτητα c.\n",
    "\n",
    "- Στο συγκεκριμένο πρόβλημα αντιστοιχεί σε ένα κύμα το οποίο διαδίδεται \\\n",
    " χωρίς αλλαγή του σχήματός του.\n",
    "\n",
    "- Το πρόσημο του c μας δίνει την κατεύθυνση της κίνησης.\n",
    "\n",
    "Aν η αρχική τιμή της μεταβλητής $u$ είναι ίση με: $\\; u(x, 0) = u_0(x)$, τότε \\\n",
    "η αναλυτική λύση της μερικής διαφορικής εξίσωσης γράφεται ως εξής:\n",
    "\n",
    "$$\n",
    "\\begin{equation*}\n",
    "U(x, t) = u_0(x - ct)\n",
    "\\end{equation*}\n",
    "$$\n"
   ]
  },
  {
   "cell_type": "markdown",
   "metadata": {},
   "source": [
    "### Εφαρμογή\n",
    "\n",
    "Αναζητούμε την αριθμητική λύση της εξίσωσης μεταφοράς:\n",
    "\n",
    "$$\n",
    "\\begin{equation*}\n",
    "\\frac{\\partial u}{\\partial t} + c\\frac{\\partial u}{\\partial x} = 0\n",
    "\\end{equation*}\n",
    "$$\n",
    "\n",
    "$ c = 1$\n",
    "\n",
    "$0 \\leq x \\leq 10$\n",
    "\n",
    "Αρχική συνθήκη (συνάρτηση γκαουσιανής μορφής):\n",
    "\n",
    "- $u = e ^{-(x - 3)^2},  \\;$ για $\\; t=0$\n",
    "\n",
    "Οριακή συνθήκη:\n",
    "\n",
    "- $u = 0,  \\;$ για $\\; x=0$"
   ]
  },
  {
   "cell_type": "markdown",
   "metadata": {},
   "source": [
    "### Διακριτοποίηση αξόνων\n",
    "\n",
    "- Χωρικό βήμα: $\\;  δx = h = 0.02$\n",
    "\n",
    "- Χρονικό βήμα: $\\; δt = k = 0.01$\n",
    "\n",
    "- Συντελεστής ευστάθειας: $\\; \\frac{ck}{h} = 0.5\\;$ (πρέπει να είναι μικρότερος του 1)\n"
   ]
  },
  {
   "cell_type": "markdown",
   "metadata": {},
   "source": [
    "### Mέθοδος επίλυσης\n",
    "\n",
    "- Forward-difference ως προς το $t$\n",
    "\n",
    "- Backward-difference ως προς το $x$\n"
   ]
  },
  {
   "cell_type": "markdown",
   "metadata": {},
   "source": [
    "$$\n",
    "\\begin{align*}\n",
    "&\\qquad \\frac{\\partial u}{\\partial t} + \\frac{\\partial u}{\\partial x} = 0 \\\\[15pt]\n",
    "&\\Rightarrow \\frac {u^{n+1}_i - u^n_i}{k} + \\frac {u^n_i - u^n_{i-1}}{h} = 0 \\\\[15pt]\n",
    "&\\Rightarrow u_i^{n+1} = u_i^n - \\frac{k}{h}(u_i^n-u_{i-1}^n)\n",
    "\\end{align*}\n",
    "$$\n"
   ]
  },
  {
   "cell_type": "markdown",
   "metadata": {},
   "source": [
    "### Δημιουργήστε τον x-άξονα\n",
    "\n",
    "$0 \\leq x \\leq 10$\n",
    "\n",
    "$δx = h = 0.02$\n",
    "\n",
    "Χρησιμοποιήστε τη συνάρτηση `np.linspace`.\n"
   ]
  },
  {
   "cell_type": "code",
   "execution_count": null,
   "metadata": {},
   "outputs": [],
   "source": []
  },
  {
   "cell_type": "markdown",
   "metadata": {},
   "source": [
    "### Δημιουργήστε τον t-άξονα\n",
    "\n",
    "$\\; δt = k = 0.01$\n",
    "\n",
    "Χρησιμοποιήστε τη συνάρτηση `np.arange` και 300 χρονικές στιγμές (`Nt=300`).\n"
   ]
  },
  {
   "cell_type": "code",
   "execution_count": null,
   "metadata": {},
   "outputs": [],
   "source": []
  },
  {
   "cell_type": "markdown",
   "metadata": {},
   "source": [
    "### Δημιουργήστε έναν κενό 2-D πίνακα `u` για την αριθμητική λύση\n",
    "\n",
    "Χρησιμοποιήστε τη συνάρτηση `np.full` και τη σταθερή τιμή `np.nan`.\n",
    "\n"
   ]
  },
  {
   "cell_type": "code",
   "execution_count": null,
   "metadata": {},
   "outputs": [],
   "source": []
  },
  {
   "cell_type": "markdown",
   "metadata": {},
   "source": [
    "### Εισάγετε την αρχική συνθήκη:\n",
    "\n",
    "Συνάρτηση γκαουσιανής μορφής:\n",
    "\n",
    "$u = e ^{-(x - 3)^2}\\quad$ για $\\;t=0$"
   ]
  },
  {
   "cell_type": "code",
   "execution_count": null,
   "metadata": {},
   "outputs": [],
   "source": []
  },
  {
   "cell_type": "markdown",
   "metadata": {},
   "source": [
    "#### Σχεδιάστε το κύμα στην αρχική του κατάσταση ($t = 0$)\n",
    "\n",
    "Δημιουργήστε ένα `Figure` και χρησιμοποιήστε τη μέθοδο `ax.plot`\n",
    "\n"
   ]
  },
  {
   "cell_type": "code",
   "execution_count": null,
   "metadata": {},
   "outputs": [],
   "source": []
  },
  {
   "cell_type": "markdown",
   "metadata": {},
   "source": [
    "### Οριακή συνθήκη\n",
    "\n",
    "- $u = 0,  \\;$ για $\\; x=0$"
   ]
  },
  {
   "cell_type": "markdown",
   "metadata": {},
   "source": [
    "#### Εισάγετε την οριακή συνθήκη στον πίνακα `u`.\n"
   ]
  },
  {
   "cell_type": "code",
   "execution_count": null,
   "metadata": {},
   "outputs": [],
   "source": []
  },
  {
   "cell_type": "markdown",
   "metadata": {},
   "source": [
    "### Αριθμητική λύση της μερικής διαφορικής εξίσωσης\n",
    "\n",
    "$$\n",
    "\\begin{align*}\n",
    "& u_i^{n+1} = u_i^n - \\frac{k}{h}(u_i^n-u_{i-1}^n)\n",
    "\\end{align*}\n",
    "$$\n"
   ]
  },
  {
   "cell_type": "markdown",
   "metadata": {},
   "source": [
    "Γράψτε την αριθμητική λύση:"
   ]
  },
  {
   "cell_type": "code",
   "execution_count": null,
   "metadata": {},
   "outputs": [],
   "source": []
  },
  {
   "cell_type": "markdown",
   "metadata": {},
   "source": [
    "### Δημιουργήστε το πλέγμα του προβλήματος\n",
    "\n",
    "\n",
    "Χρησιμοποιήστε τους δύο άξονες (x, t) και τη συνάρτηση `np.meshgrid`"
   ]
  },
  {
   "cell_type": "code",
   "execution_count": null,
   "metadata": {},
   "outputs": [],
   "source": []
  },
  {
   "cell_type": "markdown",
   "metadata": {},
   "source": [
    "### Υπολογίστε την αναλυτική λύση\n",
    "\n",
    "$U = e ^{-(x - 3 - t)^2}$"
   ]
  },
  {
   "cell_type": "code",
   "execution_count": null,
   "metadata": {},
   "outputs": [],
   "source": []
  },
  {
   "cell_type": "markdown",
   "metadata": {},
   "source": [
    "### Δημιουργία animation"
   ]
  },
  {
   "cell_type": "code",
   "execution_count": null,
   "metadata": {},
   "outputs": [],
   "source": [
    "fig, ax = plt.subplots()\n",
    "plt.close()\n",
    "\n",
    "\n",
    "def animate(i):\n",
    "    ax.clear()\n",
    "    ax.plot(x, u[i], color=\"red\", label=\"Numerical\")\n",
    "    ax.set_ylim([0 - 0.05, 1 + 0.05])\n",
    "    ax.set_xlim([0, 10])\n",
    "    ax.set_xlabel(\"x\", fontsize=12)\n",
    "    ax.set_title(f\"Time: {t[i]:.2f} seconds\", fontweight=\"bold\", loc=\"center\")\n",
    "    ax.legend()\n",
    "\n",
    "ani = FuncAnimation(\n",
    "    fig=fig,\n",
    "    func=animate,\n",
    "    frames=Nt,\n",
    "    interval=0.5,\n",
    "    repeat=False,\n",
    ")\n",
    "plt.close()\n",
    "ani\n",
    "\n"
   ]
  },
  {
   "cell_type": "markdown",
   "metadata": {},
   "source": [
    "Προσθέστε στο παραπάνω animation την αναλυτική λύση για να διερευνήσετε \\\n",
    "ποιοτικά την ακρίβεια των αποτελεσμάτων σας.\n",
    "\n",
    "(Για να διακρίνονται οι γραμμές, επιλέξτε η μία από τις δύο να είναι διακεκομμένη: \\\n",
    "παράμετρος `linestyle=\"dashed\"` στη μέθοδο `ax.plot`)\n",
    "\n",
    "Τι παρατηρείτε ως προς την κορυφή του κύματος της αριθμητικής λύσης;"
   ]
  },
  {
   "cell_type": "markdown",
   "metadata": {},
   "source": [
    "Δοκιμάστε να επαναλάβετε τη διαδικασία με forward-difference ως προς το $x$. \\\n",
    "Τι προκύπτει;\n",
    "\n",
    "--------"
   ]
  },
  {
   "cell_type": "markdown",
   "metadata": {},
   "source": [
    "#### Συνεχίστε με τη μελέτη της εξίσωσης μεταφοράς θερμοκρασίας:\n",
    "\n",
    "`Problems_04.ipynb`"
   ]
  }
 ],
 "metadata": {
  "kernelspec": {
   "display_name": "Python 3.10.4 ('research')",
   "language": "python",
   "name": "python3"
  },
  "language_info": {
   "codemirror_mode": {
    "name": "ipython",
    "version": 3
   },
   "file_extension": ".py",
   "mimetype": "text/x-python",
   "name": "python",
   "nbconvert_exporter": "python",
   "pygments_lexer": "ipython3",
   "version": "3.10.4"
  },
  "orig_nbformat": 4,
  "vscode": {
   "interpreter": {
    "hash": "a64397481a03d3e29229b26c41fe9bf23c6d382d2286036b124a8a7924579d21"
   }
  }
 },
 "nbformat": 4,
 "nbformat_minor": 2
}

{
 "cells": [
  {
   "cell_type": "markdown",
   "metadata": {},
   "source": [
    "## Κυματική εξίσωση (1D)\n",
    "________\n"
   ]
  },
  {
   "cell_type": "code",
   "execution_count": null,
   "metadata": {},
   "outputs": [],
   "source": [
    "import numpy as np\n",
    "import matplotlib.pyplot as plt\n",
    "from matplotlib.animation import FuncAnimation\n",
    "\n",
    "\n",
    "plt.style.use(\"default\")\n",
    "plt.rcParams[\"figure.figsize\"] = [5, 2.5]  # [width_inches, height_inches]\n",
    "plt.rcParams[\"animation.html\"] = \"jshtml\"\n"
   ]
  },
  {
   "cell_type": "markdown",
   "metadata": {},
   "source": [
    "### Κυματική εξίσωση - Ταλάντωση χορδής\n",
    "\n",
    "Υπερβολική Μερική Διαφορική Εξίσωση\n",
    "\n",
    "$$\n",
    "\\begin{equation*}\n",
    "\\frac{\\partial^2 u}{\\partial t^2} =c^2\\frac{\\partial^2 u}{\\partial x^2}\n",
    "\\end{equation*}\n",
    "$$\n",
    "\n",
    "$u = u(x,t)$:\n",
    "\n",
    "Η κατακόρυφη μετατόπιση από τη θέση ισορροπίας τυχαίου σημείου $x$ της χορδής τη χρονική στιγμή $t$ "
   ]
  },
  {
   "cell_type": "markdown",
   "metadata": {},
   "source": [
    "### Απόδειξη κυματικής εξίσωσης"
   ]
  },
  {
   "cell_type": "markdown",
   "metadata": {},
   "source": [
    "<img src=\"https://i.stack.imgur.com/ycycw.png\" width=\"325\">"
   ]
  },
  {
   "cell_type": "markdown",
   "metadata": {},
   "source": [
    "Εφαρμόζουμε τον δεύτερο νόμο του Νεύτωνα στο παραπάνω στοιχειώδες τμήμα της χορδής.\n",
    "\n",
    "$$\n",
    "\\begin{equation*}\n",
    "\\Delta F = ma\n",
    "\\end{equation*}\n",
    "$$\n",
    "\n",
    "&nbsp;\n",
    "\n",
    "Η μάζα είναι ίση με $\\rho \\Delta x$, όπου $\\rho$ η γραμμική πυκνότητα της χορδής.\n",
    "\n",
    "Η επιτάχυνση της εγκάρσιας ταλάντωσης είναι ίση με το $\\frac{\\partial^2 u}{\\partial t^2}$.\n",
    "\n",
    "Για τις δυνάμεις στον κατακόρυφο άξονα ισχύει:\n",
    "\n",
    "$$\n",
    "\\begin{equation*}\n",
    "\\Delta F = T\\sin\\theta _2 - T\\sin\\theta _1\n",
    "\\end{equation*}\n",
    "$$\n",
    "\n",
    "&nbsp;\n",
    "\n",
    "Αν θεωρήσουμε μικρές μετατοπίσεις $u$, οι γωνίες είναι επίσης μικρές οπότε έχουμε:\n",
    "\n",
    "$$\n",
    "\\begin{align*}\n",
    "& \\sin\\theta _1 \\approx \\tan\\theta _1 = \\left.\\frac{\\partial u}{\\partial x}\\right|_{x} \\\\[20pt]\n",
    "& \\sin\\theta _2 \\approx \\tan\\theta _2 = \\left.\\frac{\\partial u}{\\partial x}\\right|_{x + \\Delta x} \\\\[20pt]\n",
    "\\end{align*}\n",
    "$$\n",
    "\n"
   ]
  },
  {
   "cell_type": "markdown",
   "metadata": {},
   "source": [
    "Αντικαθιστώντας τις παραπάνω σχέσεις στην αρχική εξίσωση του νόμου του Νεύτωνα:\n",
    "\n",
    "&nbsp;\n",
    "\n",
    "$$\n",
    "\\begin{align*}\n",
    "& \\quad\\; T \\left.\\frac{\\partial u}{\\partial x}\\right|_{x+\\Delta x} - T \\left.\\frac{\\partial u}{\\partial x}\\right|_{x}  = \\rho \\Delta x \\frac{\\partial^2 u(x, t)}{\\partial t^2}\\\\[15pt]\n",
    "& \\Rightarrow \\frac{T \\left.\\frac{\\partial u}{\\partial x}\\right|_{x+\\Delta x} - T \\left.\\frac{\\partial u}{\\partial x}\\right|_{x}}{\\Delta x} = \\rho \\frac{\\partial^2 u}{\\partial t^2}\\\\[15pt]\n",
    "& \\Rightarrow \\frac{\\partial^2 u}{\\partial x^2} =\\frac{1}{c^2} \\frac{\\partial^2 u}{\\partial t^2}, \\qquad c = \\sqrt{\\frac{T}{\\rho}}\\\\[15pt]\n",
    "& \\Rightarrow \\frac{\\partial^2 u}{\\partial t^2} =c^2\\frac{\\partial^2 u}{\\partial x^2}\\\\[15pt]\n",
    "\\end{align*}\n",
    "$$"
   ]
  },
  {
   "cell_type": "markdown",
   "metadata": {},
   "source": [
    "## Πεπερασμένες διαφορές στην κυματική εξίσωση"
   ]
  },
  {
   "cell_type": "markdown",
   "metadata": {},
   "source": [
    "Αναζητούμε την αριθμητική λύση της κυματικής εξίσωσης σε μια χορδή:\n"
   ]
  },
  {
   "cell_type": "markdown",
   "metadata": {},
   "source": [
    "$$\n",
    "\\begin{equation*}\n",
    "\\frac{\\partial^2 u}{\\partial t^2} =c^2\\frac{\\partial^2 u}{\\partial x^2}\n",
    "\\end{equation*}\n",
    "$$\n"
   ]
  },
  {
   "cell_type": "markdown",
   "metadata": {},
   "source": [
    "Γενική μορφή αρχικών συνθηκών:\n",
    "\n",
    "$u(x, 0) = f(x)$\n",
    "\n",
    "$\\frac {\\partial u(x, 0)}{\\partial t} = g(x)$\n",
    "\n",
    "&nbsp;\n",
    "\n",
    "Γενική μορφή οριακών συνθηκών:\n",
    "\n",
    "$u(0, t) = k(t)$\n",
    "\n",
    "$u(L, t) = l(t)$"
   ]
  },
  {
   "cell_type": "markdown",
   "metadata": {},
   "source": [
    "### Explicit μέθοδος επίλυσης\n",
    "\n",
    "Centered-difference ως προς το $t$ και ως προς το $x$"
   ]
  },
  {
   "cell_type": "markdown",
   "metadata": {},
   "source": [
    "$$\n",
    "\\begin{align*}\n",
    "& u^{n+1}_i = r^2u^n_{i-1} + (2-2r^2)u^n_i + r^2u^n_{i+1}-u^{n-1}_i \\quad(1)\n",
    "\\end{align*}\n",
    "$$"
   ]
  },
  {
   "cell_type": "markdown",
   "metadata": {},
   "source": [
    "Για το πρώτο χρονικό βήμα έχουμε:\n",
    "\n",
    "$$\n",
    "\\begin{equation*}\n",
    "u^{1}_i = r^2u^0_{i-1} + (2-2r^2)u^0_i +r^2u^0_{i+1}-u^{-1}_i \\quad (2)\n",
    "\\end{equation*}\n",
    "$$\n",
    "\n",
    "Χρησιμοποιώντας centered-difference για την οριακή συνθήκη της πρώτης παραγώγου προσδιορίζουμε το $u^{-1}_i$.\n",
    "\n",
    "\n",
    "$$\n",
    "\\begin{align*}\n",
    "&\\left. \\frac{\\partial u}{\\partial t} \\right|_{t=0} = g(x)\\\\[15pt]\n",
    "& \\Rightarrow\\dots\\\\[15pt]\n",
    "& u^{-1}_i = u^1_i - 2kg(x)\\\\[15pt]\n",
    "\\end{align*}\n",
    "$$\n",
    "\n",
    "Αντικαθιστώντας στην (2) έχουμε τελικά για το πρώτο χρονικό βήμα:\n",
    "\n",
    "$$\n",
    "\\begin{equation*}\n",
    "u^1_i = \\frac{1}{2}r^2u^0_{i-1} + (1-r^2)u^0_i +\\frac{1}{2}r^2u^0_{i+1} + kg(x) \\quad (3)\n",
    "\\end{equation*}\n",
    "$$\n"
   ]
  },
  {
   "cell_type": "markdown",
   "metadata": {},
   "source": [
    "### Συνθήκη ευστάθειας\n",
    "\n",
    "[Συνθήκη Courant–Friedrichs–Lewy](https://en.wikipedia.org/wiki/Courant%E2%80%93Friedrichs%E2%80%93Lewy_condition)\n",
    "\n",
    "$$\n",
    "\\begin{equation*}\n",
    "r = \\frac{ck}{h} \\leq 1\n",
    "\\end{equation*}\n",
    "$$\n",
    "\n",
    "Φυσική ερμηνία της μέγιστης τιμής του συντελεστή ευστάθειας:\n",
    "\n",
    "_Το χρονικό βήμα πρέπει να είναι μικρότερο από τον χρόνο που χρειάζεται το κύμα\\\n",
    "για να διανύσει απόσταση ίση με ένα χωρικό βήμα_.\n"
   ]
  },
  {
   "cell_type": "markdown",
   "metadata": {},
   "source": [
    "## Εφαρμογή αριθμητικής λύσης"
   ]
  },
  {
   "cell_type": "markdown",
   "metadata": {},
   "source": [
    "\n",
    "$0 \\leq x \\leq 1$\n",
    "\n",
    "$ c = 1$\n",
    "\n",
    "Οριακές συνθήκες:\n",
    "\n",
    "- $u = 0,  \\;$ για $\\; x=0$\n",
    "\n",
    "- $u = 0,  \\;$ για $\\; x=1$\n",
    "\n",
    "Αρχικές συνθήκες:\n",
    "\n",
    "- $u = \\sin(\\pi x),  \\;$ για $\\; t=0$\n",
    "\n",
    "- $\\frac {\\partial u}{\\partial t} = 0,  \\;$ για $\\; t=0$"
   ]
  },
  {
   "cell_type": "markdown",
   "metadata": {},
   "source": [
    "### Διακριτοποίηση αξόνων\n",
    "\n",
    "- Χωρικό βήμα: $\\;  δx = h = 0.2$\n",
    "\n",
    "- Χρονικό βήμα: $\\; δt = k = 0.1$\n",
    "\n",
    "- $r = \\frac{ck}{h} = 0.5\\;$ (για ευστάθεια πρέπει: $\\;r \\leq 1$)"
   ]
  },
  {
   "cell_type": "markdown",
   "metadata": {},
   "source": [
    "### Δημιουργήστε τον x-άξονα\n",
    "\n",
    "$0 \\leq x \\leq 1$\n",
    "\n",
    "$δx = h = 0.2$\n",
    "\n",
    "Χρησιμοποιήστε τη συνάρτηση `np.linspace`."
   ]
  },
  {
   "cell_type": "code",
   "execution_count": null,
   "metadata": {},
   "outputs": [],
   "source": [
    "x0 = 0\n",
    "xN = 1\n",
    "h = 2 / 10\n",
    "\n",
    "Nx = int((xN - x0) / h + 1)\n",
    "\n",
    "x = np.linspace(start=x0, stop=xN, num=Nx, endpoint=True, retstep=False)\n",
    "x"
   ]
  },
  {
   "cell_type": "markdown",
   "metadata": {},
   "source": [
    "### Δημιουργήστε τον t-άξονα\n",
    "\n",
    "$\\; δt = k = 0.1$\n",
    "\n",
    "Χρησιμοποιήστε τη συνάρτηση `np.arange` και 100 χρονικές στιγμές (`Nt=100`)."
   ]
  },
  {
   "cell_type": "code",
   "execution_count": null,
   "metadata": {},
   "outputs": [],
   "source": [
    "t0 = 0\n",
    "k = 1 / 10\n",
    "Nt = 100\n",
    "tN_plus_k = Nt * k\n",
    "\n",
    "t = np.arange(t0, tN_plus_k, k)\n"
   ]
  },
  {
   "cell_type": "markdown",
   "metadata": {},
   "source": [
    "### Δημιουργήστε έναν κενό 2-D πίνακα `u` για την αριθμητική λύση\n",
    "\n",
    "Χρησιμοποιήστε τη συνάρτηση `np.full` και τη σταθερή τιμή `np.nan`.\n",
    "\n",
    "Διερευνήστε τις διαστάσεις του πίνακα."
   ]
  },
  {
   "cell_type": "code",
   "execution_count": null,
   "metadata": {},
   "outputs": [],
   "source": [
    "u = np.full((Nt, Nx), np.nan)\n"
   ]
  },
  {
   "cell_type": "markdown",
   "metadata": {},
   "source": [
    "### Αρχικές συνθήκες\n",
    "\n",
    "- $u = \\sin(\\pi x),  \\;$ για $\\; t=0$\n",
    "\n",
    "- $\\frac {\\partial u}{\\partial t} = 0,  \\;$ για $\\; t=0\\quad$ (δεν την χρησιμοποιούμε ακόμα)\n"
   ]
  },
  {
   "cell_type": "markdown",
   "metadata": {},
   "source": [
    "### Εισάγετε την πρώτη αρχική συνθήκη στον πίνακα `u`.\n"
   ]
  },
  {
   "cell_type": "code",
   "execution_count": null,
   "metadata": {},
   "outputs": [],
   "source": [
    "u[0, :] = np.sin(np.pi*x)\n"
   ]
  },
  {
   "cell_type": "markdown",
   "metadata": {},
   "source": [
    "### Σχεδιάστε την αρχική κατάσταση της χορδής"
   ]
  },
  {
   "cell_type": "code",
   "execution_count": null,
   "metadata": {},
   "outputs": [],
   "source": [
    "fig, ax = plt.subplots()\n",
    "plt.close()\n",
    "\n",
    "ax.plot(x, u[0])\n",
    "\n",
    "fig"
   ]
  },
  {
   "cell_type": "markdown",
   "metadata": {},
   "source": [
    "### Οριακές συνθήκες\n",
    "\n",
    "- $u = 0,  \\;$ για $\\; x=0$\n",
    "\n",
    "- $u = 0,  \\;$ για $\\; x=1$\n"
   ]
  },
  {
   "cell_type": "markdown",
   "metadata": {},
   "source": [
    "### Εισάγετε τις οριακές συνθήκες στον πίνακα `u`."
   ]
  },
  {
   "cell_type": "code",
   "execution_count": null,
   "metadata": {},
   "outputs": [],
   "source": [
    "u[:, 0] = 0\n",
    "u[:, -1] = 0\n"
   ]
  },
  {
   "cell_type": "markdown",
   "metadata": {},
   "source": [
    "### Δημιουργήστε μια μεταβλητή για την ταχύτητα του κύματος $c$"
   ]
  },
  {
   "cell_type": "code",
   "execution_count": null,
   "metadata": {},
   "outputs": [],
   "source": [
    "c = 1\n"
   ]
  },
  {
   "cell_type": "markdown",
   "metadata": {},
   "source": [
    "### Υπολογίστε τον συντελεστή $r$:\n",
    "$$\n",
    "\\begin{equation*}\n",
    "r=\\frac{ck}{h}\n",
    "\\end{equation*}\n",
    "$$\n"
   ]
  },
  {
   "cell_type": "code",
   "execution_count": null,
   "metadata": {},
   "outputs": [],
   "source": [
    "r = (c*k) / h\n",
    "r\n"
   ]
  },
  {
   "cell_type": "markdown",
   "metadata": {},
   "source": [
    "### Αριθμητική λύση της μερικής διαφορικής εξίσωσης\n"
   ]
  },
  {
   "cell_type": "markdown",
   "metadata": {},
   "source": [
    "Για το πρώτο χρονικό βήμα και για $\\;g(x) = 0\\;$ η εξίσωση (3) γίνεται:\n",
    "\n",
    "$$\n",
    "\\begin{align*}\n",
    "& u^1_i = \\frac{1}{2}r^2u^0_{i-1} + (1-r^2)u^0_i + \\frac{1}{2}r^2u^0_{i+1} \n",
    "\\end{align*}\n",
    "$$\n"
   ]
  },
  {
   "cell_type": "markdown",
   "metadata": {},
   "source": [
    "### Υπολογίστε την μετατόπιση της χορδής στο πρώτο χρονικό βήμα"
   ]
  },
  {
   "cell_type": "code",
   "execution_count": null,
   "metadata": {},
   "outputs": [],
   "source": [
    "u[1, 1:-1] = (\n",
    "    (1/2)*(r**2)*u[0, 0:-2] + \n",
    "    (1 - r**2)*u[0, 1:-1] + \n",
    "    (1/2)*(r**2)*u[0, 2:]\n",
    ")\n"
   ]
  },
  {
   "cell_type": "markdown",
   "metadata": {},
   "source": [
    "Για τα υπόλοιπα χρονικά βήματα, έχουμε σύμφωνα με την εξίσωση (1):\n",
    "\n",
    "$$\n",
    "\\begin{align*}\n",
    "& u^{n+1}_i = r^2u^n_{i-1} + (2-2r^2)u^n_i + r^2u^n_{i+1}-u^{n-1}_i\n",
    "\\end{align*}\n",
    "$$\n"
   ]
  },
  {
   "cell_type": "markdown",
   "metadata": {},
   "source": [
    "### Γράψτε την αριθμητική λύση του προβλήματος\n",
    "\n",
    "Προσέξτε ότι το πρώτο χρονικό βήμα έχει ήδη υπολογιστεί."
   ]
  },
  {
   "cell_type": "code",
   "execution_count": null,
   "metadata": {},
   "outputs": [],
   "source": [
    "for n in range(1, Nt - 1):\n",
    "    u[n + 1, 1:-1] = (\n",
    "        r**2*u[n, 0:-2] + \n",
    "        (2 -2*r**2)*u[n, 1:-1] + \n",
    "        r**2*u[n, 2:] - \n",
    "        u[n - 1, 1:-1]\n",
    "    )\n"
   ]
  },
  {
   "cell_type": "markdown",
   "metadata": {},
   "source": [
    "### Animation της αριθμητικής λύσης"
   ]
  },
  {
   "cell_type": "code",
   "execution_count": null,
   "metadata": {},
   "outputs": [],
   "source": [
    "fig, ax = plt.subplots()\n",
    "plt.close()\n",
    "\n",
    "\n",
    "def animate(i):\n",
    "    ax.clear()\n",
    "    ax.plot(x, u[i], color=\"orange\")\n",
    "    ax.set_ylim([-1 - 0.05, 1 + 0.05])\n",
    "    ax.set_xlabel(\"x\", fontsize=12)\n",
    "    ax.set_title(f\"Time: {t[i]:.1f} seconds\", fontweight=\"bold\", loc=\"center\")\n",
    "\n",
    "\n",
    "ani = FuncAnimation(\n",
    "    fig=fig,\n",
    "    func=animate,\n",
    "    frames=Nt,\n",
    "    interval=100,\n",
    "    repeat=False,\n",
    ")\n",
    "plt.close()\n",
    "ani\n"
   ]
  }
 ],
 "metadata": {
  "kernelspec": {
   "display_name": "Python 3.10.4 ('research')",
   "language": "python",
   "name": "python3"
  },
  "language_info": {
   "codemirror_mode": {
    "name": "ipython",
    "version": 3
   },
   "file_extension": ".py",
   "mimetype": "text/x-python",
   "name": "python",
   "nbconvert_exporter": "python",
   "pygments_lexer": "ipython3",
   "version": "3.10.4 | packaged by conda-forge | (main, Mar 24 2022, 17:38:57) [GCC 10.3.0]"
  },
  "orig_nbformat": 4,
  "vscode": {
   "interpreter": {
    "hash": "a64397481a03d3e29229b26c41fe9bf23c6d382d2286036b124a8a7924579d21"
   }
  }
 },
 "nbformat": 4,
 "nbformat_minor": 2
}

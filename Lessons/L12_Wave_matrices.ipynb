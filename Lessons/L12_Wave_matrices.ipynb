{
 "cells": [
  {
   "cell_type": "markdown",
   "metadata": {},
   "source": [
    "## Κυματική εξίσωση (1D)\n",
    "\n",
    "## Αριθμητική λύση με χρήση πινάκων\n",
    "________\n"
   ]
  },
  {
   "cell_type": "code",
   "execution_count": null,
   "metadata": {},
   "outputs": [],
   "source": [
    "import numpy as np\n",
    "import matplotlib.pyplot as plt\n",
    "from matplotlib.animation import FuncAnimation\n",
    "\n",
    "\n",
    "plt.style.use(\"default\")\n",
    "plt.rcParams[\"figure.figsize\"] = [5, 2.5]  # [width_inches, height_inches]\n",
    "plt.rcParams[\"animation.html\"] = \"jshtml\"\n"
   ]
  },
  {
   "cell_type": "markdown",
   "metadata": {},
   "source": [
    "Αναζητούμε την αριθμητική λύση της κυματικής εξίσωσης σε μια χορδή:\n"
   ]
  },
  {
   "cell_type": "markdown",
   "metadata": {},
   "source": [
    "$$\n",
    "\\begin{equation*}\n",
    "\\frac{\\partial^2 u}{\\partial t^2} =c^2\\frac{\\partial^2 u}{\\partial x^2}\n",
    "\\end{equation*}\n",
    "$$\n"
   ]
  },
  {
   "cell_type": "markdown",
   "metadata": {},
   "source": [
    "\n",
    "$0 \\leq x \\leq 1$\n",
    "\n",
    "$ c = 1$\n",
    "\n",
    "Οριακές συνθήκες:\n",
    "\n",
    "- $u = 0,  \\;$ για $\\; x=0$\n",
    "\n",
    "- $u = 0,  \\;$ για $\\; x=1$\n",
    "\n",
    "Αρχικές συνθήκες:\n",
    "\n",
    "- $u = \\sin(\\pi x),  \\;$ για $\\; t=0$\n",
    "\n",
    "- $\\frac {\\partial u}{\\partial t} = 0,  \\;$ για $\\; t=0\\;$ (δηλ. $\\; g(x)=0\\;$)"
   ]
  },
  {
   "cell_type": "markdown",
   "metadata": {},
   "source": [
    "### Διακριτοποίηση αξόνων\n",
    "\n",
    "- Χωρικό βήμα: $\\;  δx = h = 0.2$\n",
    "\n",
    "- Χρονικό βήμα: $\\; δt = k = 0.1$\n",
    "\n",
    "- $r = \\frac{ck}{h} = 0.5\\;$ (για ευστάθεια πρέπει: $\\;r \\leq 1$)"
   ]
  },
  {
   "cell_type": "markdown",
   "metadata": {},
   "source": [
    "### Explicit μέθοδος επίλυσης\n",
    "\n",
    "Centered-difference ως προς το $t$ και ως προς το $x$\n",
    "\n",
    "$$\n",
    "\\begin{align*}\n",
    "& u^{n+1}_i = r^2u^n_{i-1} + (2-2r^2)u^n_i + r^2u^n_{i+1}-u^{n-1}_i\n",
    "\\end{align*}\n",
    "$$\n",
    "\n",
    "Ειδικά για το πρώτο χρονικό βήμα έχουμε:\n",
    "\n",
    "$$\n",
    "\\begin{equation*}\n",
    "u^1_i = \\frac{1}{2}r^2u^0_{i-1} + (1-r^2)u^0_i +\\frac{1}{2}r^2u^0_{i+1} + kg(x)\n",
    "\\end{equation*}\n",
    "$$\n",
    "\n"
   ]
  },
  {
   "cell_type": "markdown",
   "metadata": {},
   "source": [
    "### Δημιουργήστε τον x-άξονα\n",
    "\n",
    "$0 \\leq x \\leq 1$\n",
    "\n",
    "$δx = h = 0.2$\n",
    "\n",
    "Χρησιμοποιήστε τη συνάρτηση `np.linspace`."
   ]
  },
  {
   "cell_type": "code",
   "execution_count": null,
   "metadata": {},
   "outputs": [],
   "source": [
    "x0 = 0\n",
    "xN = 1\n",
    "h = 2 / 10\n",
    "\n",
    "Nx = int((xN - x0) / h + 1)\n",
    "\n",
    "x = np.linspace(start=x0, stop=xN, num=Nx, endpoint=True, retstep=False)\n",
    "x\n"
   ]
  },
  {
   "cell_type": "markdown",
   "metadata": {},
   "source": [
    "### Δημιουργήστε τον t-άξονα\n",
    "\n",
    "$\\; δt = k = 0.1$\n",
    "\n",
    "Χρησιμοποιήστε τη συνάρτηση `np.arange` και 100 χρονικές στιγμές (`Nt=100`)."
   ]
  },
  {
   "cell_type": "code",
   "execution_count": null,
   "metadata": {},
   "outputs": [],
   "source": [
    "t0 = 0\n",
    "k = 1 / 10\n",
    "Nt = 100\n",
    "tN_plus_k = Nt * k\n",
    "\n",
    "t = np.arange(t0, tN_plus_k, k)\n"
   ]
  },
  {
   "cell_type": "markdown",
   "metadata": {},
   "source": [
    "### Δημιουργήστε έναν κενό 2-D πίνακα `u` για την αριθμητική λύση\n",
    "\n",
    "Χρησιμοποιήστε τη συνάρτηση `np.full` και τη σταθερή τιμή `np.nan`.\n",
    "\n",
    "Διερευνήστε τις διαστάσεις του πίνακα."
   ]
  },
  {
   "cell_type": "code",
   "execution_count": null,
   "metadata": {},
   "outputs": [],
   "source": [
    "u = np.full((Nt, Nx), np.nan)\n"
   ]
  },
  {
   "cell_type": "markdown",
   "metadata": {},
   "source": [
    "### Αρχικές συνθήκες\n",
    "\n",
    "- $u = \\sin(\\pi x),  \\;$ για $\\; t=0$\n",
    "\n",
    "- $\\frac {\\partial u}{\\partial t} = 0,  \\;$ για $\\; t=0\\quad$ (δεν την χρησιμοποιούμε ακόμα)\n"
   ]
  },
  {
   "cell_type": "markdown",
   "metadata": {},
   "source": [
    "### Εισάγετε την πρώτη αρχική συνθήκη στον πίνακα `u`.\n"
   ]
  },
  {
   "cell_type": "code",
   "execution_count": null,
   "metadata": {},
   "outputs": [],
   "source": [
    "u[0, :] = np.sin(np.pi*x)\n"
   ]
  },
  {
   "cell_type": "markdown",
   "metadata": {},
   "source": [
    "### Οριακές συνθήκες\n",
    "\n",
    "- $u = 0,  \\;$ για $\\; x=0$\n",
    "\n",
    "- $u = 0,  \\;$ για $\\; x=1$\n"
   ]
  },
  {
   "cell_type": "markdown",
   "metadata": {},
   "source": [
    "### Εισάγετε τις οριακές συνθήκες στον πίνακα `u`."
   ]
  },
  {
   "cell_type": "code",
   "execution_count": null,
   "metadata": {},
   "outputs": [],
   "source": [
    "u[:, 0] = 0\n",
    "u[:, -1] = 0\n"
   ]
  },
  {
   "cell_type": "markdown",
   "metadata": {},
   "source": [
    "### Δημιουργήστε μια μεταβλητή για την ταχύτητα του κύματος $c$"
   ]
  },
  {
   "cell_type": "code",
   "execution_count": null,
   "metadata": {},
   "outputs": [],
   "source": [
    "c = 1\n"
   ]
  },
  {
   "cell_type": "markdown",
   "metadata": {},
   "source": [
    "### Υπολογίστε τον συντελεστή $r$:\n",
    "$$\n",
    "\\begin{equation*}\n",
    "r=\\frac{ck}{h}\n",
    "\\end{equation*}\n",
    "$$\n"
   ]
  },
  {
   "cell_type": "code",
   "execution_count": null,
   "metadata": {},
   "outputs": [],
   "source": [
    "r = (c*k) / h\n",
    "r\n"
   ]
  },
  {
   "cell_type": "markdown",
   "metadata": {},
   "source": [
    "### Αριθμητική λύση της μερικής διαφορικής εξίσωσης\n"
   ]
  },
  {
   "attachments": {},
   "cell_type": "markdown",
   "metadata": {},
   "source": [
    "$ u^{n+1}_i = r^2u^n_{i-1} + (2-2r^2)u^n_i + r^2u^n_{i+1}-u^{n-1}_i $\n",
    "\n",
    "\n",
    "Οι εξισώσεις ανά σημείο είναι οι εξής (από το δεύτερο έως και το προτελευταίο):\n",
    "\n",
    "$ u^{n+1}_1 = r^2u^n_0 + (2 - 2r^2)u^n_1 + r^2u^n_2 - u^{n-1}_1$\n",
    "\n",
    "$ u^{n+1}_2 = r^2u^n_1 + (2 - 2r^2)u^n_2 + r^2u^n_3 - u^{n-1}_2$\n",
    "\n",
    "$ u^{n+1}_3 = r^2u^n_2 + (2 - 2r^2)u^n_3 + r^2u^n_4 - u^{n-1}_3$\n",
    "\n",
    "$ u^{n+1}_4 = r^2u^n_3 + (2 - 2r^2)u^n_4 + r^2u^n_5 - u^{n-1}_4$\n",
    "\n",
    "&nbsp;\n",
    "\n",
    "Σε μορφή πινάκων:\n",
    "\n",
    "$\\vec{u}^{n+1}_i = A\\vec{u}^{n}_i + \\vec{a}^n_i - \\vec{u}^{n-1}_i$\n",
    "\n",
    "&nbsp;\n",
    "\n",
    "Διαστάσεις πινάκων (για μια συγκεκριμένη χρονική στιγμή $n$):\n",
    "\n",
    "$\\vec{u}^{n+1}_i: \\;(N_x - 2)$\n",
    "\n",
    "$A: \\;(N_x - 2) \\times (N_x - 2)$\n",
    "\n",
    "$\\vec{u}^{n}_i: \\;(N_x - 2) $\n",
    "\n",
    "$\\vec{a}^n_i: \\;(N_x - 2)$\n",
    "\n",
    "$\\vec{u}^{n-1}_i: \\;(N_x - 2)$\n",
    "\n",
    "Το $\\vec{a}^n_i$ στο παρόν πρόβλημα μπορεί να αγνοηθεί καθώς είναι ίσο με μηδέν \\\n",
    "για όλες τις χρονικές στιγμές με βάση τις οριακές συνθήκες.\n",
    "\n",
    "$\\Rightarrow \\vec{u}^{n+1}_i = A\\vec{u}^{n}_i- \\vec{u}^{n-1}_i$"
   ]
  },
  {
   "attachments": {},
   "cell_type": "markdown",
   "metadata": {},
   "source": [
    "### Για το πρώτο χρονικό βήμα:\n",
    "\n",
    "$u^1_i = \\frac{1}{2}r^2u^0_{i-1} + (1 - r^2)u^0_i + \\frac{1}{2}r^2u^0_{i+1} + kg(x)$\n",
    "\n",
    "Σε μορφή πινάκων:\n",
    "\n",
    "$\\vec{u}^1_i = \\frac{1}{2} A\\vec{u}^0_i + \\frac{1}{2}\\vec{a}^0_i + k\\vec{g}^0_i$\n",
    "\n",
    "Τα $\\vec{a}^0_i$ και $k\\vec{g}^0_i$ είναι ίσα με μηδέν με βάση τις οριακές και τις αρχικές \\\n",
    "συνθήκες του προβλήματος.\n",
    "\n",
    "$\\Rightarrow \\vec{u}^1_i = \\frac{1}{2} A\\vec{u}^0_i$"
   ]
  },
  {
   "cell_type": "markdown",
   "metadata": {},
   "source": [
    "### Δημιουργήστε έναν μηδενικο πίνακα για το $Α$\n",
    "\n",
    "Χρησιμοποιήστε τη συνάρτηση `np.zeros` και κατάλληλο αριθμό γραμμών και στηλών."
   ]
  },
  {
   "cell_type": "code",
   "execution_count": null,
   "metadata": {},
   "outputs": [],
   "source": [
    "A = np.zeros((Nx-2, Nx-2))\n"
   ]
  },
  {
   "cell_type": "markdown",
   "metadata": {},
   "source": [
    "### Δώστε τις κατάλληλες τιμές στο $Α$\n",
    "\n",
    "- Διαγώνιος: $2-2r^2$\n",
    "\n",
    "- Μετατοπισμένες διαγώνιοι: $r^2$\n",
    "\n",
    "Χρησιμοποιήστε συνδυαστικά τις παρακάτω συναρτήσεις:\n",
    "\n",
    "- `np.fill_diagonal` (προσοχή, λειτουργεί in-place)\n",
    "\n",
    "- `np.repeat`\n",
    "\n",
    "- `np.diag`"
   ]
  },
  {
   "cell_type": "code",
   "execution_count": null,
   "metadata": {},
   "outputs": [],
   "source": [
    "np.fill_diagonal(A, (2 - (2 * r**2)))  # in-place συνάρτηση\n",
    "\n",
    "offset_diagonal_values = np.repeat(r**2, A.shape[0] - 1)\n",
    "\n",
    "A = A + np.diag(offset_diagonal_values, 1) + np.diag(offset_diagonal_values, -1)\n"
   ]
  },
  {
   "cell_type": "code",
   "execution_count": null,
   "metadata": {},
   "outputs": [],
   "source": [
    "A.shape\n"
   ]
  },
  {
   "attachments": {},
   "cell_type": "markdown",
   "metadata": {},
   "source": [
    "### Υπολογίστε τη μετατόπιση της χορδής στο πρώτο χρονικό βήμα\n",
    "\n",
    "$\\vec{u}^1_i = \\frac{1}{2} A\\vec{u}^0_i$"
   ]
  },
  {
   "cell_type": "code",
   "execution_count": null,
   "metadata": {},
   "outputs": [],
   "source": [
    "u[1, 1:-1] = (1/2) * A.dot(u[0, 1:-1]) \n"
   ]
  },
  {
   "attachments": {},
   "cell_type": "markdown",
   "metadata": {},
   "source": [
    "### Γράψτε τη γενική αριθμητική λύση του προβλήματος\n",
    "\n",
    "Προσέξτε ότι το πρώτο χρονικό βήμα έχει ήδη υπολογιστεί.\n",
    "\n",
    "$\\vec{u}^{n+1}_i = A\\vec{u}^{n}_i- \\vec{u}^{n-1}_i$"
   ]
  },
  {
   "cell_type": "code",
   "execution_count": null,
   "metadata": {},
   "outputs": [],
   "source": [
    "for n in range(1, Nt - 1):\n",
    "    u[n + 1, 1:-1] = A.dot(u[n, 1:-1]) - u[n - 1, 1:-1]\n"
   ]
  },
  {
   "cell_type": "markdown",
   "metadata": {},
   "source": [
    "### Animation της αριθμητικής λύσης"
   ]
  },
  {
   "cell_type": "code",
   "execution_count": null,
   "metadata": {},
   "outputs": [],
   "source": [
    "fig, ax = plt.subplots()\n",
    "plt.close()\n",
    "\n",
    "\n",
    "def animate(i):\n",
    "    ax.clear()\n",
    "    ax.plot(x, u[i], color=\"orange\")\n",
    "    ax.set_ylim([-1 - 0.05, 1 + 0.05])\n",
    "    ax.set_xlabel(\"x\", fontsize=12)\n",
    "    ax.set_title(f\"Time: {t[i]:.1f} seconds\", fontweight=\"bold\", loc=\"center\")\n",
    "\n",
    "ani = FuncAnimation(\n",
    "    fig=fig,\n",
    "    func=animate,\n",
    "    frames=Nt,\n",
    "    interval=100,\n",
    "    repeat=False,\n",
    ")\n",
    "plt.close()\n",
    "ani\n"
   ]
  }
 ],
 "metadata": {
  "kernelspec": {
   "display_name": "Python 3.10.4 ('research')",
   "language": "python",
   "name": "python3"
  },
  "language_info": {
   "codemirror_mode": {
    "name": "ipython",
    "version": 3
   },
   "file_extension": ".py",
   "mimetype": "text/x-python",
   "name": "python",
   "nbconvert_exporter": "python",
   "pygments_lexer": "ipython3",
   "version": "3.10.4 | packaged by conda-forge | (main, Mar 24 2022, 17:38:57) [GCC 10.3.0]"
  },
  "orig_nbformat": 4,
  "vscode": {
   "interpreter": {
    "hash": "a64397481a03d3e29229b26c41fe9bf23c6d382d2286036b124a8a7924579d21"
   }
  }
 },
 "nbformat": 4,
 "nbformat_minor": 2
}

{
 "cells": [
  {
   "attachments": {},
   "cell_type": "markdown",
   "metadata": {},
   "source": [
    "## Κυματική Εξίσωση (2D)\n",
    "________"
   ]
  },
  {
   "attachments": {},
   "cell_type": "markdown",
   "metadata": {},
   "source": [
    "### Δημιουργία μαθήματος μαζί με Φωτεινή Φλόκα"
   ]
  },
  {
   "cell_type": "code",
   "execution_count": null,
   "metadata": {},
   "outputs": [],
   "source": [
    "import numpy as np\n",
    "import matplotlib.pyplot as plt\n",
    "from matplotlib.animation import FuncAnimation\n",
    "\n",
    "\n",
    "plt.style.use(\"default\")\n",
    "plt.rcParams[\"figure.figsize\"] = [5, 4]  # [width_inches, height_inches]\n",
    "plt.rcParams[\"animation.html\"] = \"jshtml\""
   ]
  },
  {
   "attachments": {},
   "cell_type": "markdown",
   "metadata": {},
   "source": [
    "### Κυματική εξίσωση - Ταλάντωση επιφάνειας\n",
    "\n",
    "$$\n",
    "\\begin{equation*}\n",
    "\\frac{\\partial^2 u}{\\partial t^2} =c^2 (\\frac{\\partial^2 u}{\\partial x^2} + \\frac{\\partial^2 u}{\\partial y^2})\n",
    "\\end{equation*}\n",
    "$$\n",
    "\n",
    "$u = u(x,y,t)$:\n",
    "\n",
    "Η κατακόρυφη μετατόπιση από τη θέση ισορροπίας τυχαίου σημείου $(x, y)$ της επιφάνειας τη χρονική στιγμή $t$ "
   ]
  },
  {
   "attachments": {},
   "cell_type": "markdown",
   "metadata": {},
   "source": [
    "$ c = 1$\n",
    "\n",
    "$0 \\leq x \\leq 2, \\quad 0 \\leq y \\leq 2$\n",
    "\n",
    "Οριακές συνθήκες:\n",
    "\n",
    "- $u = 0  \\;$ για $\\; x=0$\n",
    "\n",
    "- $u = 0  \\;$ για $\\; x=2$\n",
    "\n",
    "- $u = 0  \\;$ για $\\; y=0$\n",
    "\n",
    "- $u = 0  \\;$ για $\\; y=2$\n",
    "\n",
    "\n",
    "Αρχικές συνθήκες:\n",
    "\n",
    "- $u = \\sin(\\pi \\frac{x}{2})\\sin(\\pi \\frac{y}{2}),  \\;$ για $\\; t=0$\n",
    "\n",
    "- $\\frac {\\partial u}{\\partial t} = 0,  \\;$ για $\\; t=0\\;$ (δηλ. $\\; g(x, y)=0\\;$)"
   ]
  },
  {
   "attachments": {},
   "cell_type": "markdown",
   "metadata": {},
   "source": [
    "### Διακριτοποίηση αξόνων\n",
    "\n",
    "- Χωρικό βήμα: $\\;  \\delta x = \\delta y = h = 0.08$\n",
    "\n",
    "- Χρονικό βήμα: $\\; δt = k = 0.04$\n",
    "\n",
    "- $r = \\frac{ck}{h} = 0.5\\;$ (για ευστάθεια πρέπει: $\\;r \\leq 1$)"
   ]
  },
  {
   "attachments": {},
   "cell_type": "markdown",
   "metadata": {},
   "source": [
    "### Explicit μέθοδος επίλυσης\n",
    "\n",
    "Centered-difference ως προς τα $x, y$ και $t$."
   ]
  },
  {
   "attachments": {},
   "cell_type": "markdown",
   "metadata": {},
   "source": [
    "$$\n",
    "\\begin{align*}\n",
    "& u^{n+1}_{i,j} = r^2u^n_{i-1,j} + r^2u^n_{i, j-1} + (2-4r^2)u^n_{i,j} + r^2u^n_{i+1,j} +r^2u^n_{i,j+1} -u^{n-1}_{i,j} \\quad(1)\n",
    "\\end{align*}\n",
    "$$"
   ]
  },
  {
   "attachments": {},
   "cell_type": "markdown",
   "metadata": {},
   "source": [
    "Για το πρώτο χρονικό βήμα έχουμε:\n",
    "\n",
    "$$\n",
    "\\begin{equation*}\n",
    "u^{1}_{i,j} = r^2u^0_{i-1,j} + r^2u^0_{i, j-1} + (2-4r^2)u^0_{i,j} + r^2u^0_{i+1,j} +r^2u^0_{i,j+1} -u^{-1}_{i,j} \\quad (2)\n",
    "\\end{equation*}\n",
    "$$\n",
    "\n",
    "Χρησιμοποιώντας centered-difference για την αρχική συνθήκη της πρώτης παραγώγου προσδιορίζουμε το $u^{-1}_i$.\n",
    "\n",
    "\n",
    "$$\n",
    "\\begin{align*}\n",
    "&\\quad \\left. \\frac{\\partial u}{\\partial t} \\right|_{t=0} = g(x,y)\\\\[15pt]\n",
    "& \\Rightarrow\\dots\\\\[15pt]\n",
    "& \\Rightarrow u^{-1}_{i,j} = u^1_{i,j} - 2kg(x,y)\\\\[15pt]\n",
    "\\end{align*}\n",
    "$$\n",
    "\n",
    "Αντικαθιστώντας στην (2) έχουμε τελικά για το πρώτο χρονικό βήμα:\n",
    "\n",
    "$$\n",
    "\\begin{equation*}\n",
    "u^{1}_{i,j} = \\frac{1}{2}r^2u^0_{i-1,j} + \\frac{1}{2}r^2u^0_{i, j-1} + (1-2r^2)u^0_{i,j} + \\frac{1}{2}r^2u^0_{i+1,j} + \\frac{1}{2}r^2u^0_{i,j+1} + kg(x,y) \\quad (3)\n",
    "\\end{equation*}\n",
    "$$\n"
   ]
  },
  {
   "attachments": {},
   "cell_type": "markdown",
   "metadata": {},
   "source": [
    "### Επανάληψη: χαρακτηριστικά  3D NumPy πινάκων"
   ]
  },
  {
   "attachments": {},
   "cell_type": "markdown",
   "metadata": {},
   "source": [
    "Ένας τρισδιάστος πίνακας μπορεί να θεωρηθεί ως συνδυασμός δισδιάστατων πινάκων."
   ]
  },
  {
   "cell_type": "code",
   "execution_count": null,
   "metadata": {},
   "outputs": [],
   "source": [
    "a = np.array([\n",
    "    [\n",
    "        [1, 2, 3, 4],\n",
    "        [5, 6, 7, 8],\n",
    "    ],\n",
    "    [\n",
    "        [1, 1, 1, 1],\n",
    "        [1, 1, 1, 1],\n",
    "    ],\n",
    "    [\n",
    "        [0, 0, 0, 0],\n",
    "        [1, 1, 1, 1],\n",
    "    ],\n",
    "])"
   ]
  },
  {
   "attachments": {},
   "cell_type": "markdown",
   "metadata": {},
   "source": [
    "Μέσω του attribute `shape` διερευνήστε τις διαστάσεις του `a`.\n",
    "\n",
    "Σε τι αντιστοιχεί ο κάθε αριθμός;"
   ]
  },
  {
   "cell_type": "code",
   "execution_count": null,
   "metadata": {},
   "outputs": [],
   "source": [
    "a.shape\n"
   ]
  },
  {
   "attachments": {},
   "cell_type": "markdown",
   "metadata": {},
   "source": [
    "Επιλογή στοιχείων από έναν τρισδιάστατο πίνακα:"
   ]
  },
  {
   "cell_type": "code",
   "execution_count": null,
   "metadata": {},
   "outputs": [],
   "source": [
    "a[1:, :, :]"
   ]
  },
  {
   "cell_type": "code",
   "execution_count": null,
   "metadata": {},
   "outputs": [],
   "source": [
    "a[-1, -1, 1:]"
   ]
  },
  {
   "attachments": {},
   "cell_type": "markdown",
   "metadata": {},
   "source": [
    "Να επιλέξετε όλη τη δεύτερη γραμμή από τον πρώτο επιμέρους 2D πίνακα του `a`, \\\n",
    "δηλαδή τα στοιχεία `[5, 6, 7, 8]`."
   ]
  },
  {
   "cell_type": "code",
   "execution_count": null,
   "metadata": {},
   "outputs": [],
   "source": [
    "a[0, 1, :]\n"
   ]
  },
  {
   "attachments": {},
   "cell_type": "markdown",
   "metadata": {},
   "source": [
    "### Επανάληψη: δημιουργία διαγράμματος εικόνας (image plot)"
   ]
  },
  {
   "cell_type": "code",
   "execution_count": null,
   "metadata": {},
   "outputs": [],
   "source": [
    "a = np.array([\n",
    "    [1, 2, 3],\n",
    "    [4, 5, 6]\n",
    "])\n",
    "fig, ax = plt.subplots()\n",
    "plt.close()\n",
    "\n",
    "img = ax.imshow(a)\n",
    "fig.colorbar(img, ax=ax, fraction=0.03)\n",
    "\n",
    "fig"
   ]
  },
  {
   "attachments": {},
   "cell_type": "markdown",
   "metadata": {},
   "source": [
    "### Εφαρμογή κυματικής εξίσωσης 2D"
   ]
  },
  {
   "attachments": {},
   "cell_type": "markdown",
   "metadata": {},
   "source": [
    "### Δημιουργήστε τον x-άξονα\n",
    "\n",
    "$0 \\leq x \\leq 2$\n",
    "\n",
    "$\\delta x = h = 0.08$\n",
    "\n",
    "Χρησιμοποιήστε τη συνάρτηση `np.linspace`."
   ]
  },
  {
   "cell_type": "code",
   "execution_count": null,
   "metadata": {},
   "outputs": [],
   "source": [
    "x0 = 0\n",
    "xN = 2\n",
    "h = 0.08\n",
    "Nx = int((xN - x0)/h + 1)\n",
    "x = np.linspace(start=x0, stop=xN, num=Nx, retstep=False)\n"
   ]
  },
  {
   "attachments": {},
   "cell_type": "markdown",
   "metadata": {},
   "source": [
    "### Δημιουργήστε τον y-άξονα\n",
    "\n",
    "$0 \\leq y \\leq 2$\n",
    "\n",
    "$\\delta y = h = 0.08$\n",
    "\n",
    "Χρησιμοποιήστε τη συνάρτηση `np.linspace`."
   ]
  },
  {
   "cell_type": "code",
   "execution_count": null,
   "metadata": {},
   "outputs": [],
   "source": [
    "y0 = 0\n",
    "yN = 2\n",
    "Ny = int((yN - y0)/h + 1)\n",
    "y = np.linspace(start=y0, stop=yN, num=Ny, retstep=False)\n"
   ]
  },
  {
   "attachments": {},
   "cell_type": "markdown",
   "metadata": {},
   "source": [
    "### Δημιουργήστε τον t-άξονα\n",
    "\n",
    "$\\delta t = k = 0.04$\n",
    "\n",
    "Χρησιμοποιήστε τη συνάρτηση `np.arange` και 140 χρονικές στιγμές (`Nt=140`).\n"
   ]
  },
  {
   "cell_type": "code",
   "execution_count": null,
   "metadata": {},
   "outputs": [],
   "source": [
    "t0 = 0\n",
    "k = 0.04\n",
    "Nt = 140\n",
    "tN_plus_k = Nt * k\n",
    "t = np.arange(t0, tN_plus_k, k)\n"
   ]
  },
  {
   "attachments": {},
   "cell_type": "markdown",
   "metadata": {},
   "source": [
    "### Δημιουργήστε έναν κενό 3-D πίνακα `u` για την αριθμητική λύση\n",
    "\n",
    "Χρησιμοποιήστε τη συνάρτηση `np.full` και τη σταθερή τιμή `np.nan`.\n",
    "\n",
    "Διερευνήστε τις διαστάσεις του πίνακα.\n"
   ]
  },
  {
   "cell_type": "code",
   "execution_count": null,
   "metadata": {},
   "outputs": [],
   "source": [
    "u = np.full((Nt, Nx, Ny), np.nan)\n"
   ]
  },
  {
   "cell_type": "code",
   "execution_count": null,
   "metadata": {},
   "outputs": [],
   "source": [
    "u.shape\n"
   ]
  },
  {
   "attachments": {},
   "cell_type": "markdown",
   "metadata": {},
   "source": [
    "### Δημιουργήστε το πλέγμα του προβλήματος\n",
    "\n",
    "\n",
    "Χρησιμοποιήστε τους δύο χωρικούς άξονες ($x$, $y$) και τη συνάρτηση `np.meshgrid`\n",
    "\n",
    "Να θέσετε την παράμετρο `indexing` του `np.meshgrid` ίση με `\"ij\"` έτσι ώστε να \\\n",
    "τοποθετηθούν με σωστή σειρά οι $x$ και $y$ άξονες."
   ]
  },
  {
   "cell_type": "code",
   "execution_count": null,
   "metadata": {},
   "outputs": [],
   "source": [
    "xx, yy = np.meshgrid(x, y, indexing=\"ij\")\n"
   ]
  },
  {
   "attachments": {},
   "cell_type": "markdown",
   "metadata": {},
   "source": [
    "### Αρχική συνθήκη\n",
    "\n",
    "$$\n",
    "\\begin{equation*}\n",
    "u = \\sin(\\pi \\frac{x}{2})\\sin(\\pi \\frac{y}{2})\n",
    "\\end{equation*}\n",
    "$$ \n",
    "\n"
   ]
  },
  {
   "attachments": {},
   "cell_type": "markdown",
   "metadata": {},
   "source": [
    "#### Εισάγετε την αρχική συνθήκη στον πίνακα `u`.\n",
    "\n",
    "Χρησιμοποίηστε τις νέες μεταβλητές `xx` και `yy`."
   ]
  },
  {
   "cell_type": "code",
   "execution_count": null,
   "metadata": {},
   "outputs": [],
   "source": [
    "u[0, :, :] = np.sin(np.pi * (xx/2)) * np.sin(np.pi *(yy/2))\n"
   ]
  },
  {
   "attachments": {},
   "cell_type": "markdown",
   "metadata": {},
   "source": [
    "### Οριακές συνθήκες\n",
    "\n",
    "- $u = 0  \\;$ για $\\; x=0$\n",
    "- $u = 0  \\;$ για $\\; x=2$\n",
    "- $u = 0  \\;$ για $\\; y=0$\n",
    "- $u = 0  \\;$ για $\\; y=2$"
   ]
  },
  {
   "attachments": {},
   "cell_type": "markdown",
   "metadata": {},
   "source": [
    "#### Εισάγετε τις οριακές συνθήκες στον πίνακα `u`.\n",
    "\n",
    "Χρησιμοποίηστε τέσσερις διαδοχικές εντολές, επιλέγοντας τις κατάλληλες \\\n",
    "γραμμές/στήλες κάθε φορά."
   ]
  },
  {
   "cell_type": "code",
   "execution_count": null,
   "metadata": {},
   "outputs": [],
   "source": [
    "u[:, :, 0] = 0\n",
    "u[:, :, -1] = 0\n",
    "u[:, 0, :] = 0\n",
    "u[:, -1, :] = 0\n"
   ]
  },
  {
   "attachments": {},
   "cell_type": "markdown",
   "metadata": {},
   "source": [
    "### 2-D Διάγραμμα\n",
    "\n",
    "#### Σχεδιάστε την επιφάνεια στην αρχική της κατάσταση ($\\;t = 0\\;$)\n",
    "\n",
    "Δημιουργήστε την απεικόνιση μέσω της μεθόδου `ax.imshow`.\n",
    "\n",
    "Χρησιμοποιήστε τον ανάστροφο του πίνακα για να είναι ο x-άξονας οριζόντιος.\n"
   ]
  },
  {
   "cell_type": "code",
   "execution_count": null,
   "metadata": {},
   "outputs": [],
   "source": [
    "fig, ax = plt.subplots()\n",
    "plt.close()\n",
    "img = ax.imshow((u[0, :, :]).T, vmin=-1, vmax=1)\n",
    "fig.colorbar(img, ax=ax, fraction=0.03)\n",
    "fig\n"
   ]
  },
  {
   "attachments": {},
   "cell_type": "markdown",
   "metadata": {},
   "source": [
    "### 3-D Διάγραμμα\n",
    "\n",
    "Η αρχική κατάσταση της επιφάνειας σε τρισδιάστατη απεικόνιση."
   ]
  },
  {
   "cell_type": "code",
   "execution_count": null,
   "metadata": {},
   "outputs": [],
   "source": [
    "fig = plt.figure()\n",
    "ax = plt.axes(projection=\"3d\")\n",
    "plt.close()\n",
    "\n",
    "colormap = plt.get_cmap(\"viridis\")\n",
    "ax.plot_surface(xx, yy, u[0], cmap=colormap)\n",
    "\n",
    "ax.set_xlabel(\"x\", fontsize=12)\n",
    "ax.set_ylabel(\"y\", fontsize=12)\n",
    "ax.set_zlabel(\"u\", rotation=0, fontsize=16)\n",
    "ax.set_zlim([0, 1])\n",
    "\n",
    "ax.tick_params(axis=\"both\", which=\"major\", pad=1.0)\n",
    "ax.view_init(azim=45)\n",
    "fig"
   ]
  },
  {
   "attachments": {},
   "cell_type": "markdown",
   "metadata": {},
   "source": [
    "### Δημιουργήστε μια μεταβλητή για την ταχύτητα του κύματος $c$"
   ]
  },
  {
   "cell_type": "code",
   "execution_count": null,
   "metadata": {},
   "outputs": [],
   "source": [
    "c = 1\n"
   ]
  },
  {
   "attachments": {},
   "cell_type": "markdown",
   "metadata": {},
   "source": [
    "### Υπολογίστε τον συντελεστή $r$:\n",
    "$$\n",
    "\\begin{equation*}\n",
    "r=\\frac{ck}{h}\n",
    "\\end{equation*}\n",
    "$$\n"
   ]
  },
  {
   "cell_type": "code",
   "execution_count": null,
   "metadata": {},
   "outputs": [],
   "source": [
    "r = (c * k) / h\n",
    "r\n"
   ]
  },
  {
   "attachments": {},
   "cell_type": "markdown",
   "metadata": {},
   "source": [
    "### Αριθμητική λύση της μερικής διαφορικής εξίσωσης\n"
   ]
  },
  {
   "attachments": {},
   "cell_type": "markdown",
   "metadata": {},
   "source": [
    "Για το πρώτο χρονικό βήμα και για $\\;g(x, y) = 0\\;$ η εξίσωση (3) γίνεται:\n",
    "\n",
    "$$\n",
    "\\begin{align*}\n",
    "& u^{1}_{i,j} = \\frac{1}{2}r^2u^0_{i-1,j} + \\frac{1}{2}r^2u^0_{i, j-1} + (1-2r^2)u^0_{i,j} + \\frac{1}{2}r^2u^0_{i+1,j} + \\frac{1}{2}r^2u^0_{i,j+1} \n",
    "\\end{align*}\n",
    "$$\n"
   ]
  },
  {
   "attachments": {},
   "cell_type": "markdown",
   "metadata": {},
   "source": [
    "### Υπολογίστε την παραμόρφωση της επιφάνειας για το πρώτο χρονικό βήμα"
   ]
  },
  {
   "cell_type": "code",
   "execution_count": null,
   "metadata": {},
   "outputs": [],
   "source": [
    "u[1, 1:-1, 1:-1] = (\n",
    "    (1/2)*r**2*u[0, 0:-2, 1:-1] +\n",
    "    (1/2)*r**2*u[0, 1:-1, 0:-2] +\n",
    "    (1 - 2*r**2)*u[0, 1:-1, 1:-1] +\n",
    "    (1/2)*r**2*u[0, 2:, 1:-1] +\n",
    "    (1/2)*r**2*u[0, 1:-1, 2:]\n",
    ")\n"
   ]
  },
  {
   "attachments": {},
   "cell_type": "markdown",
   "metadata": {},
   "source": [
    "Για τα υπόλοιπα χρονικά βήματα, έχουμε σύμφωνα με την εξίσωση (1):\n",
    "\n",
    "$$\n",
    "\\begin{align*}\n",
    "& u^{n+1}_{i,j} = r^2u^n_{i-1,j} + r^2u^n_{i, j-1} + (2-4r^2)u^n_{i,j} + r^2u^n_{i+1,j} +r^2u^n_{i,j+1} -u^{n-1}_{i,j}\n",
    "\\end{align*}\n",
    "$$\n",
    "\n",
    "### Εφαρμόστε την αριθμητική λύση για όλα τα χρονικά βήματα\n",
    "\n",
    "Προσέξτε ότι το πρώτο χρονικό βήμα έχει ήδη υπολογιστεί."
   ]
  },
  {
   "cell_type": "code",
   "execution_count": null,
   "metadata": {},
   "outputs": [],
   "source": [
    "for n in range(1, Nt-1):\n",
    "    u[n + 1, 1:-1, 1:-1] = (\n",
    "        r**2*u[n, 0:-2, 1:-1] + \n",
    "        r**2*u[n, 1:-1, 0:-2] +\n",
    "        (2 - 4*r**2)*u[n, 1:-1, 1:-1] +\n",
    "        r**2*u[n, 2:, 1:-1] +\n",
    "        r**2*u[n, 1:-1, 2:] -\n",
    "        u[n-1, 1:-1, 1:-1]\n",
    "    )\n"
   ]
  },
  {
   "attachments": {},
   "cell_type": "markdown",
   "metadata": {},
   "source": [
    "### 2-D Animation της αριθμητικής λύσης"
   ]
  },
  {
   "cell_type": "code",
   "execution_count": null,
   "metadata": {},
   "outputs": [],
   "source": [
    "fig, ax = plt.subplots()\n",
    "plt.close()\n",
    "\n",
    "# δημιουργία σταθερού colorbar\n",
    "img = ax.imshow(np.zeros((1,1)), vmin=-1 , vmax=1)\n",
    "fig.colorbar(img, ax=ax, fraction=0.025)\n",
    "\n",
    "def animate(i):\n",
    "    ax.clear()\n",
    "\n",
    "    ax.imshow(u[i, :, :].T, vmin=-1, vmax=1)\n",
    "    ax.set_xlabel(\"x\", fontsize=12, fontweight=\"bold\")\n",
    "    ax.set_ylabel(\"y\", fontsize=12, fontweight=\"bold\")\n",
    "    ax.set_title(f\"Time: {t[i]:.2f} seconds\", fontweight=\"bold\", loc=\"center\")\n",
    "\n",
    "ani = FuncAnimation(\n",
    "    fig=fig,\n",
    "    func=animate,\n",
    "    frames=Nt,\n",
    "    interval=50,\n",
    "    repeat=False,\n",
    ")\n",
    "plt.close()\n",
    "ani"
   ]
  },
  {
   "attachments": {},
   "cell_type": "markdown",
   "metadata": {},
   "source": [
    "### 3-D Animation της αριθμητικής λύσης"
   ]
  },
  {
   "cell_type": "code",
   "execution_count": null,
   "metadata": {},
   "outputs": [],
   "source": [
    "fig = plt.figure()\n",
    "ax = plt.axes(projection=\"3d\")\n",
    "plt.close()\n",
    "\n",
    "colormap = plt.get_cmap(\"viridis\")\n",
    "\n",
    "def animate(i):\n",
    "    ax.clear()\n",
    "    ax.plot_surface(xx, yy, u[i, :, :], cmap=colormap, vmin=-1, vmax=1)\n",
    "    ax.set_xlabel(\"x\", fontsize=12)\n",
    "    ax.set_ylabel(\"y\", fontsize=12)\n",
    "    ax.set_zlabel(\"u\", rotation=0, fontsize=16)\n",
    "    ax.set_zlim([-1, 1])\n",
    "    ax.tick_params(axis=\"both\", which=\"major\", pad=1.0)\n",
    "    ax.set_title(f\"Time: {t[i]:.2f} seconds\", fontweight=\"bold\", loc=\"center\")\n",
    "    ax.view_init(azim=45)\n",
    "    \n",
    "ani = FuncAnimation(\n",
    "    fig=fig,\n",
    "    func=animate,\n",
    "    frames=Nt,\n",
    "    interval=40,\n",
    "    repeat=False,\n",
    ")\n",
    "plt.close()\n",
    "ani"
   ]
  }
 ],
 "metadata": {
  "kernelspec": {
   "display_name": "research",
   "language": "python",
   "name": "python3"
  },
  "language_info": {
   "codemirror_mode": {
    "name": "ipython",
    "version": 3
   },
   "file_extension": ".py",
   "mimetype": "text/x-python",
   "name": "python",
   "nbconvert_exporter": "python",
   "pygments_lexer": "ipython3",
   "version": "3.10.4 | packaged by conda-forge | (main, Mar 24 2022, 17:38:57) [GCC 10.3.0]"
  },
  "orig_nbformat": 4,
  "vscode": {
   "interpreter": {
    "hash": "a64397481a03d3e29229b26c41fe9bf23c6d382d2286036b124a8a7924579d21"
   }
  }
 },
 "nbformat": 4,
 "nbformat_minor": 2
}

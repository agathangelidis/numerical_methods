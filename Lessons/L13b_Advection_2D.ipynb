{
 "cells": [
  {
   "attachments": {},
   "cell_type": "markdown",
   "metadata": {},
   "source": [
    "## Οριζόντια μεταφορά (Advection) (2D)\n",
    "________\n"
   ]
  },
  {
   "cell_type": "code",
   "execution_count": null,
   "metadata": {},
   "outputs": [],
   "source": [
    "import numpy as np\n",
    "import matplotlib.pyplot as plt\n",
    "from matplotlib.animation import FuncAnimation\n",
    "\n",
    "\n",
    "plt.style.use(\"default\")\n",
    "plt.rcParams[\"figure.figsize\"] = [5, 5]  # [width_inches, height_inches]\n",
    "plt.rcParams[\"animation.html\"] = \"jshtml\"\n"
   ]
  },
  {
   "attachments": {},
   "cell_type": "markdown",
   "metadata": {},
   "source": [
    "### Εξίσωση μεταφοράς - Διάδοση κύματος\n",
    "\n",
    "$$\n",
    "\\begin{equation*}\n",
    "\\frac{\\partial u}{\\partial t} + c(\\frac{\\partial u}{\\partial x} + \\frac{\\partial u}{\\partial y}) = 0\n",
    "\\end{equation*}\n",
    "$$\n",
    "\n",
    "$ c = 1$\n",
    "\n",
    "$0 \\leq x \\leq 2, \\quad 0 \\leq y \\leq 2$\n",
    "\n",
    "Οριακές συνθήκες:\n",
    "\n",
    "- $u = 0  \\;$ για $\\; x=0$\n",
    "- $u = 0  \\;$ για $\\; x=2$\n",
    "- $u = 0  \\;$ για $\\; y=0$\n",
    "- $u = 0  \\;$ για $\\; y=2$\n",
    "\n",
    "\n",
    "Αρχική συνθήκη (συνάρτηση γκαουσιανής μορφής):\n",
    "\n",
    "- $u = \\frac {1}{2} e ^{-10(x - \\frac {1}{2})^2 -10(y - \\frac {1}{2})^2},  \\;$ για $\\; t=0$"
   ]
  },
  {
   "attachments": {},
   "cell_type": "markdown",
   "metadata": {},
   "source": [
    "### Διακριτοποίηση αξόνων\n",
    "\n",
    "- Χωρικό βήμα: $\\;  δx \\;(h_x) = δy \\;(h_y) = 0.0125$\n",
    "\n",
    "- Χρονικό βήμα: $\\; δt = k = 0.005$\n"
   ]
  },
  {
   "cell_type": "markdown",
   "metadata": {},
   "source": [
    "### Mέθοδος επίλυσης\n",
    "\n",
    "- $c = 1$\n",
    "- Forward-difference ως προς το $t$ \n",
    "- Backward-difference προς το $x$ και ως προς το $y$\n"
   ]
  },
  {
   "cell_type": "markdown",
   "metadata": {},
   "source": [
    "$$\n",
    "\\begin{align*}\n",
    "& u_{i,j}^{n+1} = u_{i,j}^n - \\frac{k}{h_x}(u_{i,j}^n - u_{i-1,j}^n) - \\frac{k}{h_y}(u_{i,j}^n - u_{i,j-1}^n)\n",
    "\\end{align*}\n",
    "$$\n"
   ]
  },
  {
   "cell_type": "markdown",
   "metadata": {},
   "source": [
    "### Δημιουργήστε τον x-άξονα\n",
    "\n",
    "$0 \\leq x \\leq 2$\n",
    "\n",
    "$δx = h_x = 0.0125$\n",
    "\n",
    "Χρησιμοποιήστε τη συνάρτηση `np.linspace`.\n"
   ]
  },
  {
   "cell_type": "code",
   "execution_count": null,
   "metadata": {},
   "outputs": [],
   "source": []
  },
  {
   "cell_type": "markdown",
   "metadata": {},
   "source": [
    "### Δημιουργήστε τον y-άξονα\n",
    "\n",
    "$0 \\leq y \\leq 2$\n",
    "\n",
    "$δy = h_y = 0.0125$\n",
    "\n",
    "Χρησιμοποιήστε τη συνάρτηση `np.linspace`."
   ]
  },
  {
   "cell_type": "code",
   "execution_count": null,
   "metadata": {},
   "outputs": [],
   "source": []
  },
  {
   "cell_type": "markdown",
   "metadata": {},
   "source": [
    "### Δημιουργήστε τον t-άξονα\n",
    "\n",
    "$\\; δt = k = 0.005$\n",
    "\n",
    "Χρησιμοποιήστε τη συνάρτηση `np.arange` και 200 χρονικές στιγμές (`Nt=200`).\n"
   ]
  },
  {
   "cell_type": "code",
   "execution_count": null,
   "metadata": {},
   "outputs": [],
   "source": []
  },
  {
   "cell_type": "markdown",
   "metadata": {},
   "source": [
    "### Δημιουργήστε έναν κενό 3-D πίνακα `u` για την αριθμητική λύση\n",
    "\n",
    "Χρησιμοποιήστε τη συνάρτηση `np.full` και τη σταθερή τιμή `np.nan`.\n",
    "\n",
    "Διερευνήστε τις διαστάσεις του πίνακα.\n",
    "\n"
   ]
  },
  {
   "cell_type": "code",
   "execution_count": null,
   "metadata": {},
   "outputs": [],
   "source": []
  },
  {
   "attachments": {},
   "cell_type": "markdown",
   "metadata": {},
   "source": [
    "### Δημιουργήστε το πλέγμα του προβλήματος\n",
    "\n",
    "\n",
    "Χρησιμοποιήστε τους δύο χωρικούς άξονες (x, y) και τη συνάρτηση `np.meshgrid`\n",
    "\n",
    "Να θέσετε την παράμετρο `indexing` του `np.meshgrid` ίση με `\"ij\"` έτσι ώστε να \\\n",
    "τοποθετηθούν με σωστή σειρά οι $x$ και $y$ άξονες."
   ]
  },
  {
   "cell_type": "code",
   "execution_count": null,
   "metadata": {},
   "outputs": [],
   "source": []
  },
  {
   "cell_type": "markdown",
   "metadata": {},
   "source": [
    "### Αρχική συνθήκη:\n",
    "\n",
    "$$\n",
    "\\begin{equation*}\n",
    "u = \\frac {1}{2} e ^{-10(x - \\frac {1}{2})^2 -10(y - \\frac {1}{2})^2}\n",
    "\\end{equation*}\n",
    "$$"
   ]
  },
  {
   "cell_type": "markdown",
   "metadata": {},
   "source": [
    "#### Εισάγετε την αρχική συνθήκη στον πίνακα `u`.\n",
    "\n",
    "Χρησιμοποιήστε τις νέες μεταβλητές `xx` και `yy`."
   ]
  },
  {
   "cell_type": "code",
   "execution_count": null,
   "metadata": {},
   "outputs": [],
   "source": []
  },
  {
   "cell_type": "markdown",
   "metadata": {},
   "source": [
    "### Οριακές συνθήκες\n",
    "\n",
    "- $u = 0  \\;$ για $\\; x=0$\n",
    "- $u = 0  \\;$ για $\\; x=2$\n",
    "- $u = 0  \\;$ για $\\; y=0$\n",
    "- $u = 0  \\;$ για $\\; y=2$\n"
   ]
  },
  {
   "cell_type": "markdown",
   "metadata": {},
   "source": [
    "#### Εισάγετε τις οριακές συνθήκες στον πίνακα `u`.\n"
   ]
  },
  {
   "cell_type": "code",
   "execution_count": null,
   "metadata": {},
   "outputs": [],
   "source": []
  },
  {
   "cell_type": "markdown",
   "metadata": {},
   "source": [
    "### 2-D Διάγραμμα\n",
    "\n",
    "### Σχεδιάστε το κύμα στην αρχική του κατάσταση ($\\;t = 0\\;$)\n",
    "\n",
    "Δημιουργήστε την απεικόνιση μέσω της μεθόδου `ax.imshow`.\n",
    "\n",
    "Χρησιμοποιήστε τον ανάστροφο του πίνακα για να είναι ο x-άξονας οριζόντιος.\n"
   ]
  },
  {
   "cell_type": "code",
   "execution_count": null,
   "metadata": {},
   "outputs": [],
   "source": []
  },
  {
   "cell_type": "markdown",
   "metadata": {},
   "source": [
    "### 3-D Διάγραμμα\n",
    "\n",
    "Η αρχική κατάσταση του κύματος σε τρισδιάστατη απεικόνιση.\n"
   ]
  },
  {
   "cell_type": "code",
   "execution_count": null,
   "metadata": {},
   "outputs": [],
   "source": [
    "fig = plt.figure()\n",
    "ax = plt.axes(projection=\"3d\")\n",
    "plt.close()\n",
    "\n",
    "colormap = plt.get_cmap(\"viridis\")\n",
    "ax.plot_surface(xx, yy, u[0], cmap=colormap)\n",
    "\n",
    "ax.set_xlabel(\"x\", fontsize=12)\n",
    "ax.set_ylabel(\"y\", fontsize=12)\n",
    "ax.set_zlabel(\"u\", rotation=0, fontsize=16)\n",
    "ax.set_zlim([0, 1])\n",
    "\n",
    "ax.tick_params(axis=\"both\", which=\"major\", pad=-2.0)\n",
    "ax.view_init(azim=45)\n",
    "\n",
    "fig"
   ]
  },
  {
   "cell_type": "markdown",
   "metadata": {},
   "source": [
    "### Αριθμητική λύση της μερικής διαφορικής εξίσωσης\n",
    "\n",
    "$$\n",
    "\\begin{align*}\n",
    "& u_{i,j}^{n+1} = u_{i,j}^n - \\frac{k}{h_x}(u_{i,j}^n - u_{i-1,j}^n) - \\frac{k}{h_y}(u_{i,j}^n - u_{i,j-1}^n)\n",
    "\\end{align*}\n",
    "$$\n"
   ]
  },
  {
   "attachments": {},
   "cell_type": "markdown",
   "metadata": {},
   "source": [
    "### Εφαρμόστε την αριθμητική λύση για όλα τα χρονικά βήματα\n"
   ]
  },
  {
   "cell_type": "code",
   "execution_count": null,
   "metadata": {},
   "outputs": [],
   "source": []
  },
  {
   "attachments": {},
   "cell_type": "markdown",
   "metadata": {},
   "source": [
    "### Δημιουργήστε το τελικό 3-D Διάγραμμα\n",
    "\n",
    "Σχεδιάστε την τελική κατάσταση του κύματος σε τρισδιάστατη απεικόνιση.\n",
    "\n",
    "(Όχι animation)\n"
   ]
  },
  {
   "cell_type": "code",
   "execution_count": null,
   "metadata": {},
   "outputs": [],
   "source": []
  },
  {
   "attachments": {},
   "cell_type": "markdown",
   "metadata": {},
   "source": [
    "### Δημιουργήστε το 2-D Animation της λύσης\n",
    "\n",
    "- Συμπληρώστε τη συνάρτηση `animate`\n",
    "\n",
    "- Χρησιμοποιήστε σταθερό ελάχιστο και μέγιστο όριο (`vmin`, `vmax` στο `ax.imshow`)\n"
   ]
  },
  {
   "cell_type": "code",
   "execution_count": null,
   "metadata": {},
   "outputs": [],
   "source": [
    "fig, ax = plt.subplots()\n",
    "plt.close()\n",
    "\n",
    "# δημιουργία σταθερού colorbar\n",
    "img = ax.imshow(np.zeros((1,1)), vmin=0, vmax=0.5)\n",
    "fig.colorbar(img, ax=ax, fraction=0.025)\n",
    "\n",
    "def animate(i):\n",
    "    ax.clear()\n",
    "\n",
    "\n",
    "    # συμπλήρωστε εδώ\n",
    "    #----------------\n",
    "    #----------------\n",
    "    #----------------\n",
    "\n",
    "    \n",
    "\n",
    "    ax.set_title(f\"Time: {t[i]:.2f} seconds\", fontweight=\"bold\", loc=\"center\")\n",
    "\n",
    "ani = FuncAnimation(\n",
    "    fig=fig,\n",
    "    func=animate,\n",
    "    frames=Nt,\n",
    "    interval=15,\n",
    "    repeat=False,\n",
    ")\n",
    "plt.close()\n",
    "ani"
   ]
  }
 ],
 "metadata": {
  "kernelspec": {
   "display_name": "Python 3.10.4 ('research')",
   "language": "python",
   "name": "python3"
  },
  "language_info": {
   "codemirror_mode": {
    "name": "ipython",
    "version": 3
   },
   "file_extension": ".py",
   "mimetype": "text/x-python",
   "name": "python",
   "nbconvert_exporter": "python",
   "pygments_lexer": "ipython3",
   "version": "3.10.4 | packaged by conda-forge | (main, Mar 24 2022, 17:38:57) [GCC 10.3.0]"
  },
  "orig_nbformat": 4,
  "vscode": {
   "interpreter": {
    "hash": "a64397481a03d3e29229b26c41fe9bf23c6d382d2286036b124a8a7924579d21"
   }
  }
 },
 "nbformat": 4,
 "nbformat_minor": 2
}

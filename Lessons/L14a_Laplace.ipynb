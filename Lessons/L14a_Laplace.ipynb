{
 "cells": [
  {
   "attachments": {},
   "cell_type": "markdown",
   "metadata": {},
   "source": [
    "## Εξίσωση Laplace\n",
    "________"
   ]
  },
  {
   "cell_type": "code",
   "execution_count": null,
   "metadata": {},
   "outputs": [],
   "source": [
    "import numpy as np\n",
    "import matplotlib.pyplot as plt\n",
    "from matplotlib.animation import FuncAnimation\n",
    "\n",
    "\n",
    "plt.style.use(\"default\")\n",
    "plt.rcParams[\"figure.figsize\"] = [6, 4]  # [width_inches, height_inches]\n",
    "plt.rcParams[\"animation.html\"] = \"jshtml\""
   ]
  },
  {
   "attachments": {},
   "cell_type": "markdown",
   "metadata": {},
   "source": [
    "### Εξίσωση Laplace (2D)\n",
    "\n",
    "$$\n",
    "\\begin{equation*}\n",
    "\\frac{\\partial^2 u}{\\partial x^2} + \\frac{\\partial^2 u}{\\partial y^2} = 0\n",
    "\\end{equation*}\n",
    "$$\n",
    "\n",
    "Η εξίσωση Laplace περιγράφει στάσιμα (steady state) πεδία (βαθμωτά ή διανυσματικά).\n",
    "\n",
    "Ένα πεδίο είναι στάσιμο όταν δεν εξαρτάται από τον χρόνο αλλά μόνο από τις \\\n",
    "χωρικές μεταβλητές.\n",
    "\n",
    "Για παράδειγμα, στην περίπτωση της διάδοσης θερμότητας μετά το πέρας αρκετού \\\n",
    "χρόνου επέρχεται ισορροπία και η θερμοκρασιακή κατανομή γίνεται ανεξάρτητη \\\n",
    "της χρονικής μεταβλητής.\n",
    "\n",
    "Δηλαδή, η εξίσωση θερμότητας:\n",
    "\n",
    "$$\n",
    "\\begin{equation*}\n",
    "\\frac{\\partial T}{\\partial t} = \\frac{\\partial^2 T}{\\partial x^2} + \\frac{\\partial^2 T}{\\partial y^2}\n",
    "\\end{equation*}\n",
    "$$\n",
    "\n",
    "καταλήγει εν τέλει στην εξίσωση Laplace:\n",
    "\n",
    "$$\n",
    "\\begin{equation*}\n",
    "\\frac{\\partial^2 T}{\\partial x^2} + \\frac{\\partial^2 T}{\\partial y^2} = 0\n",
    "\\end{equation*}\n",
    "$$\n",
    "\n",
    "Η Laplace αποτελεί μια ελλειπτική μερική διαφορική εξίσωση.\n"
   ]
  },
  {
   "attachments": {},
   "cell_type": "markdown",
   "metadata": {},
   "source": [
    "### Εφαρμογή εξίσωσης Laplace\n",
    "\n",
    "$0 \\leq x \\leq 2, \\quad 0 \\leq y \\leq 2$\n",
    "\n",
    "Οριακές συνθήκες:\n",
    "\n",
    "- $u = 0  \\;$ για $\\; x=0$\n",
    "\n",
    "- $u = y  \\;$ για $\\; x=2$\n",
    "\n",
    "- $u = 0  \\;$ για $\\; y=0$\n",
    "\n",
    "- $u = 0  \\;$ για $\\; y=2$\n",
    "\n",
    "- $\\frac{\\partial u}{\\partial y} = 0 \\;$ για $\\; y=0$\n",
    "\n",
    "- $\\frac{\\partial u}{\\partial y} = 0 \\;$ για $\\; y=2$\n",
    "\n",
    "\n",
    "Αρχική συνθήκη:\n",
    "\n",
    "- $u(x, y) = 0\\;$ για $\\;0 < x < 2\\;$ και $\\;0 < y < 2$ "
   ]
  },
  {
   "attachments": {},
   "cell_type": "markdown",
   "metadata": {},
   "source": [
    "### Διακριτοποίηση αξόνων\n",
    "\n",
    "- $ \\delta x = h_x = 0.1$\n",
    "\n",
    "- $ \\delta y = h_y = 0.05$"
   ]
  },
  {
   "attachments": {},
   "cell_type": "markdown",
   "metadata": {},
   "source": [
    "### Αριθμητική μέθοδος επίλυσης\n",
    "\n",
    "Centered-difference ως προς τα $x$ και $y$."
   ]
  },
  {
   "attachments": {},
   "cell_type": "markdown",
   "metadata": {},
   "source": [
    "$$\n",
    "\\begin{equation*}\n",
    "u_{i,j} = \\frac{h_x^2(u_{i,j-1} + u_{i,j+1}) + h_y^2(u_{i-1,j}+u_{i+1,j})}{2(h_x^2 + h_y^2)}\n",
    "\\end{equation*}\n",
    "$$"
   ]
  },
  {
   "attachments": {},
   "cell_type": "markdown",
   "metadata": {},
   "source": [
    "Παρατηρούμε ότι ενώ προηγουμένως στην εξίσωση θερμότητας η λύση σε ένα \\\n",
    "σημείο προσδιοριζόταν από την προηγούμενη χρονική στιγμή, στην εξίσωση Laplace \\\n",
    "προσδιορίζεται άμεσα από τα τέσσερα γειτονικά σημεία.\n"
   ]
  },
  {
   "attachments": {},
   "cell_type": "markdown",
   "metadata": {},
   "source": [
    "Η εξίσωση Laplace επιλύεται εφαρμόζοντας επαναληπτικά τη σχέση έως \\\n",
    "ότου το νέο $u_{i, j}$ διαφέρει από το προηγούμενο κατά τιμή μικρότερη από ένα \\\n",
    "προκαθορισμένο όριο ([μέθοδος Gauss-Seidel](https://en.wikipedia.org/wiki/Gauss%E2%80%93Seidel_method))."
   ]
  },
  {
   "attachments": {},
   "cell_type": "markdown",
   "metadata": {},
   "source": [
    "### Επανάληψη: while loop"
   ]
  },
  {
   "cell_type": "code",
   "execution_count": null,
   "metadata": {},
   "outputs": [],
   "source": [
    "i = 1\n",
    "\n",
    "while i < 5:\n",
    "    print(i * i)\n",
    "    i = i + 1"
   ]
  },
  {
   "attachments": {},
   "cell_type": "markdown",
   "metadata": {},
   "source": [
    "#### Άσκηση:\n",
    "\n",
    "Ξεκινώντας με τον αριθμό 10, αφαιρέστε διαδοχικά το 1 έως ότου ο αριθμός να \\\n",
    "γίνει μικρότερος του 4.\n",
    "\n",
    "Χρησιμοποιήστε τη δομή επανάληψης `while`.\n",
    "\n",
    "Αποτυπώστε τους ενδιάμεσους αριθμούς χρησιμοποιώντας τη συνάρτηση `print`."
   ]
  },
  {
   "cell_type": "code",
   "execution_count": null,
   "metadata": {},
   "outputs": [],
   "source": []
  },
  {
   "attachments": {},
   "cell_type": "markdown",
   "metadata": {},
   "source": [
    "### Επανάληψη: Ορισμός συνάρτησης\n",
    "\n",
    "\n",
    "Γενική σύνταξη:\n",
    "\n",
    "    def function_name(parameter1, parameter2, ...):\n",
    "        statements\n",
    "        ...\n",
    "        return return_value"
   ]
  },
  {
   "cell_type": "code",
   "execution_count": null,
   "metadata": {},
   "outputs": [],
   "source": [
    "def add_two_numbers(a, b):\n",
    "    c = a + b\n",
    "    return c\n"
   ]
  },
  {
   "cell_type": "code",
   "execution_count": null,
   "metadata": {},
   "outputs": [],
   "source": [
    "x = add_two_numbers(a=3, b=4)  # τα 3, 4 είναι τα arguments της συνάρτησης \n",
    "x\n"
   ]
  },
  {
   "attachments": {},
   "cell_type": "markdown",
   "metadata": {},
   "source": [
    "#### Άσκηση:\n",
    "\n",
    "Δημιουργήστε μια συνάρτηση η οποία θα προσθέτει τις απόλυτες τιμές δύο αριθμών."
   ]
  },
  {
   "cell_type": "code",
   "execution_count": null,
   "metadata": {},
   "outputs": [],
   "source": []
  },
  {
   "attachments": {},
   "cell_type": "markdown",
   "metadata": {},
   "source": [
    "### Δημιουργήστε τον x-άξονα\n",
    "\n",
    "$0 \\leq x \\leq 2$\n",
    "\n",
    "$\\delta x = h_x = 0.1$\n",
    "\n",
    "Χρησιμοποιήστε τη συνάρτηση `np.linspace`.\n"
   ]
  },
  {
   "cell_type": "code",
   "execution_count": null,
   "metadata": {},
   "outputs": [],
   "source": []
  },
  {
   "attachments": {},
   "cell_type": "markdown",
   "metadata": {},
   "source": [
    "### Δημιουργήστε τον y-άξονα\n",
    "\n",
    "$0 \\leq y \\leq 2$\n",
    "\n",
    "$\\delta y = h_y = 0.05$\n",
    "\n",
    "Χρησιμοποιήστε τη συνάρτηση `np.linspace`.\n",
    "\n"
   ]
  },
  {
   "cell_type": "code",
   "execution_count": null,
   "metadata": {},
   "outputs": [],
   "source": []
  },
  {
   "attachments": {},
   "cell_type": "markdown",
   "metadata": {},
   "source": [
    "### Δημιουργήστε έναν κενό 2-D πίνακα `u` για την αριθμητική λύση\n",
    "\n",
    "Χρησιμοποιήστε τη συνάρτηση `np.full` και τη σταθερή τιμή `np.nan`.\n",
    "\n",
    "Διερευνήστε τις διαστάσεις του πίνακα.\n"
   ]
  },
  {
   "cell_type": "code",
   "execution_count": null,
   "metadata": {},
   "outputs": [],
   "source": []
  },
  {
   "attachments": {},
   "cell_type": "markdown",
   "metadata": {},
   "source": [
    "### Δημιουργήστε το πλέγμα του προβλήματος\n",
    "\n",
    "\n",
    "Χρησιμοποιήστε τους δύο άξονες (x, y) και τη συνάρτηση `np.meshgrid`\n",
    "\n",
    "Να θέσετε την παράμετρο `indexing` του `np.meshgrid` ίση με `\"ij\"` έτσι ώστε να \\\n",
    "τοποθετηθούν με σωστή σειρά οι $x$ και $y$ άξονες.\n"
   ]
  },
  {
   "cell_type": "code",
   "execution_count": null,
   "metadata": {},
   "outputs": [],
   "source": []
  },
  {
   "attachments": {},
   "cell_type": "markdown",
   "metadata": {},
   "source": [
    "### Οριακές συνθήκες\n",
    "\n",
    "- $u = 0  \\;$ για $\\; y=0$\n",
    "\n",
    "- $u = 0  \\;$ για $\\; y=2$\n",
    "\n",
    "- $u = 0  \\;$ για $\\; x=0$\n",
    "\n",
    "- $u = y  \\;$ για $\\; x=2$"
   ]
  },
  {
   "attachments": {},
   "cell_type": "markdown",
   "metadata": {},
   "source": [
    "#### Εισάγετε τις οριακές συνθήκες στον πίνακα `u`.\n",
    "\n",
    "Χρησιμοποίηστε τέσσερις διαδοχικές εντολές, επιλέγοντας τις κατάλληλες \\\n",
    "γραμμές/στήλες κάθε φορά.\n"
   ]
  },
  {
   "cell_type": "code",
   "execution_count": null,
   "metadata": {},
   "outputs": [],
   "source": []
  },
  {
   "attachments": {},
   "cell_type": "markdown",
   "metadata": {},
   "source": [
    "### Αρχική συνθήκη\n",
    "\n",
    "$u(x, y) = 0\\;$ για $\\;0 < x < 2\\;$ και $\\;0 < y < 2$ \n"
   ]
  },
  {
   "attachments": {},
   "cell_type": "markdown",
   "metadata": {},
   "source": [
    "#### Εισάγετε την αρχική συνθήκη στον πίνακα `u`.\n"
   ]
  },
  {
   "cell_type": "code",
   "execution_count": null,
   "metadata": {},
   "outputs": [],
   "source": []
  },
  {
   "attachments": {},
   "cell_type": "markdown",
   "metadata": {},
   "source": [
    "### 2-D Διάγραμμα\n",
    "\n",
    "### Σχεδιάστε την επιφάνεια στην αρχική της κατάσταση\n",
    "\n",
    "Προσέξτε ότι δεν υπάρχει μεταβλητή χρόνου.\n",
    "\n",
    "Δημιουργήστε την απεικόνιση μέσω της μεθόδου `ax.imshow`.\n",
    "\n",
    "Χρησιμοποιήστε τον ανάστροφο του πίνακα για να είναι ο x-άξονας οριζόντιος.\n",
    "\n"
   ]
  },
  {
   "cell_type": "code",
   "execution_count": null,
   "metadata": {},
   "outputs": [],
   "source": []
  },
  {
   "attachments": {},
   "cell_type": "markdown",
   "metadata": {},
   "source": [
    "### 3-D Διάγραμμα\n",
    "\n",
    "Η αρχική κατάσταση της επιφάνειας σε τρισδιάστατη απεικόνιση.\n"
   ]
  },
  {
   "cell_type": "code",
   "execution_count": null,
   "metadata": {},
   "outputs": [],
   "source": [
    "fig = plt.figure()\n",
    "ax = plt.axes(projection=\"3d\")\n",
    "plt.close()\n",
    "\n",
    "colormap = plt.get_cmap(\"viridis\")\n",
    "ax.plot_surface(xx, yy, u, cmap=colormap)\n",
    "ax.set_xlabel(\"x\", fontsize=12)\n",
    "ax.set_ylabel(\"y\", fontsize=12)\n",
    "ax.set_zlabel(\"u\", rotation=0, fontsize=16)\n",
    "\n",
    "ax.tick_params(axis=\"both\", which=\"major\", pad=-3.0)\n",
    "ax.view_init(azim=245)\n",
    "\n",
    "fig"
   ]
  },
  {
   "attachments": {},
   "cell_type": "markdown",
   "metadata": {},
   "source": [
    "Για την αξιολόγηση της επίτευξης του steady state θα υπολογίζεται κάθε φορά \\\n",
    "η διαφορά του $u$ μεταξύ δύο διαδοχικών επαναλήψεων.\n",
    "\n",
    "Για τον υπολογισμό της διαφοράς θα χρησιμοποιηθεί η κανονικοποιημένη \\\n",
    "ευκλείδια μετρική (L2 norm):\n",
    "\n",
    "\n",
    "\n",
    "$$\n",
    "\\begin{equation*}\n",
    "d_2(u, u^{previous}) = \\frac{\\sqrt{\\sum_{i, j}\\left(\\left(u_{i,j} - u^{previous}_{i,j}\\right)^2\\right)}}{\\sqrt{\\sum_{i, j} \\left (\\left (u^{previous}_{i,j}\\right)^2\\right)}}\n",
    "\\end{equation*}\n",
    "$$\n",
    "\n",
    "Αυτή η διαφορά θα πρέπει να γίνει μικρότερη από ένα προκαθορισμένο όριο (πχ. $10^{-7}$), \\\n",
    "το οποίο και θα αποτελεί το κριτήριο επίτευξης steady state.\n"
   ]
  },
  {
   "attachments": {},
   "cell_type": "markdown",
   "metadata": {},
   "source": [
    "### Δημιουργήστε μια συνάρτηση για την L2 norm"
   ]
  },
  {
   "cell_type": "code",
   "execution_count": null,
   "metadata": {},
   "outputs": [],
   "source": []
  },
  {
   "attachments": {},
   "cell_type": "markdown",
   "metadata": {},
   "source": [
    "### Δημιουργήστε μια μεταβλητή για το κρίτηριο επίτευξης steady state"
   ]
  },
  {
   "cell_type": "code",
   "execution_count": null,
   "metadata": {},
   "outputs": [],
   "source": []
  },
  {
   "attachments": {},
   "cell_type": "markdown",
   "metadata": {},
   "source": [
    "### Αριθμητική λύση\n",
    "\n",
    "$$\n",
    "\\begin{equation*}\n",
    "u_{i,j} = \\frac{h_x^2(u_{i,j-1} + u_{i,j+1}) + h_y^2(u_{i-1,j}+u_{i+1,j})}{2(h_x^2 + h_y^2)}\n",
    "\\end{equation*}\n",
    "$$\n",
    "\n",
    "Οριακές συνθήκες:\n",
    "\n",
    "$$\n",
    "\\begin{equation*}\n",
    "\\left. \\frac{\\partial u}{\\partial y} \\right|_{y=0} = 0, \\qquad \\left. \\frac{\\partial u}{\\partial y} \\right|_{y=2} = 0\n",
    "\\end{equation*}\n",
    "$$\n",
    "\n",
    "Εφαρμόστε επαναληπτικά την αριθμητική λύση μέχρι η τιμή του L2 norm να γίνει \\\n",
    "μικρότερη από την τιμή του προκαθορισμένου ορίου.\n",
    "\n",
    "Για την ενσωμάτωση των οριακών συνθηκών χρησιμοποιήστε:\n",
    " \n",
    " - forward-difference για $\\;y=0$\n",
    " - backward-difference για $\\;y=2$\n",
    "\n",
    "\n",
    "Χρησιμοποιήστε τη δομή επανάληψης `while`.\n",
    "\n",
    "Υποθέτουμε ότι η αρχική τιμή της L2 norm είναι ίση με 1.\n",
    "\n",
    "Θα πρέπει σε κατάλληλο σημείο να θέσετε `u_prev = u.copy()`"
   ]
  },
  {
   "cell_type": "code",
   "execution_count": null,
   "metadata": {},
   "outputs": [],
   "source": [
    "diff = 1"
   ]
  },
  {
   "attachments": {},
   "cell_type": "markdown",
   "metadata": {},
   "source": [
    "### Δημιουργήστε το τελικό 2-D διάγραμμα"
   ]
  },
  {
   "cell_type": "code",
   "execution_count": null,
   "metadata": {},
   "outputs": [],
   "source": []
  },
  {
   "attachments": {},
   "cell_type": "markdown",
   "metadata": {},
   "source": [
    "### Δημιουργήστε το τελικό 3-D διάγραμμα"
   ]
  },
  {
   "cell_type": "code",
   "execution_count": null,
   "metadata": {},
   "outputs": [],
   "source": []
  }
 ],
 "metadata": {
  "kernelspec": {
   "display_name": "research",
   "language": "python",
   "name": "python3"
  },
  "language_info": {
   "codemirror_mode": {
    "name": "ipython",
    "version": 3
   },
   "file_extension": ".py",
   "mimetype": "text/x-python",
   "name": "python",
   "nbconvert_exporter": "python",
   "pygments_lexer": "ipython3",
   "version": "3.10.4 | packaged by conda-forge | (main, Mar 24 2022, 17:38:57) [GCC 10.3.0]"
  },
  "orig_nbformat": 4,
  "vscode": {
   "interpreter": {
    "hash": "a64397481a03d3e29229b26c41fe9bf23c6d382d2286036b124a8a7924579d21"
   }
  }
 },
 "nbformat": 4,
 "nbformat_minor": 2
}

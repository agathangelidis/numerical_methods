{
 "cells": [
  {
   "attachments": {},
   "cell_type": "markdown",
   "metadata": {},
   "source": [
    "## Εξίσωση Poisson\n",
    "________"
   ]
  },
  {
   "cell_type": "code",
   "execution_count": null,
   "metadata": {},
   "outputs": [],
   "source": [
    "import numpy as np\n",
    "import matplotlib.pyplot as plt\n",
    "from matplotlib.animation import FuncAnimation\n",
    "\n",
    "\n",
    "plt.style.use(\"default\")\n",
    "plt.rcParams[\"figure.figsize\"] = [6, 4]  # [width_inches, height_inches]\n",
    "plt.rcParams[\"animation.html\"] = \"jshtml\""
   ]
  },
  {
   "attachments": {},
   "cell_type": "markdown",
   "metadata": {},
   "source": [
    "### Εξίσωση Poisson\n",
    "\n",
    "$$\n",
    "\\begin{equation*}\n",
    "\\frac{\\partial^2 u}{\\partial x^2} + \\frac{\\partial^2 u}{\\partial y^2} = b(x, y)\n",
    "\\end{equation*}\n",
    "$$\n",
    "\n",
    "Η εξίσωση Poisson είναι η γενίκευση της εξίσωσης Laplace παρουσία πηγών."
   ]
  },
  {
   "attachments": {},
   "cell_type": "markdown",
   "metadata": {},
   "source": [
    "### Εφαρμογή εξίσωσης Poisson\n",
    "\n",
    "$0 \\leq x \\leq 1, \\quad -0.5 \\leq y \\leq 0.5$\n",
    "\n",
    "Οριακές συνθήκες:\n",
    "\n",
    "- $u = 0  \\;$ για $\\; x=0$\n",
    "\n",
    "- $u = 0  \\;$ για $\\; x=1$\n",
    "\n",
    "- $u = 0  \\;$ για $\\; y=-0.5$\n",
    "\n",
    "- $u = 0  \\;$ για $\\; y=0.5$\n",
    "\n",
    "Αρχική συνθήκη:\n",
    "\n",
    "- $u(x, y) = 0\\;$ για $\\;0 < x < 1\\;$ και $\\;-0.5 < y < 0.5$\n",
    "\n",
    "Πηγές:\n",
    "- $b = -2\\pi ^2\\sin\\left( \\pi x \\right) \\cos\\left(\\pi y \\right)$"
   ]
  },
  {
   "attachments": {},
   "cell_type": "markdown",
   "metadata": {},
   "source": [
    "### Διακριτοποίηση αξόνων\n",
    "\n",
    "- $ \\delta x = h_x = 0.025$\n",
    "\n",
    "- $ \\delta y = h_y = 0.025$"
   ]
  },
  {
   "attachments": {},
   "cell_type": "markdown",
   "metadata": {},
   "source": [
    "### Αριθμητική μέθοδος επίλυσης\n",
    "\n",
    "Centered-difference ως προς τα $x$ και $y$."
   ]
  },
  {
   "attachments": {},
   "cell_type": "markdown",
   "metadata": {},
   "source": [
    "$$\n",
    "\\begin{equation*}\n",
    "u_{i,j} = \\frac{h_x^2(u_{i,j-1} + u_{i,j+1}) + h_y^2(u_{i-1,j}+u_{i+1,j}) -h_x^2h_y^2b_{i,j}}{2(h_x^2 + h_y^2)}\n",
    "\\end{equation*}\n",
    "$$"
   ]
  },
  {
   "attachments": {},
   "cell_type": "markdown",
   "metadata": {},
   "source": [
    "### Δημιουργήστε τον x-άξονα\n",
    "\n",
    "$0 \\leq x \\leq 1$\n",
    "\n",
    "$\\delta x = h_x = 0.025$\n",
    "\n",
    "Χρησιμοποιήστε τη συνάρτηση `np.linspace`.\n"
   ]
  },
  {
   "cell_type": "code",
   "execution_count": null,
   "metadata": {},
   "outputs": [],
   "source": []
  },
  {
   "attachments": {},
   "cell_type": "markdown",
   "metadata": {},
   "source": [
    "### Δημιουργήστε τον y-άξονα\n",
    "\n",
    "$-0.5 \\leq y \\leq 0.5$\n",
    "\n",
    "$\\delta y = h_y = 0.025$\n",
    "\n",
    "Χρησιμοποιήστε τη συνάρτηση `np.linspace`.\n",
    "\n"
   ]
  },
  {
   "cell_type": "code",
   "execution_count": null,
   "metadata": {},
   "outputs": [],
   "source": []
  },
  {
   "attachments": {},
   "cell_type": "markdown",
   "metadata": {},
   "source": [
    "### Δημιουργήστε έναν κενό 2-D πίνακα `u` για την αριθμητική λύση\n",
    "\n",
    "Χρησιμοποιήστε τη συνάρτηση `np.full` και τη σταθερή τιμή `np.nan`.\n"
   ]
  },
  {
   "cell_type": "code",
   "execution_count": null,
   "metadata": {},
   "outputs": [],
   "source": []
  },
  {
   "attachments": {},
   "cell_type": "markdown",
   "metadata": {},
   "source": [
    "### Δημιουργήστε το πλέγμα του προβλήματος\n",
    "\n",
    "\n",
    "Χρησιμοποιήστε τους δύο άξονες (x, y) και τη συνάρτηση `np.meshgrid`\n",
    "\n",
    "Να θέσετε την παράμετρο `indexing` του `np.meshgrid` ίση με `\"ij\"` έτσι ώστε να \\\n",
    "τοποθετηθούν με σωστή σειρά οι $x$ και $y$ άξονες.\n"
   ]
  },
  {
   "cell_type": "code",
   "execution_count": null,
   "metadata": {},
   "outputs": [],
   "source": []
  },
  {
   "attachments": {},
   "cell_type": "markdown",
   "metadata": {},
   "source": [
    "### Υπολογίστε τον όρο $b$ στο πλέγμα\n",
    "\n",
    "$$\n",
    "\\begin{equation*}\n",
    "b = -2\\pi ^2\\sin\\left( \\pi x \\right) \\cos\\left(\\pi y \\right)\n",
    "\\end{equation*}\n",
    "$$\n",
    "\n",
    "Χρησιμοποίηστε τις νέες μεταβλητές `xx` και `yy`.\n"
   ]
  },
  {
   "cell_type": "code",
   "execution_count": null,
   "metadata": {},
   "outputs": [],
   "source": []
  },
  {
   "attachments": {},
   "cell_type": "markdown",
   "metadata": {},
   "source": [
    "### Οριακές συνθήκες\n",
    "\n",
    "- $u = 0  \\;$ για $\\; x=0$\n",
    "\n",
    "- $u = 0  \\;$ για $\\; x=1$\n",
    "\n",
    "- $u = 0  \\;$ για $\\; y=-0.5$\n",
    "\n",
    "- $u = 0  \\;$ για $\\; y=0.5$"
   ]
  },
  {
   "attachments": {},
   "cell_type": "markdown",
   "metadata": {},
   "source": [
    "#### Εισάγετε τις οριακές συνθήκες στον πίνακα `u`.\n",
    "\n",
    "Χρησιμοποίηστε τέσσερις διαδοχικές εντολές, επιλέγοντας τις κατάλληλες \\\n",
    "γραμμές/στήλες κάθε φορά.\n"
   ]
  },
  {
   "cell_type": "code",
   "execution_count": null,
   "metadata": {},
   "outputs": [],
   "source": []
  },
  {
   "attachments": {},
   "cell_type": "markdown",
   "metadata": {},
   "source": [
    "### Αρχική συνθήκη\n",
    "\n",
    "$u(x, y) = 0\\;$ για $\\;0 < x < 1\\;$ και $\\;-0.5 < y < 0.5$ \n"
   ]
  },
  {
   "attachments": {},
   "cell_type": "markdown",
   "metadata": {},
   "source": [
    "#### Εισάγετε την αρχική συνθήκη στον πίνακα `u`.\n",
    "\n"
   ]
  },
  {
   "cell_type": "code",
   "execution_count": null,
   "metadata": {},
   "outputs": [],
   "source": []
  },
  {
   "attachments": {},
   "cell_type": "markdown",
   "metadata": {},
   "source": [
    "### 2-D Διάγραμμα\n",
    "\n",
    "### Σχεδιάστε την επιφάνεια στην αρχική της κατάσταση\n",
    "\n",
    "Δημιουργήστε την απεικόνιση μέσω της μεθόδου `ax.imshow`.\n",
    "\n",
    "Χρησιμοποιήστε τον ανάστροφο του πίνακα για να είναι ο x-άξονας οριζόντιος.\n",
    "\n"
   ]
  },
  {
   "cell_type": "code",
   "execution_count": null,
   "metadata": {},
   "outputs": [],
   "source": []
  },
  {
   "attachments": {},
   "cell_type": "markdown",
   "metadata": {},
   "source": [
    "### Δημιουργήστε μια συνάρτηση για την L2 norm\n",
    "\n",
    "$$\n",
    "\\begin{equation*}\n",
    "d_2(u, u^{previous}) = \\frac{\\sqrt{\\sum_{i, j}\\left(\\left(u_{i,j} - u^{previous}_{i,j}\\right)^2\\right)}}{\\sqrt{\\sum_{i, j} \\left (\\left (u^{previous}_{i,j}\\right)^2\\right)}}\n",
    "\\end{equation*}\n",
    "$$\n",
    "\n",
    "Ονομάστε τη συνάρτηση `l2_norm` και χρησιμοποιήστε τις συναρτήσεις:\n",
    "\n",
    "- `np.sqrt`\n",
    "- `np.sum`"
   ]
  },
  {
   "cell_type": "code",
   "execution_count": null,
   "metadata": {},
   "outputs": [],
   "source": []
  },
  {
   "attachments": {},
   "cell_type": "markdown",
   "metadata": {},
   "source": [
    "### Δημιουργία μεταβλητής για το κρίτηριο επίτευξης steady state"
   ]
  },
  {
   "cell_type": "code",
   "execution_count": null,
   "metadata": {},
   "outputs": [],
   "source": [
    "thres = 10**(-7)"
   ]
  },
  {
   "attachments": {},
   "cell_type": "markdown",
   "metadata": {},
   "source": [
    "### Αριθμητική λύση\n",
    "\n",
    "$$\n",
    "\\begin{equation*}\n",
    "u_{i,j} = \\frac{h_x^2(u_{i,j-1} + u_{i,j+1}) + h_y^2(u_{i-1,j}+u_{i+1,j}) -h_x^2h_y^2b_{i,j}}{2(h_x^2 + h_y^2)}\n",
    "\\end{equation*}\n",
    "$$\n",
    "\n",
    "Συμπληρώστε το while loop έτσι ώστε να εφαρμοστεί επαναληπτικά η αριθμητική λύση\n",
    "\n",
    "\n",
    "Προσέξτε τα εξής:\n",
    "\n",
    "- Σε κάθε επανάληψη υπολογίζουμε τη διαφορά του `u` με το προηγούμενό του (`u_prev`).\n",
    "\n",
    "- Για την παραπάνω διαφορά χρησιμοποιούμε την L2 norm (συνάρτηση `l2_norm`).\n",
    "\n",
    "- Ονομάζουμε `diff` το output της συνάρτησης `l2_norm`.\n",
    "\n",
    "- Υποθέτουμε ότι η αρχική τιμή της L2 norm είναι ίση με 1 (δηλ. `diff = 1`).\n",
    "\n",
    "- Αν το `diff` γίνει μικρότερο ή ίσο του `thres` το while loop πρέπει να σταματά.\n"
   ]
  },
  {
   "cell_type": "code",
   "execution_count": null,
   "metadata": {},
   "outputs": [],
   "source": [
    "diff = 1\n",
    "# while συμπληρώστε εδώ:\n",
    "    u_prev = u.copy()\n",
    "    # συμπληρώστε εδώ\n",
    "    diff = l2_norm(u, u_prev)"
   ]
  },
  {
   "attachments": {},
   "cell_type": "markdown",
   "metadata": {},
   "source": [
    "### Δημιουργήστε το τελικό 2-D διάγραμμα"
   ]
  },
  {
   "cell_type": "code",
   "execution_count": null,
   "metadata": {},
   "outputs": [],
   "source": []
  },
  {
   "attachments": {},
   "cell_type": "markdown",
   "metadata": {},
   "source": [
    "### Δημιουργήστε το τελικό 3-D διάγραμμα"
   ]
  },
  {
   "cell_type": "code",
   "execution_count": null,
   "metadata": {},
   "outputs": [],
   "source": []
  }
 ],
 "metadata": {
  "kernelspec": {
   "display_name": "research",
   "language": "python",
   "name": "python3"
  },
  "language_info": {
   "codemirror_mode": {
    "name": "ipython",
    "version": 3
   },
   "file_extension": ".py",
   "mimetype": "text/x-python",
   "name": "python",
   "nbconvert_exporter": "python",
   "pygments_lexer": "ipython3",
   "version": "3.10.4 | packaged by conda-forge | (main, Mar 24 2022, 17:38:57) [GCC 10.3.0]"
  },
  "orig_nbformat": 4,
  "vscode": {
   "interpreter": {
    "hash": "a64397481a03d3e29229b26c41fe9bf23c6d382d2286036b124a8a7924579d21"
   }
  }
 },
 "nbformat": 4,
 "nbformat_minor": 2
}

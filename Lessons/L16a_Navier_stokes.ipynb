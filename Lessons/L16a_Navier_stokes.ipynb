{
 "cells": [
  {
   "attachments": {},
   "cell_type": "markdown",
   "metadata": {},
   "source": [
    "## Εξισώσεις Navier-Stokes\n",
    "\n",
    "### Ροή σε κοιλότητα (cavity flow)\n",
    "________\n"
   ]
  },
  {
   "cell_type": "code",
   "execution_count": null,
   "metadata": {},
   "outputs": [],
   "source": [
    "import numpy as np\n",
    "import matplotlib.pyplot as plt\n",
    "from matplotlib.animation import FuncAnimation\n",
    "\n",
    "plt.style.use(\"default\")\n",
    "plt.rcParams[\"figure.figsize\"] = [5, 4]  # [width_inches, height_inches]\n",
    "plt.rcParams[\"animation.html\"] = \"jshtml\"\n"
   ]
  },
  {
   "attachments": {},
   "cell_type": "markdown",
   "metadata": {},
   "source": [
    "<img src=\"https://raw.githubusercontent.com/daniel-koehn/Differential-equations-earth-system/dcd34545fdb8fdaeb2b54a79c378d11feff0d72d/09_Navier_Stokes_2D/images/drivencavity.svg\" width=\"325\" style=\"background-color:white;\">"
   ]
  },
  {
   "attachments": {},
   "cell_type": "markdown",
   "metadata": {},
   "source": [
    "### Εξισώσεις Navier-Stokes για ασυμπίεστο ρευστό\n",
    "\n",
    "$$\\frac{\\partial \\vec{u}}{\\partial t}+(\\vec{u}\\cdot\\nabla)\\vec{u}=-\\frac{1}{\\rho}\\nabla p + A_H\\nabla^2\\vec{u}$$\n",
    "\n",
    "Στις 2 διαστάσεις οι εξισώσεις γράφονται:\n",
    "\n",
    "\\begin{equation*}\n",
    "\\frac{\\partial u}{\\partial t}+u\\frac{\\partial u}{\\partial x}+v\\frac{\\partial u}{\\partial y} = -\\frac{1}{\\rho}\\frac{\\partial p}{\\partial x}+A_H\\frac{\\partial^2 u}{\\partial x^2}+A_H\\frac{\\partial^2 u}{\\partial y^2}\n",
    "\\end{equation*}\n",
    "\n",
    "\\begin{equation*}\n",
    "\\frac{\\partial v}{\\partial t}+u\\frac{\\partial v}{\\partial x}+v\\frac{\\partial v}{\\partial y} = -\\frac{1}{\\rho}\\frac{\\partial p}{\\partial y}+A_H\\frac{\\partial^2 v}{\\partial x^2}+A_H\\frac{\\partial^2 v}{\\partial y^2}\n",
    "\\end{equation*}\n"
   ]
  },
  {
   "attachments": {},
   "cell_type": "markdown",
   "metadata": {},
   "source": [
    "### Εξίσωση Poisson για την πίεση\n",
    "\n",
    "$$\n",
    "\\begin{equation*}\n",
    "\\frac{\\partial^2 p}{\\partial x^2}+\\frac{\\partial^2 p}{\\partial y^2} = \\rho\\left[\\frac{1}{k}\\right(\\frac{\\partial u}{\\partial x} + \\frac{\\partial v}{\\partial y}\\left) -\\frac{\\partial u}{\\partial x}\\frac{\\partial u}{\\partial x}-2\\frac{\\partial u}{\\partial y}\\frac{\\partial v}{\\partial x}-\\frac{\\partial v}{\\partial y}\\frac{\\partial v}{\\partial y} \\right]\n",
    "\\end{equation*}\n",
    "$$\n",
    "\n",
    "[Απόδειξη εξίσωσης](http://www.thevisualroom.com/poisson_for_pressure.html)\n",
    "\n",
    "Παρότι θεωρούμε ότι το ρευστό είναι ασυμπίεστο, λόγω αριθμητικών σφαλμάτων \\\n",
    "κατά την αριθμητική λύση ισχύει:\n",
    "\n",
    "$$\\frac{\\partial u}{\\partial x} + \\frac{\\partial v}{\\partial y} \\neq 0$$\n",
    "\n",
    "επομένως ο παραπάνω όρος διατηρείται στην εξίσωση Poisson για την πίεση.\n"
   ]
  },
  {
   "attachments": {},
   "cell_type": "markdown",
   "metadata": {},
   "source": [
    "### Αριθμητική λύση για τις εξισώσεις Navier-Stokes\n",
    "\n",
    "- Forward-difference για τη χρονική παράγωγο\n",
    "\n",
    "- Backward-difference για τη χωρική παράγωγο των όρων μεταφοράς (advection)\n",
    "\n",
    "- Centered-difference για τις υπόλοιπες χωρικές παραγώγους"
   ]
  },
  {
   "attachments": {},
   "cell_type": "markdown",
   "metadata": {},
   "source": [
    "$$\n",
    "\\small\n",
    "\\begin{split}\n",
    "u_{i,j}^{n+1} = & \\; u_{i,j}^{n} - u_{i,j}^{n} \\frac{k}{h_x} \\left(u_{i,j}^{n}-u_{i-1,j}^{n}\\right) - v_{i,j}^{n} \\frac{k}{h_y} \\left(u_{i,j}^{n}-u_{i,j-1}^{n}\\right) \n",
    " - \\frac{k}{\\rho 2h_x} \\left(p_{i+1,j}^{n}-p_{i-1,j}^{n}\\right) \\\\ \n",
    " &+ A_H\\frac{k}{h_x^2} \\left(u_{i-1,j}^{n}-2u_{i,j}^{n}+u_{i+1,j}^{n}\\right) + A_H\\frac{k}{h_y^2} \\left(u_{i,j-1}^{n}-2u_{i,j}^{n}+u_{i,j+1}^{n}\\right)\n",
    "\\end{split}\n",
    "$$"
   ]
  },
  {
   "attachments": {},
   "cell_type": "markdown",
   "metadata": {},
   "source": [
    "$$\n",
    "\\small\n",
    "\\begin{split}\n",
    "v_{i,j}^{n+1} = & \\; v_{i,j}^{n} - u_{i,j}^{n} \\frac{k}{h_x} \\left(v_{i,j}^{n}-v_{i-1,j}^{n}\\right) - v_{i,j}^{n} \\frac{k}{h_y} \\left(v_{i,j}^{n}-v_{i,j-1}^{n}\\right) \n",
    " - \\frac{k}{\\rho 2h_y} \\left(p_{i,j+1}^{n}-p_{i,j-1}^{n}\\right) \\\\\n",
    " &+ A_H\\frac{k}{h_x^2} \\left(v_{i-1,j}^{n}-2v_{i,j}^{n}+v_{i+1,j}^{n}\\right) + A_H\\frac{k}{h_y^2} \\left(v_{i,j-1}^{n}-2v_{i,j}^{n}+v_{i,j+1}^{n}\\right)\n",
    "\\end{split}\n",
    "$$"
   ]
  },
  {
   "attachments": {},
   "cell_type": "markdown",
   "metadata": {},
   "source": [
    "### Αριθμητική λύση για την εξίσωση Poisson (πίεση)\n",
    "\n",
    "- Centered-difference για όλες τις χωρικές παραγώγους"
   ]
  },
  {
   "attachments": {},
   "cell_type": "markdown",
   "metadata": {},
   "source": [
    "$$\n",
    "\\small\n",
    "\\begin{split}\n",
    "\\frac{p_{i-1,j} - 2p_{i,j} + p_{i+1,j}}{h^2_x} + \\frac{p_{i,j-1} - 2p_{i,j} + p_{i,j+1}}{h^2_y} = \\rho \\Big[ \n",
    "& \\frac{1}{k}\\Big(\\frac{u_{i+1,j} - u_{i-1,j}}{2h_x} + \\frac{v_{i,j+1}-v_{i,j-1}}{2h_y} \\Big) \\\\\n",
    "& -\\frac{u_{i+1,j}-u_{i-1,j}}{2h_x} \\cdot \\frac{u_{i+1,j}-u_{i-1,j}}{2h_x} \\\\\n",
    "& -2\\frac{u_{i,j+1}-u_{i,j-1}}{2h_y} \\cdot \\frac{v_{i+1,j}-v_{i-1,j}}{2h_x} \\\\\n",
    "& -\\frac{v_{i,j+1}-v_{i,j-1}}{2h_y} \\cdot \\frac{v_{i,j+1}-v_{i,j-1}}{2h_y} \\Big]\n",
    "\\end{split}\n",
    "$$\n",
    "\n",
    "Συμβολίζοντας το δεξιό μέλος της εξίσωσης ως $b_{i,j}$, έχουμε σύμφωνα με τη γενική \\\n",
    "αριθμητική λύση της εξίσωσης Poisson:\n",
    "\n",
    "$$\n",
    "\\begin{equation*}\n",
    "p_{i,j} = \\frac{h_x^2(p_{i,j-1} + p_{i,j+1}) + h_y^2(p_{i-1,j}+p_{i+1,j}) -h_x^2h_y^2b_{i,j}}{2(h_x^2 + h_y^2)}\n",
    "\\end{equation*}\n",
    "$$"
   ]
  },
  {
   "attachments": {},
   "cell_type": "markdown",
   "metadata": {},
   "source": [
    "### Δημιουργία των σταθερών του προβλήματος"
   ]
  },
  {
   "cell_type": "code",
   "execution_count": null,
   "metadata": {},
   "outputs": [],
   "source": [
    "rho = 1  # η πυκνότητα του ρευστού\n",
    "A_H = 0.1  # ο συντελεστής διάχυσης"
   ]
  },
  {
   "attachments": {},
   "cell_type": "markdown",
   "metadata": {},
   "source": [
    "### Δημιουργήστε τον x-άξονα\n",
    "\n",
    "$0 \\leq x \\leq 2$\n",
    "\n",
    "$\\delta x = h_x = 0.025$\n",
    "\n",
    "Χρησιμοποιήστε τη συνάρτηση `np.linspace`."
   ]
  },
  {
   "cell_type": "code",
   "execution_count": null,
   "metadata": {},
   "outputs": [],
   "source": [
    "x0 = 0\n",
    "xN = 2\n",
    "hx = 0.025\n",
    "Nx = int((xN - x0) / hx + 1)\n",
    "x = np.linspace(start=x0, stop=xN, num=Nx, endpoint=True, retstep=False)\n"
   ]
  },
  {
   "attachments": {},
   "cell_type": "markdown",
   "metadata": {},
   "source": [
    "### Δημιουργήστε τον y-άξονα\n",
    "\n",
    "$0 \\leq y \\leq 2$\n",
    "\n",
    "$\\delta y = h_y = 0.025$\n",
    "\n",
    "Χρησιμοποιήστε τη συνάρτηση `np.linspace`."
   ]
  },
  {
   "cell_type": "code",
   "execution_count": null,
   "metadata": {},
   "outputs": [],
   "source": [
    "y0 = 0\n",
    "yN = 2\n",
    "hy = 0.025\n",
    "Ny = int((yN - y0) / hy + 1)\n",
    "y = np.linspace(start=y0, stop=yN, num=Ny, endpoint=True, retstep=False)\n"
   ]
  },
  {
   "attachments": {},
   "cell_type": "markdown",
   "metadata": {},
   "source": [
    "### Δημιουργήστε τον t-άξονα\n",
    "\n",
    "$\\delta t = k = 0.001$\n",
    "\n",
    "Χρησιμοποιήστε τη συνάρτηση `np.arange` και 300 χρονικές στιγμές (`Nt=300`).\n"
   ]
  },
  {
   "cell_type": "code",
   "execution_count": null,
   "metadata": {},
   "outputs": [],
   "source": [
    "t0 = 0\n",
    "k = 0.001\n",
    "Nt = 300\n",
    "tN_plus_k = Nt * k\n",
    "t = np.arange(t0, tN_plus_k, k)\n"
   ]
  },
  {
   "attachments": {},
   "cell_type": "markdown",
   "metadata": {},
   "source": [
    "### Δημιουργήστε κενούς 3-D πίνακες για τις εξής παραμέτρους:\n",
    "\n",
    "- Τη ζωνική συνιστώσα της ταχύτητας $u$ (μεταβλητή `u`)\n",
    "\n",
    "- Τη μεσημβρινή συνιστώσα της ταχύτητας $v$ (μεταβλητή `v`)\n",
    "\n",
    "- Την πίεση $p$ (μεταβλητή `p`)\n",
    "\n",
    "- Το δεξιό μέλος της εξίσωσης Poisson $b$ (μεταβλητή `b`) "
   ]
  },
  {
   "cell_type": "code",
   "execution_count": null,
   "metadata": {},
   "outputs": [],
   "source": [
    "u = np.full((Nt, Nx, Ny), np.nan)\n",
    "v = np.full((Nt, Nx, Ny), np.nan)\n",
    "p = np.full((Nt, Nx, Ny), np.nan)\n",
    "b = np.full((Nt, Nx, Ny), np.nan)\n"
   ]
  },
  {
   "attachments": {},
   "cell_type": "markdown",
   "metadata": {},
   "source": [
    "### Αρχικές συνθήκες\n",
    "\n",
    "$u(x, y) = 0\\;$ για $\\;0 < x < 2\\;$ και $\\;0 < y < 2$ \n",
    "\n",
    "$v(x, y) = 0\\;$ για $\\;0 < x < 2\\;$ και $\\;0 < y < 2$ \n",
    "\n",
    "$p(x, y) = 0\\;$ για $\\;0 \\leq x \\leq 2\\;$ και $\\;0 \\leq y \\leq 2$ \n",
    "\n",
    "#### Εισάγετε τις αρχικές συνθήκες στους αντίστοιχους πίνακες"
   ]
  },
  {
   "cell_type": "code",
   "execution_count": null,
   "metadata": {},
   "outputs": [],
   "source": [
    "u[0, 1:-1, 1:-1] = 0\n",
    "v[0, 1:-1, 1:-1] = 0\n",
    "p[0, :, :] = 0"
   ]
  },
  {
   "attachments": {},
   "cell_type": "markdown",
   "metadata": {},
   "source": [
    "### Οριακές συνθήκες\n",
    "\n",
    "- $u = 0  \\;$ για $\\; x=0, \\;x=2, \\;y=0$\n",
    "\n",
    "- $u = 1  \\;$ για $\\; y=2$\n",
    "\n",
    "- $v = 0  \\;$ για $\\; x=0, \\;x=2, \\;y=0, \\;y=2$\n",
    "\n",
    "- $p = 0  \\;$ για $\\; y=2$\n",
    "\n",
    "- $\\frac{\\partial p}{\\partial x}=0$ για $\\; x=0, \\;x=2$\n",
    "\n",
    "- $\\frac{\\partial p}{\\partial y}=0\\;$ για $\\; y=0$\n",
    "\n",
    "#### Εισάγετε τις οριακές συνθήκες στους αντίστοιχους πίνακες\n",
    "\n",
    "Χρησιμοποίηστε εννέα διαδοχικές εντολές, επιλέγοντας τον κατάλληλο πίνακα \\\n",
    "και τις κατάλληλες γραμμές/στήλες κάθε φορά.\n",
    "\n",
    "Αγνοήστε τις οριακές συνθήκες οι οποίες αφορούν τις παραγώγους της πίεσης \\\n",
    "(θα ενσωματωθούν κατά την αριθμητική λύση)."
   ]
  },
  {
   "cell_type": "code",
   "execution_count": null,
   "metadata": {},
   "outputs": [],
   "source": [
    "u[:, 0, :] = 0\n",
    "u[:, -1, :] = 0\n",
    "u[:, :, 0] = 0\n",
    "u[:, :, -1] = 1\n",
    "\n",
    "v[:, 0, :] = 0\n",
    "v[:, -1, :] = 0\n",
    "v[:, :, 0] = 0\n",
    "v[:, :, -1] = 0\n",
    "\n",
    "p[:, :, -1] = 0"
   ]
  },
  {
   "attachments": {},
   "cell_type": "markdown",
   "metadata": {},
   "source": [
    "### Δημιουργήστε μια συνάρτηση για την L2 norm\n",
    "\n",
    "$$\n",
    "\\begin{equation*}\n",
    "d_2(u, u^{previous}) = \\frac{\\sqrt{\\sum_{i, j}\\left(\\left(u_{i,j} - u^{previous}_{i,j}\\right)^2\\right)}}{\\sqrt{\\sum_{i, j} \\left (\\left (u^{previous}_{i,j}\\right)^2\\right)}}\n",
    "\\end{equation*}\n",
    "$$\n",
    "\n",
    "Ονομάστε τη συνάρτηση `l2_norm` και χρησιμοποιήστε τις συναρτήσεις:\n",
    "\n",
    "- `np.sqrt`\n",
    "- `np.sum`"
   ]
  },
  {
   "cell_type": "code",
   "execution_count": null,
   "metadata": {},
   "outputs": [],
   "source": [
    "def l2_norm(u, u_prev):\n",
    "    l2_diff = (\n",
    "        np.sqrt(np.sum((u - u_prev)**2)) /\n",
    "        np.sqrt(np.sum(u_prev**2))\n",
    "    )\n",
    "    return l2_diff\n"
   ]
  },
  {
   "attachments": {},
   "cell_type": "markdown",
   "metadata": {},
   "source": [
    "### Δημιουργία μεταβλητής για το κρίτηριο επίτευξης steady state για το $p$"
   ]
  },
  {
   "cell_type": "code",
   "execution_count": null,
   "metadata": {},
   "outputs": [],
   "source": [
    "thres = 10**(-5)"
   ]
  },
  {
   "attachments": {},
   "cell_type": "markdown",
   "metadata": {},
   "source": [
    "### Αριθμητική λύση\n",
    "\n",
    "Για κάθε χρονική βήμα η μεθοδολογία είναι η ακόλουθη:\n",
    "\n",
    "1. Αρχικά λύνεται επαναληπτικά η εξίσωση Poisson για την πίεση. \\\n",
    "(Για μεγαλύτερη ευκολία υπολογίζεται ξεχωριστά το δεξιό μέλος της εξίσωσης)\n",
    "\n",
    "2. Χρησιμοποιώντας το πεδίο της πίεσης που προκύπτει, επιλύονται στη συνέχεια \\\n",
    "οι δύο εξισώσεις Navier-Stokes.\n",
    "\n",
    "Διερευνήστε ποια τμήματα της αριθμητικής λύσης έχουν προσυμπληρωθεί παρακάτω.\n",
    "\n",
    "Τι αντιπροσωπεύει το καθένα;\n",
    "\n",
    "Συμπληρώστε τα σημεία που λείπουν έτσι ώστε να υπολογιστεί η αριθμητική λύση.\n",
    "\n",
    "Θεωρείστε ότι και οι όροι μεταφοράς έχουν προκύψει από center-difference."
   ]
  },
  {
   "cell_type": "code",
   "execution_count": null,
   "metadata": {},
   "outputs": [],
   "source": [
    "for n in range(Nt - 1):\n",
    "\n",
    "    b[n, 1:-1, 1:-1] = (rho*(\n",
    "        1/(k*2*hx)*(u[n, 2:, 1:-1] - u[n, 0:-2, 1:-1]) +\n",
    "        1/(k*2*hy)*(v[n, 1:-1, 2:] - v[n, 1:-1, 0:-2]) -\n",
    "        (\n",
    "            1/(2*hx)*(u[n, 2:, 1:-1] - u[n, 0:-2, 1:-1])*\n",
    "            1/(2*hx)*(u[n, 2:, 1:-1] - u[n, 0:-2, 1:-1])\n",
    "        ) -\n",
    "        2*(\n",
    "            1/(2*hy)*(u[n, 1:-1, 2:] - u[n, 1:-1, 0:-2])*\n",
    "            1/(2*hx)*(v[n, 2:, 1:-1] - v[n, 0:-2, 1:-1])\n",
    "        ) -\n",
    "        (\n",
    "            1/(2*hy)*(v[n, 1:-1, 2:] - v[n, 1:-1, 0:-2])*\n",
    "            1/(2*hy)*(v[n, 1:-1, 2:] - v[n, 1:-1, 0:-2])\n",
    "        )\n",
    "    ))\n",
    "\n",
    "    if n > 0:\n",
    "        p[n, :, :] = p[n-1, :, :]\n",
    "\n",
    "    diff = 1\n",
    "    while diff > thres:\n",
    "        p_prev = p[n].copy()\n",
    "        \n",
    "        p[n, 1:-1, 1:-1] = (\n",
    "            (\n",
    "                hx**2 * (p[n, 1:-1, 2:] + p[n, 1:-1, 0:-2]) +\n",
    "                hy**2 * (p[n, 2:, 1:-1] + p[n, 0:-2, 1:-1]) -\n",
    "                hx**2*hy**2*b[n, 1:-1, 1:-1]\n",
    "            ) /\n",
    "            (2 * (hx**2 + hy**2))\n",
    "        )\n",
    "        p[n, 0, :] = p[n, 1, :]\n",
    "        p[n, -1, :] = p[n, -2, :] \n",
    "        p[n, :, 0] = p[n, :, 1]\n",
    "\n",
    "        diff = l2_norm(p[n, 1:-1, 1:-1], p_prev[1:-1, 1:-1])\n",
    "\n",
    "    \n",
    "    u[n+1, 1:-1, 1:-1] = (\n",
    "        u[n, 1:-1, 1:-1] -\n",
    "        u[n, 1:-1, 1:-1]*(k/hx)*(u[n, 1:-1, 1:-1] - u[n, 0:-2, 1:-1]) -\n",
    "        v[n, 1:-1, 1:-1]*(k/hy)*(u[n, 1:-1, 1:-1] - u[n, 1:-1, 0:-2]) -\n",
    "\n",
    "        (k/(rho*2*hx))*(p[n, 2:, 1:-1] - p[n, 0:-2, 1:-1]) +\n",
    "        (A_H*k/(hx**2))*(u[n, 0:-2, 1:-1] -2*u[n, 1:-1, 1:-1] + u[n, 2:, 1:-1]) +\n",
    "        (A_H*k/(hy**2))*(u[n, 1:-1, 0:-2] -2*u[n, 1:-1, 1:-1] + u[n, 1:-1, 2:])\n",
    "    )\n",
    "\n",
    "    v[n+1, 1:-1, 1:-1] = (\n",
    "        v[n, 1:-1, 1:-1] -\n",
    "        u[n, 1:-1, 1:-1]*(k/hx)*(v[n, 1:-1, 1:-1] - v[n, 0:-2, 1:-1]) -\n",
    "        v[n, 1:-1, 1:-1]*(k/hy)*(v[n, 1:-1, 1:-1] - v[n, 1:-1, 0:-2]) -\n",
    "\n",
    "        (k/(rho*2*hy))*(p[n, 1:-1, 2:] - p[n, 1:-1, 0:-2]) +\n",
    "        (A_H*k/(hx**2))*(v[n, 0:-2, 1:-1] -2*v[n, 1:-1, 1:-1] + v[n, 2:, 1:-1]) +\n",
    "        (A_H*k/(hy**2))*(v[n, 1:-1, 0:-2] -2*v[n, 1:-1, 1:-1] + v[n, 1:-1, 2:])\n",
    "    )"
   ]
  },
  {
   "attachments": {},
   "cell_type": "markdown",
   "metadata": {},
   "source": [
    "Συμπληρώνουμε την τιμή της πίεσης για την τελευταία χρονική στιγμή, θεωρώντας \\\n",
    "ότι είναι ίση με την προηγούμενη."
   ]
  },
  {
   "cell_type": "code",
   "execution_count": null,
   "metadata": {},
   "outputs": [],
   "source": [
    "p[-1, :, :] = p[-2, :, :]\n"
   ]
  },
  {
   "attachments": {},
   "cell_type": "markdown",
   "metadata": {},
   "source": [
    "### Δημιουργήστε το πλέγμα του προβλήματος\n",
    "\n",
    "\n",
    "Χρησιμοποιήστε τους δύο άξονες (x, y) και τη συνάρτηση `np.meshgrid`\n",
    "\n",
    "Παρατήρηση: \\\n",
    "Δεν θέτουμε την παράμετρο `indexing` του `np.meshgrid` ίση με `\"ij\"` διότι \\\n",
    "δεν είναι συμβατή με τη σχεδιάση των ρευματογραμμών που θα ακολουθήσει."
   ]
  },
  {
   "cell_type": "code",
   "execution_count": null,
   "metadata": {},
   "outputs": [],
   "source": [
    "xx, yy = np.meshgrid(x, y) "
   ]
  },
  {
   "attachments": {},
   "cell_type": "markdown",
   "metadata": {},
   "source": [
    "#### Αναδειγματοληψία ανά 10 χρονικές στιγμές \n",
    "\n",
    "(για μείωση του όγκου των δεδομένων)"
   ]
  },
  {
   "cell_type": "code",
   "execution_count": null,
   "metadata": {},
   "outputs": [],
   "source": [
    "step_for_t_subset = 10\n",
    "\n",
    "u_subset = u[::step_for_t_subset, :, :]\n",
    "v_subset = v[::step_for_t_subset, :, :]\n",
    "p_subset = p[::step_for_t_subset, :, :]"
   ]
  },
  {
   "attachments": {},
   "cell_type": "markdown",
   "metadata": {},
   "source": [
    "### Animation της αριθμητικής λύσης (ρευματογραμμές)"
   ]
  },
  {
   "cell_type": "code",
   "execution_count": null,
   "metadata": {},
   "outputs": [],
   "source": [
    "extent = [np.min(xx), np.max(xx),np.min(yy), np.max(yy)]\n",
    "fig, ax = plt.subplots()\n",
    "plt.close()\n",
    "\n",
    "fig.subplots_adjust(\n",
    "    bottom=0.15,\n",
    "    right=0.825,\n",
    ")\n",
    "\n",
    "colormap = plt.get_cmap(\"plasma\")\n",
    "\n",
    "# δημιουργία σταθερού colorbar\n",
    "img = ax.imshow(np.zeros((1,1)), vmin=-0.2 , vmax=0.2, cmap=colormap)\n",
    "colorbar = fig.colorbar(img, ax=ax, fraction=0.035, extend=\"both\")\n",
    "colorbar.set_label(label=\"Pressure (Pa)\")\n",
    "\n",
    "\n",
    "def animate(i):\n",
    "    ax.clear()\n",
    "    ax.imshow(\n",
    "        np.flipud(p_subset[i].T),\n",
    "        extent=extent,\n",
    "        vmin=-0.2,\n",
    "        vmax=0.2,\n",
    "        cmap=colormap\n",
    "    )\n",
    "    ax.streamplot(\n",
    "        xx,\n",
    "        yy,\n",
    "        u_subset[i].T,\n",
    "        v_subset[i].T,\n",
    "        linewidth=1,\n",
    "        color=\"black\"\n",
    "    )\n",
    "    ax.set_xlabel(\"x\", fontsize=12, fontweight=\"bold\")\n",
    "    ax.set_ylabel(\"y\", fontsize=12, fontweight=\"bold\")\n",
    "    ax.set_xlim(0, 2)\n",
    "    ax.set_ylim(0, 2.05)\n",
    "    ax.set_title(f\"Time: {t[i]:.3f} seconds\", fontweight=\"bold\", loc=\"center\")\n",
    "\n",
    "ani = FuncAnimation(\n",
    "    fig=fig,\n",
    "    func=animate,\n",
    "    frames=u_subset.shape[0],\n",
    "    interval=360,\n",
    "    repeat=False,\n",
    ")\n",
    "plt.close()\n",
    "ani\n"
   ]
  }
 ],
 "metadata": {
  "kernelspec": {
   "display_name": "research",
   "language": "python",
   "name": "python3"
  },
  "language_info": {
   "codemirror_mode": {
    "name": "ipython",
    "version": 3
   },
   "file_extension": ".py",
   "mimetype": "text/x-python",
   "name": "python",
   "nbconvert_exporter": "python",
   "pygments_lexer": "ipython3",
   "version": "3.10.4"
  },
  "orig_nbformat": 4,
  "vscode": {
   "interpreter": {
    "hash": "a64397481a03d3e29229b26c41fe9bf23c6d382d2286036b124a8a7924579d21"
   }
  }
 },
 "nbformat": 4,
 "nbformat_minor": 2
}

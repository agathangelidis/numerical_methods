{
 "cells": [
  {
   "attachments": {},
   "cell_type": "markdown",
   "metadata": {},
   "source": [
    "## Εξίσωση αντίδρασης - διάχυσης\n",
    "________\n"
   ]
  },
  {
   "cell_type": "code",
   "execution_count": null,
   "metadata": {},
   "outputs": [],
   "source": [
    "import numpy as np\n",
    "import matplotlib.pyplot as plt\n",
    "from matplotlib.animation import FuncAnimation\n",
    "\n",
    "plt.style.use(\"default\")\n",
    "plt.rcParams[\"figure.figsize\"] = [5, 4]  # [width_inches, height_inches]\n",
    "plt.rcParams[\"animation.html\"] = \"jshtml\""
   ]
  },
  {
   "attachments": {},
   "cell_type": "markdown",
   "metadata": {},
   "source": [
    "### Εξίσωση αντίδρασης - διάχυσης\n",
    "\n",
    "[Reaction-diffusion equation](https://en.wikipedia.org/wiki/Reaction%E2%80%93diffusion_system)"
   ]
  },
  {
   "attachments": {},
   "cell_type": "markdown",
   "metadata": {},
   "source": [
    "Αποτελεί ένα μαθηματικό μοντέλο το οποίο περιγράφει τις μεταβολές ως προς τον \\\n",
    "χρόνο και τον χώρο φυσικών ποσοτήτων διαφόρων κλάδων, κυρίως της χημείας \\\n",
    "και της βιολογίας.\n",
    "\n",
    "Για παράδειγμα, η εξίσωση αντίδρασης-διάχυσης χρησιμοποιείται για την \\\n",
    "προσομοίωση της συγκέντρωσης χημικών ουσιών ή της πυκνότητας κυττάρων."
   ]
  },
  {
   "attachments": {},
   "cell_type": "markdown",
   "metadata": {},
   "source": [
    "Μοντέλο Gray-Scott\n",
    "\n",
    "$$\n",
    "\\begin{align*}\n",
    "& \\frac{\\partial u}{\\partial t} = D_u \\nabla^2 u - uv^2 + F(1-u) \\\\[20pt]\n",
    "& \\frac{\\partial v}{\\partial t} = D_v \\nabla^2 v + uv^2 - (F+K)v\n",
    "\\end{align*}\n",
    "$$\n",
    "\n",
    "&nbsp;\n",
    "\n",
    "$$\n",
    "\\begin{align*}\n",
    "& U + 2V \\rightarrow 3V \\\\[2pt]\n",
    "& V \\rightarrow P\n",
    "\\end{align*}\n",
    "$$\n",
    "\n",
    "\n",
    "- $U, V, P$: τα χημικά είδη (chemical species)\n",
    "\n",
    "- $u, v$: οι συγκεντρώσεις των $U$, $V$\n",
    "\n",
    "- $D_u, D_v$: οι συντελεστές διάχυσης\n",
    "\n",
    "- $F, K$: οι ρυθμοί αντίδρασης (πόσο γρήγορα ένα είδος δημιουργείται ή εξαφανίζεται)\n",
    "\n",
    "- $uv^2$: η πιθανότητα της αντίδρασης"
   ]
  },
  {
   "attachments": {},
   "cell_type": "markdown",
   "metadata": {},
   "source": [
    "Ο λαπλασιανός τελεστής προσεγγίζεται σε αυτό το πρόβλημα αριθμητικά ως [εξής](https://en.wikipedia.org/wiki/Discrete_Laplace_operator#Implementation_via_operator_discretization):\n",
    "\n",
    "$$\n",
    "\\nabla^2 u^n_{i,j} \\approx u^n_{i,j-1} + u^n_{i-1,j} -4u^n_{i,j} + u^n_{i+1, j} + u^n_{i, j+1}\n",
    "$$\n",
    "\n",
    "$$\n",
    "\\nabla^2 v^n_{i,j} \\approx v^n_{i,j-1} + v^n_{i-1,j} -4v^n_{i,j} + v^n_{i+1, j} + v^n_{i, j+1}\n",
    "$$"
   ]
  },
  {
   "attachments": {},
   "cell_type": "markdown",
   "metadata": {},
   "source": [
    "### Δημιουργία των σταθερών του προβλήματος"
   ]
  },
  {
   "cell_type": "code",
   "execution_count": null,
   "metadata": {},
   "outputs": [],
   "source": [
    "Du = 0.16\n",
    "Dv = 0.08\n",
    "F = 0.035\n",
    "K = 0.060"
   ]
  },
  {
   "attachments": {},
   "cell_type": "markdown",
   "metadata": {},
   "source": [
    "### Δημιουργήστε τον x-άξονα\n",
    "\n",
    "$0 \\leq x \\leq 1$\n",
    "\n",
    "$\\delta x = h_x = 0.004$\n",
    "\n",
    "Χρησιμοποιήστε τη συνάρτηση `np.linspace`."
   ]
  },
  {
   "cell_type": "code",
   "execution_count": null,
   "metadata": {},
   "outputs": [],
   "source": [
    "x0 = 0\n",
    "xN = 1\n",
    "hx = 0.004\n",
    "Nx = int((xN - x0) / hx + 1)\n",
    "x = np.linspace(start=x0, stop=xN, num=Nx, endpoint=True, retstep=False)\n"
   ]
  },
  {
   "attachments": {},
   "cell_type": "markdown",
   "metadata": {},
   "source": [
    "### Δημιουργήστε τον y-άξονα\n",
    "\n",
    "$0 \\leq y \\leq 1$\n",
    "\n",
    "$\\delta y = h_y = 0.004$\n",
    "\n",
    "Χρησιμοποιήστε τη συνάρτηση `np.linspace`."
   ]
  },
  {
   "cell_type": "code",
   "execution_count": null,
   "metadata": {},
   "outputs": [],
   "source": [
    "y0 = 0\n",
    "yN = 1\n",
    "hy = 0.004\n",
    "Ny = int((yN - y0) / hy + 1)\n",
    "y = np.linspace(start=y0, stop=yN, num=Ny, endpoint=True, retstep=False)\n"
   ]
  },
  {
   "attachments": {},
   "cell_type": "markdown",
   "metadata": {},
   "source": [
    "### Δημιουργήστε τον t-άξονα\n",
    "\n",
    "$\\delta t = k = 1$\n",
    "\n",
    "Χρησιμοποιήστε τη συνάρτηση `np.arange` και 3000 χρονικές στιγμές (`Nt=3000`)."
   ]
  },
  {
   "cell_type": "code",
   "execution_count": null,
   "metadata": {},
   "outputs": [],
   "source": [
    "t0 = 0\n",
    "k = 1\n",
    "\n",
    "Nt = 3000\n",
    "tN_plus_k = Nt * k\n",
    "t = np.arange(t0, tN_plus_k, k)\n"
   ]
  },
  {
   "attachments": {},
   "cell_type": "markdown",
   "metadata": {},
   "source": [
    "### Δημιουργήστε κενούς 3-D πίνακες για τα $u, v$"
   ]
  },
  {
   "cell_type": "code",
   "execution_count": null,
   "metadata": {},
   "outputs": [],
   "source": [
    "u = np.full((Nt, Nx, Ny), np.nan)\n",
    "v = np.full((Nt, Nx, Ny), np.nan)\n"
   ]
  },
  {
   "attachments": {},
   "cell_type": "markdown",
   "metadata": {},
   "source": [
    "### Δημιουργήστε το πλέγμα του προβλήματος\n",
    "\n",
    "\n",
    "Χρησιμοποιήστε τους δύο άξονες (x, y) και τη συνάρτηση `np.meshgrid`\n",
    "\n",
    "Να θέσετε την παράμετρο `indexing` του `np.meshgrid` ίση με `\"ij\"` έτσι ώστε να \\\n",
    "τοποθετηθούν με σωστή σειρά οι $x$ και $y$ άξονες."
   ]
  },
  {
   "cell_type": "code",
   "execution_count": null,
   "metadata": {},
   "outputs": [],
   "source": [
    "xx, yy = np.meshgrid(x, y, indexing=\"ij\")\n"
   ]
  },
  {
   "attachments": {},
   "cell_type": "markdown",
   "metadata": {},
   "source": [
    "### Αρχικές συνθήκες\n",
    "\n",
    "$u = 1,$ εκτός από:\n",
    "\n",
    "$\\;0.4 < x < 0.6\\;$ και $\\;0.4 < y < 0.6,\\;$ όπου έχουμε $u = 0.5\\;$\n",
    "\n",
    "&nbsp;\n",
    "\n",
    "$v = 0,$ εκτός από:\n",
    "\n",
    "$\\;0.4 < x < 0.6\\;$ και $\\;0.4 < y < 0.6,\\;$ όπου έχουμε $v = 0.25\\;$\n"
   ]
  },
  {
   "cell_type": "code",
   "execution_count": null,
   "metadata": {},
   "outputs": [],
   "source": [
    "u[0] = 1\n",
    "u[0, (0.4<xx) & (xx<0.6) & (0.4<yy) & (yy<0.6)] = 0.50\n"
   ]
  },
  {
   "attachments": {},
   "cell_type": "markdown",
   "metadata": {},
   "source": [
    "### Εισάγετε τη δεύτερη αρχική συνθήκη"
   ]
  },
  {
   "cell_type": "code",
   "execution_count": null,
   "metadata": {},
   "outputs": [],
   "source": [
    "v[0] = 0\n",
    "v[0, (0.4<xx) & (xx<0.6) & (0.4<yy) & (yy<0.6)] = 0.25\n"
   ]
  },
  {
   "attachments": {},
   "cell_type": "markdown",
   "metadata": {},
   "source": [
    "### 2-D Διάγραμμα\n",
    "\n",
    "### Σχεδιάστε την αρχική κατάσταση της μεταβλητής $u$"
   ]
  },
  {
   "cell_type": "code",
   "execution_count": null,
   "metadata": {},
   "outputs": [],
   "source": [
    "fig, ax = plt.subplots()\n",
    "plt.close()\n",
    "\n",
    "ax.imshow(u[0], vmin=0, vmax=1)\n",
    "fig\n"
   ]
  },
  {
   "attachments": {},
   "cell_type": "markdown",
   "metadata": {},
   "source": [
    "### Αριθμητική λύση\n",
    "\n",
    "Διερευνήστε την αριθμητική λύση του προβλήματος.\n",
    "\n",
    "Τι αντιπροσωπεύει ο κάθε όρος;\n",
    "\n",
    "Παρατηρήστε τις περιοδικές συνθήκες που έχουν εισαχθεί."
   ]
  },
  {
   "cell_type": "code",
   "execution_count": null,
   "metadata": {},
   "outputs": [],
   "source": [
    "for n in range(Nt - 1):\n",
    "\n",
    "    u[n+1, 1:-1, 1:-1] = (\n",
    "        u[n, 1:-1, 1:-1] +\n",
    "        k*Du*(\n",
    "            u[n, 1:-1, 0:-2] + \n",
    "            u[n, 0:-2, 1:-1] - \n",
    "            4*u[n, 1:-1, 1:-1] + \n",
    "            u[n, 2:, 1:-1] +\n",
    "            u[n, 1:-1, 2:]\n",
    "        ) -\n",
    "        k*u[n, 1:-1, 1:-1]*(v[n, 1:-1, 1:-1]**2) +\n",
    "        k*F*(1 - u[n, 1:-1, 1:-1])\n",
    "    )\n",
    "\n",
    "    v[n+1, 1:-1, 1:-1] = (\n",
    "        v[n, 1:-1, 1:-1] +\n",
    "        k*Dv*(\n",
    "            v[n, 1:-1, 0:-2] + \n",
    "            v[n, 0:-2, 1:-1] - \n",
    "            4*v[n, 1:-1, 1:-1] + \n",
    "            v[n, 2:, 1:-1] +\n",
    "            v[n, 1:-1, 2:]\n",
    "        ) +\n",
    "        k*u[n, 1:-1, 1:-1]*(v[n, 1:-1, 1:-1]**2) -\n",
    "        k*(F + K) * v[n, 1:-1, 1:-1]\n",
    "    )\n",
    "    u[n+1, 0, :] = u[n, -2, :]\n",
    "    u[n+1, -1, :] = u[n, 1, :]\n",
    "    u[n+1, :, 0] = u[n, :, -2]\n",
    "    u[n+1, :, -1] = u[n, :, 1]\n",
    "\n",
    "    v[n+1, 0, :] = v[n, -2, :]\n",
    "    v[n+1, -1, :] = v[n, 1, :]\n",
    "    v[n+1, :, 0] = v[n, :, -2]\n",
    "    v[n+1, :, -1] = v[n, :, 1]"
   ]
  },
  {
   "attachments": {},
   "cell_type": "markdown",
   "metadata": {},
   "source": [
    "#### Αναδειγματοληψία ανά 50 χρονικές στιγμές \n",
    "\n",
    "(για μείωση του όγκου των δεδομένων)"
   ]
  },
  {
   "cell_type": "code",
   "execution_count": null,
   "metadata": {},
   "outputs": [],
   "source": [
    "step_for_t_subset = 50\n",
    "\n",
    "u_subset = u[::step_for_t_subset, :, :]\n",
    "v_subset = v[::step_for_t_subset, :, :]"
   ]
  },
  {
   "attachments": {},
   "cell_type": "markdown",
   "metadata": {},
   "source": [
    "### Animation της αριθμητικής λύσης (μεταβλητή $u$)"
   ]
  },
  {
   "cell_type": "code",
   "execution_count": null,
   "metadata": {},
   "outputs": [],
   "source": [
    "fig, ax = plt.subplots()\n",
    "plt.close()\n",
    "\n",
    "colormap = plt.get_cmap(\"viridis\")\n",
    "\n",
    "\n",
    "# δημιουργία σταθερού colorbar\n",
    "img = ax.imshow(np.zeros((1,1)), vmin=0 , vmax=1, cmap=colormap)\n",
    "fig.colorbar(img, ax=ax, fraction=0.025)\n",
    "\n",
    "def animate(i):\n",
    "    ax.clear()\n",
    "\n",
    "    ax.imshow(u_subset[i, :, :].T, vmin=0, vmax=1, cmap=colormap)\n",
    "\n",
    "    ax.set_title(f\"Time: {t[i]:.2f} seconds\", fontweight=\"bold\", loc=\"center\")\n",
    "\n",
    "ani = FuncAnimation(\n",
    "    fig=fig,\n",
    "    func=animate,\n",
    "    frames=u_subset.shape[0],\n",
    "    interval=100,\n",
    "    repeat=False,\n",
    ")\n",
    "plt.close()\n",
    "ani"
   ]
  },
  {
   "attachments": {},
   "cell_type": "markdown",
   "metadata": {},
   "source": [
    "Δοκιμάστε στη συνέχεια τις παρακάτω αρχικές παραμέτρους, τι μοτίβα προκύπτουν;"
   ]
  },
  {
   "attachments": {},
   "cell_type": "markdown",
   "metadata": {},
   "source": [
    "### 1.\n",
    "\n",
    "- $D_u = 0.14$\n",
    "- $D_v = 0.06$\n",
    "- $F = 0.035$\n",
    "- $K = 0.065$\n"
   ]
  },
  {
   "attachments": {},
   "cell_type": "markdown",
   "metadata": {},
   "source": [
    "### 2.\n",
    "\n",
    "- $D_u = 0.16$\n",
    "- $D_v = 0.08$\n",
    "- $F = 0.060$\n",
    "- $K = 0.062$\n"
   ]
  },
  {
   "attachments": {},
   "cell_type": "markdown",
   "metadata": {},
   "source": [
    "### 3.\n",
    "\n",
    "- $D_u = 0.1$\n",
    "- $D_v = 0.05$\n",
    "- $F = 0.0545$\n",
    "- $K = 0.062$\n"
   ]
  }
 ],
 "metadata": {
  "kernelspec": {
   "display_name": "research",
   "language": "python",
   "name": "python3"
  },
  "language_info": {
   "codemirror_mode": {
    "name": "ipython",
    "version": 3
   },
   "file_extension": ".py",
   "mimetype": "text/x-python",
   "name": "python",
   "nbconvert_exporter": "python",
   "pygments_lexer": "ipython3",
   "version": "3.10.4"
  },
  "orig_nbformat": 4,
  "vscode": {
   "interpreter": {
    "hash": "a64397481a03d3e29229b26c41fe9bf23c6d382d2286036b124a8a7924579d21"
   }
  }
 },
 "nbformat": 4,
 "nbformat_minor": 2
}

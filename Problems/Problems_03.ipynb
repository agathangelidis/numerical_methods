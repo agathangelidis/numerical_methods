{
 "cells": [
  {
   "cell_type": "markdown",
   "metadata": {},
   "source": [
    "### Εξίσωση διάδοσης θερμότητας\n",
    "\n",
    "### Explicit μέθοδος\n",
    "\n",
    "### Εφαρμογή οριακών συνθηκών με σταθερή παράγωγο\n",
    "________"
   ]
  },
  {
   "cell_type": "code",
   "execution_count": null,
   "metadata": {},
   "outputs": [],
   "source": [
    "import numpy as np\n",
    "import matplotlib.pyplot as plt\n",
    "from matplotlib.animation import FuncAnimation\n",
    "import pandas as pd\n",
    "\n",
    "\n",
    "plt.style.use(\"default\")\n",
    "plt.rcParams[\"figure.figsize\"] = [5, 2.5]  # [width_inches, height_inches]\n",
    "plt.rcParams[\"animation.html\"] = \"jshtml\"\n"
   ]
  },
  {
   "cell_type": "markdown",
   "metadata": {},
   "source": [
    "Αναζητούμε τη χρονική εξέλιξη της θερμοκρασίας σε ράβδο σιδήρου με \\\n",
    "μονωμένα άκρα."
   ]
  },
  {
   "cell_type": "markdown",
   "metadata": {},
   "source": [
    "Θέλουμε μια αριθμητική λύση της εξίσωσης θερμότητας:\n",
    "\n",
    "$$\n",
    "\\begin{equation*}\n",
    "\\frac{\\partial u}{\\partial t} = \\frac{\\partial^2 u}{\\partial x^2}\n",
    "\\end{equation*}\n",
    "$$\n",
    "\n",
    "Με αρχική θερμοκρασιακή κατανομή (αρχική συνθήκη):\n",
    "\n",
    "$u(x, 0) = sin(\\pi x), \\quad 0 \\leq x \\leq 1$\n",
    "\n",
    "Και με σταθερή παράγωγο της θερμοκρασίας στα δύο άκρα της (οριακές συνθήκες Neumann):\n",
    "\n",
    "$$\n",
    "\\begin{equation*}\n",
    "\\left. \\frac{\\partial T}{\\partial x} \\right|_{x=0} = 0, \\qquad \\left. \\frac{\\partial T}{\\partial x} \\right|_{x=1} = 0\n",
    "\\end{equation*}\n",
    "$$\n"
   ]
  },
  {
   "cell_type": "markdown",
   "metadata": {},
   "source": [
    "### Διακριτοποίηση αξόνων\n",
    "\n",
    "- Χωρικό βήμα: $\\;  δx = h = 1/10$\n",
    "\n",
    "- Χρονικό βήμα: $\\; δt = k = 1/1000$\n",
    "\n",
    "- $r = \\frac{k}{h^2} = 1/10$"
   ]
  },
  {
   "cell_type": "markdown",
   "metadata": {},
   "source": [
    "### Explicit μέθοδος επίλυσης\n",
    "\n",
    "- Forward-difference ως προς το $t$\n",
    "\n",
    "- Centered-difference ως προς το $x$\n",
    "\n",
    "$$\n",
    "\\begin{align*}\n",
    "& \\quad \\; \\frac{\\partial u}{\\partial t} = \\frac{\\partial^2 u}{\\partial x^2} \\\\[15pt]\n",
    "& \\Rightarrow u^{n+1}_i = ru^n_{i-1} + (1 - 2r)ru^n_i + ru^n_{i+1} \\qquad r = \\frac {k}{h^2}\\\\\n",
    "\\end{align*}\n",
    "$$"
   ]
  },
  {
   "cell_type": "markdown",
   "metadata": {},
   "source": [
    "Εφαρμόστε τα αναγκαία βήματα για την επίλυση του παραπάνω προβλήματος"
   ]
  },
  {
   "cell_type": "markdown",
   "metadata": {},
   "source": [
    "### Διακριτοποίηση x-άξονα"
   ]
  },
  {
   "cell_type": "code",
   "execution_count": null,
   "metadata": {},
   "outputs": [],
   "source": []
  },
  {
   "cell_type": "markdown",
   "metadata": {},
   "source": [
    "### Διακριτοποίηση t-άξονα"
   ]
  },
  {
   "cell_type": "code",
   "execution_count": null,
   "metadata": {},
   "outputs": [],
   "source": []
  },
  {
   "cell_type": "markdown",
   "metadata": {},
   "source": [
    "### Δημιουργία πλέγματος"
   ]
  },
  {
   "cell_type": "code",
   "execution_count": null,
   "metadata": {},
   "outputs": [],
   "source": []
  },
  {
   "cell_type": "markdown",
   "metadata": {},
   "source": [
    "### Δημιουργία κενού πίνακα για την αριθμητική λύση"
   ]
  },
  {
   "cell_type": "code",
   "execution_count": null,
   "metadata": {},
   "outputs": [],
   "source": []
  },
  {
   "cell_type": "markdown",
   "metadata": {},
   "source": [
    "### Εφαρμογή αρχικής συνθήκης\n",
    "\n",
    "$u = sin(\\pi x), \\quad t = 0$"
   ]
  },
  {
   "cell_type": "code",
   "execution_count": null,
   "metadata": {},
   "outputs": [],
   "source": []
  },
  {
   "cell_type": "markdown",
   "metadata": {},
   "source": [
    "### Διάγραμμα αρχικής θερμοκρασιακής κατανομής"
   ]
  },
  {
   "cell_type": "code",
   "execution_count": null,
   "metadata": {},
   "outputs": [],
   "source": []
  },
  {
   "cell_type": "markdown",
   "metadata": {},
   "source": [
    "### Συντελεστής $r$\n"
   ]
  },
  {
   "cell_type": "code",
   "execution_count": null,
   "metadata": {},
   "outputs": [],
   "source": []
  },
  {
   "cell_type": "markdown",
   "metadata": {},
   "source": [
    "### Αριθμητική λύση\n",
    "$$\n",
    "\\begin{equation*}\n",
    "u^{n+1}_i = ru^n_{i-1} + (1 - 2r)ru^n_i + ru^n_{i+1}\n",
    "\\end{equation*}\n",
    "$$\n",
    "\n",
    "Οριακή συνθήκη:\n",
    "\n",
    "$$\n",
    "\\begin{equation*}\n",
    "\\left. \\frac{\\partial T}{\\partial x} \\right|_{x=0} = 0, \\qquad \\left. \\frac{\\partial T}{\\partial x} \\right|_{x=1} = 0\n",
    "\\end{equation*}\n",
    "$$"
   ]
  },
  {
   "cell_type": "markdown",
   "metadata": {},
   "source": [
    "Για να εφαρμοστεί η παραπάνω οριακή συνθήκη θα πρέπει να προσθέσουμε στη \\\n",
    "συνήθη αριθμητική λύση τα εξής:\n",
    "\n",
    "    u[n + 1, 0] = u[n + 1, 1]\n",
    "    u[n + 1, -1] = u[n + 1, -2]\n",
    "\n",
    "\n",
    "Δηλαδή η θερμοκρασία στα άκρα της ράβδου είναι ίση με τη θερμοκρασία στο \\\n",
    "γειτονικό τους σημείο.\n",
    "\n",
    "Ως αποτέλεσμα η βαθμίδα της θερμοκρασίας στα άκρα είναι μηδενική \\\n",
    "και η οριακή συνθήκη ικανοποιείται."
   ]
  },
  {
   "cell_type": "code",
   "execution_count": null,
   "metadata": {},
   "outputs": [],
   "source": []
  },
  {
   "cell_type": "markdown",
   "metadata": {},
   "source": [
    "### 2-D animation αριθμητικής λύσης"
   ]
  },
  {
   "cell_type": "code",
   "execution_count": null,
   "metadata": {},
   "outputs": [],
   "source": []
  }
 ],
 "metadata": {
  "kernelspec": {
   "display_name": "Python 3.10.4 ('research')",
   "language": "python",
   "name": "python3"
  },
  "language_info": {
   "codemirror_mode": {
    "name": "ipython",
    "version": 3
   },
   "file_extension": ".py",
   "mimetype": "text/x-python",
   "name": "python",
   "nbconvert_exporter": "python",
   "pygments_lexer": "ipython3",
   "version": "3.10.4"
  },
  "orig_nbformat": 4,
  "vscode": {
   "interpreter": {
    "hash": "a64397481a03d3e29229b26c41fe9bf23c6d382d2286036b124a8a7924579d21"
   }
  }
 },
 "nbformat": 4,
 "nbformat_minor": 2
}

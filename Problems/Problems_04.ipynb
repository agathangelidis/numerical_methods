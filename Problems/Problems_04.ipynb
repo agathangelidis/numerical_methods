{
 "cells": [
  {
   "cell_type": "markdown",
   "metadata": {},
   "source": [
    "## Οριζόντια μεταφορά θερμοκρασίας (1D)\n",
    "________\n"
   ]
  },
  {
   "cell_type": "code",
   "execution_count": 1,
   "metadata": {},
   "outputs": [],
   "source": [
    "import numpy as np\n",
    "import matplotlib.pyplot as plt\n",
    "from matplotlib.animation import FuncAnimation\n",
    "\n",
    "\n",
    "plt.style.use(\"default\")\n",
    "plt.rcParams[\"figure.figsize\"] = [5, 2.5]  # [width_inches, height_inches]\n",
    "plt.rcParams[\"animation.html\"] = \"jshtml\"\n"
   ]
  },
  {
   "cell_type": "markdown",
   "metadata": {},
   "source": [
    "Αναζητούμε την αριθμητική λύση της εξίσωσης μεταφοράς της θερμοκρασίας:\n",
    "\n",
    "$$\n",
    "\\begin{equation*}\n",
    "\\frac{\\partial T}{\\partial t} + c\\frac{\\partial T}{\\partial x} = 0\n",
    "\\end{equation*}\n",
    "$$\n",
    "\n",
    "$ c = 0.2$\n",
    "\n",
    "$0 \\leq x \\leq 1$\n",
    "\n",
    "&nbsp;\n",
    "\n",
    "Αρχική συνθήκη:\n",
    "\n",
    "$T = \\sin(2\\pi x) + 2\\cos(4\\pi x) + 0.2\\quad$ για $\\;t=0$\n",
    "\n",
    "&nbsp;\n",
    "\n",
    "Περιοδικές οριακές συνθήκες:\n",
    "\n",
    "Θεωρούμε ότι το τελευταίο σημείο έχει ως επόμενο το πρώτο και αντίστοιχα \\\n",
    "το πρώτο σημείο έχει ως προηγούμενο το τελευταίο."
   ]
  },
  {
   "cell_type": "markdown",
   "metadata": {},
   "source": [
    "### Διακριτοποίηση αξόνων\n",
    "\n",
    "- Χωρικό βήμα: $\\;  δx = h = 0.05$\n",
    "\n",
    "- Χρονικό βήμα: $\\; δt = k = 0.01$\n",
    "\n"
   ]
  },
  {
   "cell_type": "markdown",
   "metadata": {},
   "source": [
    "### Mέθοδος επίλυσης\n",
    "\n",
    "- Forward-difference ως προς το $t$\n",
    "\n",
    "- Centered-difference προς το $x$"
   ]
  },
  {
   "cell_type": "markdown",
   "metadata": {},
   "source": [
    "$$\n",
    "\\begin{align*}\n",
    "&\\qquad \\frac{\\partial T}{\\partial t} + c\\frac{\\partial T}{\\partial x} = 0 \\\\[15pt]\n",
    "&\\Rightarrow \\frac {T^{n+1}_i - T^n_i}{k} + c\\frac {T^n_{i+1} - T^n_{i-1}}{2h} = 0\\\\[15pt]\n",
    "&\\Rightarrow T_i^{n+1} = T_i^n - c\\frac{k}{2h}(T_{i+1}^n-T_{i-1}^n)\n",
    "\\end{align*}\n",
    "$$\n"
   ]
  },
  {
   "cell_type": "markdown",
   "metadata": {},
   "source": [
    "### Δημιουργήστε τον x-άξονα\n",
    "\n",
    "$0 \\leq x \\leq 1$\n",
    "\n",
    "$δx = h = 0.05$\n",
    "\n",
    "Χρησιμοποιήστε τη συνάρτηση `np.linspace`."
   ]
  },
  {
   "cell_type": "code",
   "execution_count": null,
   "metadata": {},
   "outputs": [],
   "source": []
  },
  {
   "cell_type": "markdown",
   "metadata": {},
   "source": [
    "### Δημιουργήστε τον t-άξονα\n",
    "\n",
    "$\\; δt = k = 0.01$\n",
    "\n",
    "Χρησιμοποιήστε τη συνάρτηση `np.arange` και 100 χρονικές στιγμές (`Nt=100`).\n"
   ]
  },
  {
   "cell_type": "code",
   "execution_count": null,
   "metadata": {},
   "outputs": [],
   "source": []
  },
  {
   "cell_type": "markdown",
   "metadata": {},
   "source": [
    "### Δημιουργήστε έναν κενό 2-D πίνακα `T` για την αριθμητική λύση\n",
    "\n",
    "Χρησιμοποιήστε τη συνάρτηση `np.full` και τη σταθερή τιμή `np.nan`.\n",
    "\n"
   ]
  },
  {
   "cell_type": "code",
   "execution_count": null,
   "metadata": {},
   "outputs": [],
   "source": []
  },
  {
   "cell_type": "markdown",
   "metadata": {},
   "source": [
    "### Εισάγετε την αρχική συνθήκη:\n",
    "\n",
    "$T = \\sin(2\\pi x) + 2\\cos(4\\pi x) + 0.2\\quad$ για $\\;t=0$"
   ]
  },
  {
   "cell_type": "code",
   "execution_count": null,
   "metadata": {},
   "outputs": [],
   "source": []
  },
  {
   "cell_type": "markdown",
   "metadata": {},
   "source": [
    "### Σχεδιάστε την αρχική θερμοκρασιακή κατάσταση ($\\;t = 0\\;$)\n"
   ]
  },
  {
   "cell_type": "code",
   "execution_count": null,
   "metadata": {},
   "outputs": [],
   "source": []
  },
  {
   "cell_type": "markdown",
   "metadata": {},
   "source": [
    "### Δημιουργήστε μια μεταβλητή για το $c$"
   ]
  },
  {
   "cell_type": "code",
   "execution_count": null,
   "metadata": {},
   "outputs": [],
   "source": []
  },
  {
   "cell_type": "markdown",
   "metadata": {},
   "source": [
    "### Αριθμητική λύση της μερικής διαφορικής εξίσωσης\n",
    "\n",
    "$$\n",
    "\\begin{align*}\n",
    "& T_i^{n+1} = T_i^n - c\\frac{k}{2h}(T_{i+1}^n-T_{i-1}^n)\n",
    "\\end{align*}\n",
    "$$\n",
    "\n",
    "Περιοδικές οριακές συνθήκες\n",
    "$$\n",
    "\\begin{align*}\n",
    "& T_0^{n+1} = T_0^n - c\\frac{k}{2h}(T_{1}^n-T_{20}^n) \\\\[15pt]\n",
    "& T_{20}^{n+1} = T_{20}^n - c\\frac{k}{2h}(T_{0}^n-T_{19}^n) \\\\[15pt]\n",
    "\\end{align*}\n",
    "$$"
   ]
  },
  {
   "cell_type": "markdown",
   "metadata": {},
   "source": [
    "Γράψτε την αριθμητική λύση συμπεριλαμβάνοντας τις οριακές συνθήκες:"
   ]
  },
  {
   "cell_type": "code",
   "execution_count": null,
   "metadata": {},
   "outputs": [],
   "source": []
  },
  {
   "cell_type": "markdown",
   "metadata": {},
   "source": [
    "### Δημιουργήστε το animation της αριθμητικής λύσης\n",
    "\n",
    "Χρησιμοποιήστε τα κατάλληλα όρια για τον x-άξονα.\n",
    "\n",
    "Για την παράμετρο `interval` του `FuncAnimation` επιλέξτε την τιμή 15."
   ]
  },
  {
   "cell_type": "code",
   "execution_count": null,
   "metadata": {},
   "outputs": [],
   "source": []
  }
 ],
 "metadata": {
  "kernelspec": {
   "display_name": "Python 3.10.4 ('research')",
   "language": "python",
   "name": "python3"
  },
  "language_info": {
   "codemirror_mode": {
    "name": "ipython",
    "version": 3
   },
   "file_extension": ".py",
   "mimetype": "text/x-python",
   "name": "python",
   "nbconvert_exporter": "python",
   "pygments_lexer": "ipython3",
   "version": "3.10.4"
  },
  "orig_nbformat": 4,
  "vscode": {
   "interpreter": {
    "hash": "a64397481a03d3e29229b26c41fe9bf23c6d382d2286036b124a8a7924579d21"
   }
  }
 },
 "nbformat": 4,
 "nbformat_minor": 2
}

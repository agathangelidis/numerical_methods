{
 "cells": [
  {
   "cell_type": "markdown",
   "metadata": {},
   "source": [
    "## Άσκηση\n",
    "\n",
    "## Κυματική εξίσωση (1D)\n",
    "\n",
    "## Αριθμητική λύση με χρήση πινάκων\n",
    "________\n"
   ]
  },
  {
   "cell_type": "code",
   "execution_count": null,
   "metadata": {},
   "outputs": [],
   "source": [
    "import numpy as np\n",
    "import matplotlib.pyplot as plt\n",
    "from matplotlib.animation import FuncAnimation\n",
    "\n",
    "\n",
    "plt.style.use(\"default\")\n",
    "plt.rcParams[\"figure.figsize\"] = [5, 2.5]  # [width_inches, height_inches]\n",
    "plt.rcParams[\"animation.html\"] = \"jshtml\""
   ]
  },
  {
   "cell_type": "markdown",
   "metadata": {},
   "source": [
    "Αναζητούμε την αριθμητική λύση της κυματικής εξίσωσης σε μια χορδή:\n",
    "\n",
    "$$\n",
    "\\begin{equation*}\n",
    "\\frac{\\partial^2 u}{\\partial t^2} =c^2\\frac{\\partial^2 u}{\\partial x^2}\n",
    "\\end{equation*}\n",
    "$$\n"
   ]
  },
  {
   "cell_type": "markdown",
   "metadata": {},
   "source": [
    "$ c = 2$\n",
    "\n",
    "$ h = 0.2$\n",
    "\n",
    "$0 \\leq x \\leq 1$\n",
    "\n",
    "$ k = 0.05$\n",
    "\n",
    "$ Nt = 40$\n",
    "\n",
    "Οριακές συνθήκες:\n",
    "\n",
    "- $u = e^{-2t},  \\;$ για $\\; x=0$\n",
    "\n",
    "- $u = e^{-1-2t},  \\;$ για $\\; x=1$\n",
    "\n",
    "Αρχικές συνθήκες:\n",
    "\n",
    "- $u = e^{-x},  \\;$ για $\\; t=0$\n",
    "\n",
    "- $\\frac {\\partial u}{\\partial t} = -2e^{-x},  \\;$ για $\\; t=0\\;$\n",
    "\n",
    "Αναλυτική λύση:\n",
    "\n",
    "- $U = e^{-x-2t}$"
   ]
  },
  {
   "cell_type": "markdown",
   "metadata": {},
   "source": [
    "### Δημιουργήστε τον x-άξονα"
   ]
  },
  {
   "cell_type": "code",
   "execution_count": null,
   "metadata": {},
   "outputs": [],
   "source": []
  },
  {
   "cell_type": "markdown",
   "metadata": {},
   "source": [
    "### Δημιουργήστε τον t-άξονα\n"
   ]
  },
  {
   "cell_type": "code",
   "execution_count": null,
   "metadata": {},
   "outputs": [],
   "source": []
  },
  {
   "cell_type": "markdown",
   "metadata": {},
   "source": [
    "### Δημιουργήστε έναν κενό 2-D πίνακα `u` για την αριθμητική λύση"
   ]
  },
  {
   "cell_type": "code",
   "execution_count": null,
   "metadata": {},
   "outputs": [],
   "source": []
  },
  {
   "attachments": {},
   "cell_type": "markdown",
   "metadata": {},
   "source": [
    "### Εισάγετε την πρώτη αρχική συνθήκη στον πίνακα `u`\n"
   ]
  },
  {
   "cell_type": "code",
   "execution_count": null,
   "metadata": {},
   "outputs": [],
   "source": []
  },
  {
   "attachments": {},
   "cell_type": "markdown",
   "metadata": {},
   "source": [
    "### Εισάγετε τις οριακές συνθήκες στον πίνακα `u`"
   ]
  },
  {
   "cell_type": "code",
   "execution_count": null,
   "metadata": {},
   "outputs": [],
   "source": []
  },
  {
   "cell_type": "markdown",
   "metadata": {},
   "source": [
    "### Δημιουργήστε μια μεταβλητή για την ταχύτητα του κύματος $c$"
   ]
  },
  {
   "cell_type": "code",
   "execution_count": null,
   "metadata": {},
   "outputs": [],
   "source": []
  },
  {
   "cell_type": "markdown",
   "metadata": {},
   "source": [
    "### Υπολογίστε τον συντελεστή $r$:\n",
    "$$\n",
    "\\begin{equation*}\n",
    "r=\\frac{ck}{h}\n",
    "\\end{equation*}\n",
    "$$\n"
   ]
  },
  {
   "cell_type": "code",
   "execution_count": null,
   "metadata": {},
   "outputs": [],
   "source": []
  },
  {
   "cell_type": "markdown",
   "metadata": {},
   "source": [
    "### Αριθμητική λύση της μερικής διαφορικής εξίσωσης\n"
   ]
  },
  {
   "cell_type": "markdown",
   "metadata": {},
   "source": [
    "$ u^{n+1}_i = r^2u^n_{i-1} + (2-2r^2)u^n_i + r^2u^n_{i+1}-u^{n-1}_i$\n",
    "\n",
    "\n",
    "Σε μορφή πινάκων:\n",
    "\n",
    "$\\vec{u}^{n+1}_i = A\\vec{u}^{n}_i + \\vec{a}^n_i - \\vec{u}^{n-1}_i$\n",
    "\n",
    "&nbsp;\n",
    "\n",
    "Διαστάσεις πινάκων:\n",
    "\n",
    "$\\vec{u}^{n+1}_i: \\;(N_x - 2)$\n",
    "\n",
    "$A: \\;(N_x - 2) \\times (N_x - 2)$\n",
    "\n",
    "$\\vec{u}^{n}_i: \\;(N_x - 2) $\n",
    "\n",
    "$\\vec{a}^n_i: \\;(N_x - 2)$\n",
    "\n",
    "$\\vec{u}^{n-1}_i: \\;(N_x - 2)$"
   ]
  },
  {
   "cell_type": "markdown",
   "metadata": {},
   "source": [
    "### Για το πρώτο χρονικό βήμα:\n",
    "\n",
    "$u^1_i = \\frac{1}{2}r^2u^0_{i-1} + (1 - r^2)u^0_i + \\frac{1}{2}r^2u^0_{i+1} + kg(x)$\n",
    "\n",
    "Σε μορφή πινάκων:\n",
    "\n",
    "$\\vec{u}^1_i = \\frac{1}{2} A\\vec{u}^0_i + \\frac{1}{2}\\vec{a}^0_i + k\\vec{g}^0_i$\n"
   ]
  },
  {
   "cell_type": "markdown",
   "metadata": {},
   "source": [
    "### Δημιουργήστε έναν μηδενικο πίνακα για το $Α$"
   ]
  },
  {
   "cell_type": "code",
   "execution_count": null,
   "metadata": {},
   "outputs": [],
   "source": []
  },
  {
   "cell_type": "markdown",
   "metadata": {},
   "source": [
    "### Δώστε τις κατάλληλες τιμές στο $Α$"
   ]
  },
  {
   "cell_type": "code",
   "execution_count": null,
   "metadata": {},
   "outputs": [],
   "source": []
  },
  {
   "cell_type": "markdown",
   "metadata": {},
   "source": [
    "### Δημιουργήστε έναν μηδενικο πίνακα για το $a$"
   ]
  },
  {
   "cell_type": "code",
   "execution_count": null,
   "metadata": {},
   "outputs": [],
   "source": []
  },
  {
   "cell_type": "markdown",
   "metadata": {},
   "source": [
    "### Δώστε τις κατάλληλες τιμές στο $a$"
   ]
  },
  {
   "cell_type": "code",
   "execution_count": null,
   "metadata": {},
   "outputs": [],
   "source": []
  },
  {
   "attachments": {},
   "cell_type": "markdown",
   "metadata": {},
   "source": [
    "### Δημιουργήστε έναν μηδενικο πίνακα για το $g$"
   ]
  },
  {
   "cell_type": "code",
   "execution_count": null,
   "metadata": {},
   "outputs": [],
   "source": []
  },
  {
   "cell_type": "markdown",
   "metadata": {},
   "source": [
    "### Δώστε τις κατάλληλες τιμές στο $g$"
   ]
  },
  {
   "cell_type": "code",
   "execution_count": null,
   "metadata": {},
   "outputs": [],
   "source": []
  },
  {
   "cell_type": "markdown",
   "metadata": {},
   "source": [
    "### Υπολογίστε την μετατόπιση της χορδής στο πρώτο χρονικό βήμα\n",
    "\n",
    "$\\vec{u}^1_i = \\frac{1}{2} A\\vec{u}^0_i + \\frac{1}{2}\\vec{a}^0_i + k\\vec{g}^0_i$"
   ]
  },
  {
   "cell_type": "code",
   "execution_count": null,
   "metadata": {},
   "outputs": [],
   "source": []
  },
  {
   "cell_type": "markdown",
   "metadata": {},
   "source": [
    "### Γράψτε την αριθμητική λύση του προβλήματος\n",
    "\n",
    "$\\vec{u}^{n+1}_i = A\\vec{u}^{n}_i + \\vec{a}^n_i - \\vec{u}^{n-1}_i$"
   ]
  },
  {
   "cell_type": "code",
   "execution_count": null,
   "metadata": {},
   "outputs": [],
   "source": []
  },
  {
   "cell_type": "markdown",
   "metadata": {},
   "source": [
    "### Δημιουργήστε το πλέγμα του προβλήματος"
   ]
  },
  {
   "cell_type": "code",
   "execution_count": null,
   "metadata": {},
   "outputs": [],
   "source": []
  },
  {
   "attachments": {},
   "cell_type": "markdown",
   "metadata": {},
   "source": [
    "### Υπολογίστε την αναλυτική λύση στο πλέγμα\n",
    "\n",
    "$U = e^{-x-2t}$"
   ]
  },
  {
   "cell_type": "code",
   "execution_count": null,
   "metadata": {},
   "outputs": [],
   "source": []
  },
  {
   "cell_type": "markdown",
   "metadata": {},
   "source": [
    "### Ελέγξτε μέσω του animation τα αποτελέσματα"
   ]
  },
  {
   "cell_type": "code",
   "execution_count": null,
   "metadata": {},
   "outputs": [],
   "source": [
    "fig, ax = plt.subplots()\n",
    "plt.close()\n",
    "\n",
    "\n",
    "def animate(i):\n",
    "    ax.clear()\n",
    "    ax.plot(x, u[i], color=\"orange\", label=\"numerical\")\n",
    "    ax.plot(x, U[i], color=\"black\", linestyle=\"dashed\", label=\"analytical\")\n",
    "    ax.legend(loc=\"lower right\")\n",
    "    ax.set_ylim([-1 - 0.05, 1 + 0.05])\n",
    "    ax.set_xlabel(\"x\", fontsize=12)\n",
    "    ax.set_title(f\"Time: {t[i]:.1f} seconds\", fontweight=\"bold\", loc=\"center\")\n",
    "\n",
    "ani = FuncAnimation(\n",
    "    fig=fig,\n",
    "    func=animate,\n",
    "    frames=Nt,\n",
    "    interval=100,\n",
    "    repeat=False,\n",
    ")\n",
    "plt.close()\n",
    "ani\n"
   ]
  }
 ],
 "metadata": {
  "kernelspec": {
   "display_name": "Python 3.10.4 ('research')",
   "language": "python",
   "name": "python3"
  },
  "language_info": {
   "codemirror_mode": {
    "name": "ipython",
    "version": 3
   },
   "file_extension": ".py",
   "mimetype": "text/x-python",
   "name": "python",
   "nbconvert_exporter": "python",
   "pygments_lexer": "ipython3",
   "version": "3.10.4"
  },
  "orig_nbformat": 4,
  "vscode": {
   "interpreter": {
    "hash": "a64397481a03d3e29229b26c41fe9bf23c6d382d2286036b124a8a7924579d21"
   }
  }
 },
 "nbformat": 4,
 "nbformat_minor": 2
}

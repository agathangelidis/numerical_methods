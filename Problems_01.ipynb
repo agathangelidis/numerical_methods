{
 "cells": [
  {
   "cell_type": "code",
   "execution_count": null,
   "metadata": {},
   "outputs": [],
   "source": [
    "import numpy as np"
   ]
  },
  {
   "cell_type": "markdown",
   "metadata": {},
   "source": [
    "## Άσκηση 1"
   ]
  },
  {
   "cell_type": "markdown",
   "metadata": {},
   "source": [
    "### 1.1"
   ]
  },
  {
   "cell_type": "markdown",
   "metadata": {},
   "source": [
    "Δημιουργήστε τον παρακάτω πίνακα αξιοποιώντας τις συναρτήσεις:\n",
    "\n",
    "- `np.zeros`\n",
    "- `np.fill_diagonal`\n",
    "- `np.diag`\n",
    "\n",
    "|       | col-0 | col-1 | col-2 | col-3 |\n",
    "| ----- | ----- | ----- | ----- | ----- |\n",
    "| row-0 | 5     | 3     | 0     | 0     |\n",
    "| row-1 | 3     | 5     | 3     | 0     |\n",
    "| row-2 | 0     | 3     | 5     | 3     |\n",
    "| row-3 | 0     | 0     | 3     | 5     |\n"
   ]
  },
  {
   "cell_type": "code",
   "execution_count": null,
   "metadata": {},
   "outputs": [],
   "source": []
  },
  {
   "cell_type": "markdown",
   "metadata": {},
   "source": [
    "### 1.2\n",
    "\n",
    "Στο σημείο που ορίσατε τις μετατοπισμένες διαγώνιους πώς θα μπορούσαν να χρησιμοποιηθούν;\n",
    "\n",
    "- η συνάρτηση `np.repeat`\n",
    "- η μέθοδος `shape`"
   ]
  },
  {
   "cell_type": "code",
   "execution_count": null,
   "metadata": {},
   "outputs": [],
   "source": []
  },
  {
   "cell_type": "markdown",
   "metadata": {},
   "source": [
    "### 1.3\n",
    "\n",
    "Αρχικά δείτε [εδώ](https://stackoverflow.com/questions/47882/what-is-a-magic-number-and-why-is-it-bad) σε τι αναφέρεται ο όρος _magic numbers_  στον προγραμματισμό.\n",
    "\n",
    "Στη συνέχεια προσπαθήστε να αναπροσαρμόσετε τα προηγούμενα βήματα αποφεύγοντάς τους."
   ]
  },
  {
   "cell_type": "code",
   "execution_count": null,
   "metadata": {},
   "outputs": [],
   "source": []
  },
  {
   "cell_type": "markdown",
   "metadata": {},
   "source": [
    "## Άσκηση 2"
   ]
  },
  {
   "cell_type": "markdown",
   "metadata": {},
   "source": [
    "Έχετε τον πίνακα Α:\n",
    "\n",
    "|       | col-0 | col-1 | col-2 | col-3 |\n",
    "| ----- | ----- | ----- | ----- | ----- |\n",
    "| row-0 | 3     | 1     | 3     | 3     |\n",
    "| row-1 | 5     | 4     | 3     | 2     |\n",
    "| row-2 | 1     | 1     | 3     | 3     |\n",
    "\n",
    "και τον πίνακα Β:\n",
    "\n",
    "|       | col-0 | col-1 | col-2 | col-3 |\n",
    "| ----- | ----- | ----- | ----- | ----- |\n",
    "| row-0 | 5     | 10    | 5     | 10    |\n",
    "\n",
    "Μέσω indexing και slicing τροποποιήστε τον Α ώστε:\n",
    "\n",
    "- Αρχικά η πρώτη του γραμμή να γίνει ίση με το διπλάσιο του πίνακα Β\n",
    "- Στη συνέχεια η πρώτη και η τελευταία του στήλη να γίνουν ίσες με 0\n",
    "\n",
    "Δηλαδή στο τέλος ο Α να είναι ίσος με:\n",
    "\n",
    "|       | col-0 | col-1 | col-2 | col-3 |\n",
    "| ----- | ----- | ----- | ----- | ----- |\n",
    "| row-0 | 0     | 20    | 10    | 0     |\n",
    "| row-1 | 0     | 4     | 3     | 0     |\n",
    "| row-2 | 0     | 1     | 3     | 0     |"
   ]
  },
  {
   "cell_type": "code",
   "execution_count": null,
   "metadata": {},
   "outputs": [],
   "source": []
  },
  {
   "cell_type": "markdown",
   "metadata": {},
   "source": [
    "## Άσκηση 3"
   ]
  },
  {
   "cell_type": "markdown",
   "metadata": {},
   "source": [
    "### 3.1\n",
    "\n",
    "Διερευνήστε τη συνάρτηση `np.arange`.\n",
    "\n",
    "Παρατηρήστε τις διαφορές και τις ομοιότητες με το `range`."
   ]
  },
  {
   "cell_type": "code",
   "execution_count": null,
   "metadata": {},
   "outputs": [],
   "source": []
  },
  {
   "cell_type": "markdown",
   "metadata": {},
   "source": [
    "### 3.2\n",
    "\n",
    "Το απείρο αθροίσμα των αντιστρόφων τετραγώνων είναι μια συγκλίνουσα σειρά.\n",
    "\n",
    "$ \\frac{1}{1} + \\frac{1}{4} +\\frac{1}{9} +\\frac{1}{16} + ... = \\frac{\\pi^2}{6} $\n",
    "\n",
    "Πόσοι όροι (προσεγγιστικά) χρειάζονται στο άθροισμα για να επιτευχθεί ακρίβεια 6 δεκαδικών; \n",
    "\n",
    "Χρησιμοποιήστε τις συναρτήσεις `np.arange` και `np.sum`, χωρίς κανένα _for-loop_ σε array."
   ]
  },
  {
   "cell_type": "code",
   "execution_count": null,
   "metadata": {},
   "outputs": [],
   "source": []
  },
  {
   "cell_type": "markdown",
   "metadata": {},
   "source": [
    "## Άσκηση 4"
   ]
  },
  {
   "cell_type": "markdown",
   "metadata": {},
   "source": [
    "### 4.1\n",
    "Θέλουμε να αλλάξουμε κάθε στοιχείο της λίστας ώστε το πρώτο γράμμα να γίνει κεφαλαίο.\n",
    "\n",
    "Ο παρακάτω κώδικας έχει κάποιο λάθος, προσπαθήστε να το διορθώσετε.\n",
    "\n",
    "Γιατί το σφάλμα αναφερόταν σε `NoneType` object;"
   ]
  },
  {
   "cell_type": "code",
   "execution_count": null,
   "metadata": {},
   "outputs": [],
   "source": [
    "names = [\"john\", \"mary\", \"paul\"]\n",
    "names_capitalized = []\n",
    "for name in names:\n",
    "    names_capitalized = names_capitalized.append(name.capitalize())\n",
    "names_capitalized"
   ]
  },
  {
   "cell_type": "markdown",
   "metadata": {},
   "source": [
    "### 4.2\n",
    "\n",
    "Η τεχνική _list comprehensions_ παρέχει έναν εναλλακτικό τρόπο για να τροποποιούμε \n",
    "τα στοιχεία μιας λίστας.\n",
    "\n",
    "Ελέγξτε ότι οι παρακάτω εντολές δίνουν το ίδιο αποτέλεσμα με το διορθωμένο _4.1_:"
   ]
  },
  {
   "cell_type": "code",
   "execution_count": null,
   "metadata": {},
   "outputs": [],
   "source": [
    "names = [\"john\", \"mary\", \"paul\"]\n",
    "names_capitalized = [name.capitalize() for name in names]  # list comprehension\n",
    "names_capitalized"
   ]
  },
  {
   "cell_type": "markdown",
   "metadata": {},
   "source": [
    "### 4.3\n",
    "\n",
    "Χρησιμοποιώντας _list comprehension_ και την κατάλληλη συνάρτηση τροποποιήστε τη λίστα:\n",
    "\n",
    "    [[3, 1, 0], [5, 6, 10]]\n",
    "\n",
    "ώστε να φτιάξετε μία νέα λίστα με τη μορφή:\n",
    "\n",
    "    [array([3, 1, 0]), array([ 5,  6, 10])]"
   ]
  },
  {
   "cell_type": "code",
   "execution_count": null,
   "metadata": {},
   "outputs": [],
   "source": []
  }
 ],
 "metadata": {
  "kernelspec": {
   "display_name": "Python 3.10.4 ('research')",
   "language": "python",
   "name": "python3"
  },
  "language_info": {
   "codemirror_mode": {
    "name": "ipython",
    "version": 3
   },
   "file_extension": ".py",
   "mimetype": "text/x-python",
   "name": "python",
   "nbconvert_exporter": "python",
   "pygments_lexer": "ipython3",
   "version": "3.10.4"
  },
  "orig_nbformat": 4,
  "vscode": {
   "interpreter": {
    "hash": "a64397481a03d3e29229b26c41fe9bf23c6d382d2286036b124a8a7924579d21"
   }
  }
 },
 "nbformat": 4,
 "nbformat_minor": 2
}
